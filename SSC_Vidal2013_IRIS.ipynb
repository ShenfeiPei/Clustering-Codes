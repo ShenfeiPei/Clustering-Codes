{
  "nbformat": 4,
  "nbformat_minor": 0,
  "metadata": {
    "colab": {
      "name": "SSC_Vidal2013_IRIS.ipynb",
      "provenance": [],
      "collapsed_sections": []
    },
    "kernelspec": {
      "display_name": "Python 3",
      "language": "python",
      "name": "python3"
    },
    "language_info": {
      "codemirror_mode": {
        "name": "ipython",
        "version": 3
      },
      "file_extension": ".py",
      "mimetype": "text/x-python",
      "name": "python",
      "nbconvert_exporter": "python",
      "pygments_lexer": "ipython3",
      "version": "3.7.3"
    }
  },
  "cells": [
    {
      "cell_type": "markdown",
      "metadata": {
        "colab_type": "text",
        "id": "DhW6WxwgtBk1"
      },
      "source": [
        "# Sparse Subspace Clustering (Vidal IEEE Trans. on PAMI 2013) on Iris Dataset"
      ]
    },
    {
      "cell_type": "markdown",
      "metadata": {
        "colab_type": "text",
        "id": "t2L05ocWW0kh"
      },
      "source": [
        "**References:**\n",
        "\n",
        "\n",
        "1.   Main Paper (Vidal IEEE Trans. on PAMI 2013): https://arxiv.org/pdf/1203.1005.pdf\n",
        "2.   Supplementary Paper (Vidal CVPR 2009): http://cis.jhu.edu/~ehsan/Downloads/SSC-CVPR09-Ehsan.pdf\n",
        "3.   Spectral Clustering: http://people.csail.mit.edu/dsontag/courses/ml14/notes/Luxburg07_tutorial_spectral_clustering.pdf\n",
        "4.   Spectral Clustering Code: https://juanitorduz.github.io/spectral_clustering/\n",
        "5.   Iris Dataset: https://scikit-learn.org/stable/modules/generated/sklearn.datasets.load_iris.html\n",
        "\n",
        "\n",
        "\n",
        "\n",
        "\n",
        "\n",
        "\n",
        "\n",
        "\n"
      ]
    },
    {
      "cell_type": "markdown",
      "metadata": {
        "colab_type": "text",
        "id": "RbmYLWex6v0o"
      },
      "source": [
        "Our objective is given a set of points drawn from a `union of subspaces`, we need to find the number of subspaces, their dimensions, a basis for each subspace, and the segmentation of the data."
      ]
    },
    {
      "cell_type": "code",
      "metadata": {
        "colab_type": "code",
        "id": "XZThPNGr_vd5",
        "colab": {}
      },
      "source": [
        "import numpy as np\n",
        "import cvxpy as cp\n",
        "from cvxpy.atoms.elementwise.power import power"
      ],
      "execution_count": 2,
      "outputs": []
    },
    {
      "cell_type": "markdown",
      "metadata": {
        "colab_type": "text",
        "id": "t4XgMb2uI9oE"
      },
      "source": [
        "##### Set Parameters of the data space"
      ]
    },
    {
      "cell_type": "code",
      "metadata": {
        "colab_type": "code",
        "id": "8rdHJFmv_yev",
        "colab": {}
      },
      "source": [
        "N = 150 # Total no of points\n",
        "D = 4  # Dimension of space\n",
        "K = 3 # Number of clusters"
      ],
      "execution_count": 3,
      "outputs": []
    },
    {
      "cell_type": "code",
      "metadata": {
        "colab_type": "code",
        "id": "scnY2bC4sG6Q",
        "colab": {}
      },
      "source": [
        "from sklearn.datasets import load_iris\n",
        "iris_data = load_iris()\n",
        "iris_X = np.asarray(iris_data.data)\n",
        "input_data = iris_X.T"
      ],
      "execution_count": 4,
      "outputs": []
    },
    {
      "cell_type": "markdown",
      "metadata": {
        "colab_type": "text",
        "id": "WPE1xClxI_W7"
      },
      "source": [
        "The matrix *input_data* contains the data points arranged sequentially forming a matrix of shape $(4, 150), ie. (D,N)$. The *input_data* matrix is of the form $[y[0],y[1], \\ldots, y[N-1]], $where each $y_i$ denotes the vector of a data point of dimension $D$.\n",
        "\n",
        "Also, *input_data* can be assumed to be of the form $[Y_0, Y_1, \\ldots, Y_n]$, where each $Y_i$ denotes the set of $N_i$ data points belonging to subspace $i$. Also assume that the dimension of each subspace $i$ is $d_i$ and $A_i$ is its basis."
      ]
    },
    {
      "cell_type": "code",
      "metadata": {
        "colab_type": "code",
        "id": "uThqA_EnMbUP",
        "colab": {}
      },
      "source": [
        "def find_sparse_sol(Y,i,N):\n",
        "  if i == 0:\n",
        "    Ybari = Y[:,1:N]\n",
        "  if i == N-1:\n",
        "    Ybari = Y[:,0:N-1]\n",
        "  if i!=0 and i!=N-1:\n",
        "    Ybari = np.concatenate((Y[:,0:i],Y[:,i+1:N]),axis=1)\n",
        "  yi = Y[:,i].reshape(D,1)\n",
        "\n",
        "  # this ci will contain the solution of the l1 optimisation problem:  \n",
        "  # min (||yi - Ybari*ci||F)^2 + lambda*||ci||1   st. sum(ci) = 1\n",
        "\n",
        "  ci = cp.Variable(shape=(N-1,1))\n",
        "  constraint = [cp.sum(ci)==1]\n",
        "  obj = cp.Minimize(power(cp.norm(yi-Ybari@ci,2),2) + 0.082*cp.norm(ci,1)) #lambda = 0.082\n",
        "  prob = cp.Problem(obj, constraint)\n",
        "  prob.solve()\n",
        "  return ci.value"
      ],
      "execution_count": 5,
      "outputs": []
    },
    {
      "cell_type": "markdown",
      "metadata": {
        "id": "CZ3FdpyS96WE",
        "colab_type": "text"
      },
      "source": [
        "The above function `find_sparse_sol` finds the solution to the following optimisation problem $(\\textrm{min} \\; ||y_i - Y_{\\hat{i}}c_i||_{F}^2 + \\lambda||c_i||_1)$ subject to the constraint $\\sum_{i=i}^{N}c_i=1$. We use this optimisation term to *deal with all the possible noise values in the data.*"
      ]
    },
    {
      "cell_type": "code",
      "metadata": {
        "colab_type": "code",
        "id": "ZwXYwvvC_kHS",
        "colab": {
          "base_uri": "https://localhost:8080/",
          "height": 34
        },
        "outputId": "2f076b79-97be-4268-e160-8b3bb9ff5997"
      },
      "source": [
        "C = np.concatenate((np.zeros((1,1)),find_sparse_sol(input_data,0,N)),axis=0)\n",
        "\n",
        "for i in range(1,N):\n",
        "  ci = find_sparse_sol(input_data,i,N)\n",
        "  zero_element = np.zeros((1,1))\n",
        "  cif = np.concatenate((ci[0:i,:],zero_element,ci[i:N,:]),axis=0)\n",
        "  C = np.concatenate((C,cif),axis=1)\n",
        "print(C.shape)"
      ],
      "execution_count": 6,
      "outputs": [
        {
          "output_type": "stream",
          "text": [
            "(150, 150)\n"
          ],
          "name": "stdout"
        }
      ]
    },
    {
      "cell_type": "markdown",
      "metadata": {
        "colab_type": "text",
        "id": "E3cBxKja1e6z"
      },
      "source": [
        "We now include a zero vector of size $(1,1)$ at the $i$ th position of $c_i$ to form $\\hat{c_i}$ which we represent as *cif* in the code.\n",
        "Then we concatenate $[\\hat{c_1}$, $\\hat{c_2}$, ..., $\\hat{c_N}]$ to form the matrix $C$.  \n",
        "\n",
        "$C$ is the *Matrix of Coefficients* and is of the form $C = [\\hat{c_1}, \\hat{c_2}, ..., \\hat{c_N}] \\in \\mathbb{R}^{NXN}$."
      ]
    },
    {
      "cell_type": "code",
      "metadata": {
        "colab_type": "code",
        "id": "NlY4sREA2-d9",
        "colab": {
          "base_uri": "https://localhost:8080/",
          "height": 34
        },
        "outputId": "0494f318-e1b3-4012-b46d-fa91115a5447"
      },
      "source": [
        "W = np.add(np.absolute(C), np.absolute(C.T))\n",
        "print(W.shape)"
      ],
      "execution_count": 7,
      "outputs": [
        {
          "output_type": "stream",
          "text": [
            "(150, 150)\n"
          ],
          "name": "stdout"
        }
      ]
    },
    {
      "cell_type": "code",
      "metadata": {
        "colab_type": "code",
        "id": "PQh2rr72WBrx",
        "colab": {
          "base_uri": "https://localhost:8080/",
          "height": 34
        },
        "outputId": "8d0a9e2c-4102-466a-d016-03cdb4e0016f"
      },
      "source": [
        "# Check sparsity by counting the number of zeros\n",
        "\n",
        "cz = 0\n",
        "for i in range(W.shape[0]):\n",
        "    for j in range(W.shape[1]):\n",
        "        if W[i,j] < 1e-5 and W[i,j] > -1e-5:\n",
        "            cz += 1\n",
        "print(cz)"
      ],
      "execution_count": 8,
      "outputs": [
        {
          "output_type": "stream",
          "text": [
            "1644\n"
          ],
          "name": "stdout"
        }
      ]
    },
    {
      "cell_type": "markdown",
      "metadata": {
        "colab_type": "text",
        "id": "m1L7S6u044O3"
      },
      "source": [
        "In the above code block, we make $C$ a symmetric matrix by the operation $W = |C| + |C^T|$. It is still a valid representation of the similarity since if $y_i$ can write itself as a linear combination of all the points in the same subspace including $y_j$, then $y_j$ can also be represented as a linear combination of all the other points belonging to the same subspace including $c_i$.\n",
        "            In the above code block, we print the number of $0$'s in the matrix $W$, we denote any $|W_{ij}|$ less then $e^{-5}$ as $0$."
      ]
    },
    {
      "cell_type": "code",
      "metadata": {
        "colab_type": "code",
        "id": "WJPCzyQB7EZV",
        "colab": {
          "base_uri": "https://localhost:8080/",
          "height": 134
        },
        "outputId": "5826c720-9153-45ef-c51b-f34f4d52f792"
      },
      "source": [
        "D = np.zeros((N,N))\n",
        "sum_list=[]\n",
        "for i in range(N):\n",
        "  csum = np.sum(W[:,i],axis=0)\n",
        "  sum_list.append(csum)\n",
        "\n",
        "D = np.diag(sum_list)\n",
        "print(D)"
      ],
      "execution_count": 9,
      "outputs": [
        {
          "output_type": "stream",
          "text": [
            "[[1.24708066 0.         0.         ... 0.         0.         0.        ]\n",
            " [0.         1.38384376 0.         ... 0.         0.         0.        ]\n",
            " [0.         0.         1.26239179 ... 0.         0.         0.        ]\n",
            " ...\n",
            " [0.         0.         0.         ... 1.21430676 0.         0.        ]\n",
            " [0.         0.         0.         ... 0.         1.98337482 0.        ]\n",
            " [0.         0.         0.         ... 0.         0.         1.27050197]]\n"
          ],
          "name": "stdout"
        }
      ]
    },
    {
      "cell_type": "markdown",
      "metadata": {
        "colab_type": "text",
        "id": "7W1JwZZF8Ehk"
      },
      "source": [
        "$D$ is the `degree matrix`. In this case, $D \\in \\mathbb{R}^{NxN}$ is a diagonal matrix with $D_{ii} = \\sum_{j}W_{ij}$. "
      ]
    },
    {
      "cell_type": "code",
      "metadata": {
        "colab_type": "code",
        "id": "wbjEg6vPtePP",
        "colab": {
          "base_uri": "https://localhost:8080/",
          "height": 34
        },
        "outputId": "4b54a6d0-3beb-4705-e430-b673eabe84df"
      },
      "source": [
        "L = np.subtract(D, W)\n",
        "print(L.shape)"
      ],
      "execution_count": 10,
      "outputs": [
        {
          "output_type": "stream",
          "text": [
            "(150, 150)\n"
          ],
          "name": "stdout"
        }
      ]
    },
    {
      "cell_type": "markdown",
      "metadata": {
        "colab_type": "text",
        "id": "ntR93B89-PVd"
      },
      "source": [
        "This $L$ is the Laplacian matrix, which can be defined as $L = D - W$. Next, we calculate the `eigenvalues` and `eigenvectors` of the Laplacian matrix, which we will use for Spectral clustering of the data points. $L$ is a *positive, semi-definite matrix* this means all the eigenvalues of the matrix will be greater than equal to $0$."
      ]
    },
    {
      "cell_type": "markdown",
      "metadata": {
        "colab_type": "text",
        "id": "V9-CnwWNXvLl"
      },
      "source": [
        "### Perform Spectral Clustering with Laplacian Matrix L"
      ]
    },
    {
      "cell_type": "code",
      "metadata": {
        "colab_type": "code",
        "id": "DRb2jMuntrii",
        "colab": {}
      },
      "source": [
        "from scipy import linalg\n",
        "\n",
        "eigenvals, eigenvcts = linalg.eig(L)\n",
        "\n",
        "eigenvals = np.real(eigenvals)\n",
        "eigenvcts = np.real(eigenvcts)\n",
        "\n",
        "eig = eigenvals.reshape((N,1))"
      ],
      "execution_count": 11,
      "outputs": []
    },
    {
      "cell_type": "markdown",
      "metadata": {
        "colab_type": "text",
        "id": "q0m-mZwKU3RT"
      },
      "source": [
        "Sort Eigen Values"
      ]
    },
    {
      "cell_type": "code",
      "metadata": {
        "colab_type": "code",
        "id": "cYP8FqrbJBnQ",
        "colab": {}
      },
      "source": [
        "eigenvals_sorted_indices = np.argsort(eigenvals)\n",
        "eigenvals_sorted = eigenvals[eigenvals_sorted_indices]"
      ],
      "execution_count": 12,
      "outputs": []
    },
    {
      "cell_type": "code",
      "metadata": {
        "colab_type": "code",
        "id": "u0QhkBsUun4r",
        "colab": {
          "base_uri": "https://localhost:8080/",
          "height": 67
        },
        "outputId": "3582e818-68d0-4061-863d-b53827b6dadc"
      },
      "source": [
        "indices = []\n",
        "for i in range(0,K):\n",
        "    ind = []\n",
        "    print(eigenvals_sorted_indices[i])\n",
        "    ind.append(eigenvals_sorted_indices[i])\n",
        "    indices.append(np.asarray(ind))"
      ],
      "execution_count": 13,
      "outputs": [
        {
          "output_type": "stream",
          "text": [
            "24\n",
            "25\n",
            "36\n"
          ],
          "name": "stdout"
        }
      ]
    },
    {
      "cell_type": "markdown",
      "metadata": {
        "id": "m5H3WteU96Wl",
        "colab_type": "text"
      },
      "source": [
        "In the above code, we find out the indices of the eigenvectors corresponding to the $K$ smallest eigenvectors."
      ]
    },
    {
      "cell_type": "code",
      "metadata": {
        "colab_type": "code",
        "id": "NO2k7fzRzD7u",
        "colab": {}
      },
      "source": [
        "indices = np.asarray(indices)"
      ],
      "execution_count": 14,
      "outputs": []
    },
    {
      "cell_type": "code",
      "metadata": {
        "colab_type": "code",
        "id": "n4zaFueSviZd",
        "colab": {}
      },
      "source": [
        "zero_eigenvals_index = np.array(indices)"
      ],
      "execution_count": 15,
      "outputs": []
    },
    {
      "cell_type": "markdown",
      "metadata": {
        "colab_type": "text",
        "id": "7Hvtlq10bWu2"
      },
      "source": [
        "Here, the indices are arranged according to their sorted order of values and the sorted eigen values are stored in *eigenvals_sorted*."
      ]
    },
    {
      "cell_type": "code",
      "metadata": {
        "colab_type": "code",
        "id": "r5LywuQNJS-a",
        "colab": {
          "base_uri": "https://localhost:8080/",
          "height": 67
        },
        "outputId": "03ba284a-2660-4f4c-e1a6-2adaf743e4b3"
      },
      "source": [
        "eigenvals[zero_eigenvals_index]"
      ],
      "execution_count": 16,
      "outputs": [
        {
          "output_type": "execute_result",
          "data": {
            "text/plain": [
              "array([[1.33166669e-15],\n",
              "       [3.81158116e-01],\n",
              "       [6.60406524e-01]])"
            ]
          },
          "metadata": {
            "tags": []
          },
          "execution_count": 16
        }
      ]
    },
    {
      "cell_type": "code",
      "metadata": {
        "colab_type": "code",
        "id": "FFRDm3KxJZRq",
        "colab": {
          "base_uri": "https://localhost:8080/",
          "height": 195
        },
        "outputId": "e091e6c9-a701-4195-babe-d701be609f8d"
      },
      "source": [
        "import pandas as pd\n",
        "\n",
        "proj_df = pd.DataFrame(eigenvcts[:, zero_eigenvals_index.squeeze()])\n",
        "proj_df.columns = ['v_' + str(c) for c in proj_df.columns]\n",
        "proj_df.head()"
      ],
      "execution_count": 17,
      "outputs": [
        {
          "output_type": "execute_result",
          "data": {
            "text/html": [
              "<div>\n",
              "<style scoped>\n",
              "    .dataframe tbody tr th:only-of-type {\n",
              "        vertical-align: middle;\n",
              "    }\n",
              "\n",
              "    .dataframe tbody tr th {\n",
              "        vertical-align: top;\n",
              "    }\n",
              "\n",
              "    .dataframe thead th {\n",
              "        text-align: right;\n",
              "    }\n",
              "</style>\n",
              "<table border=\"1\" class=\"dataframe\">\n",
              "  <thead>\n",
              "    <tr style=\"text-align: right;\">\n",
              "      <th></th>\n",
              "      <th>v_0</th>\n",
              "      <th>v_1</th>\n",
              "      <th>v_2</th>\n",
              "    </tr>\n",
              "  </thead>\n",
              "  <tbody>\n",
              "    <tr>\n",
              "      <th>0</th>\n",
              "      <td>0.08165</td>\n",
              "      <td>-0.124575</td>\n",
              "      <td>0.034847</td>\n",
              "    </tr>\n",
              "    <tr>\n",
              "      <th>1</th>\n",
              "      <td>0.08165</td>\n",
              "      <td>-0.108455</td>\n",
              "      <td>0.082008</td>\n",
              "    </tr>\n",
              "    <tr>\n",
              "      <th>2</th>\n",
              "      <td>0.08165</td>\n",
              "      <td>-0.130572</td>\n",
              "      <td>0.004090</td>\n",
              "    </tr>\n",
              "    <tr>\n",
              "      <th>3</th>\n",
              "      <td>0.08165</td>\n",
              "      <td>-0.132622</td>\n",
              "      <td>0.032966</td>\n",
              "    </tr>\n",
              "    <tr>\n",
              "      <th>4</th>\n",
              "      <td>0.08165</td>\n",
              "      <td>-0.124779</td>\n",
              "      <td>-0.040015</td>\n",
              "    </tr>\n",
              "  </tbody>\n",
              "</table>\n",
              "</div>"
            ],
            "text/plain": [
              "       v_0       v_1       v_2\n",
              "0  0.08165 -0.124575  0.034847\n",
              "1  0.08165 -0.108455  0.082008\n",
              "2  0.08165 -0.130572  0.004090\n",
              "3  0.08165 -0.132622  0.032966\n",
              "4  0.08165 -0.124779 -0.040015"
            ]
          },
          "metadata": {
            "tags": []
          },
          "execution_count": 17
        }
      ]
    },
    {
      "cell_type": "markdown",
      "metadata": {
        "colab_type": "text",
        "id": "Qri19uQ4dJBN"
      },
      "source": [
        "Stack the Eigen Vectors corresponding to the zero Eigen Values in a dataframe *proj_df*. This can be thought of as a $N X K$ matrix where the columns denote an eigen vector and the rows denote a data point."
      ]
    },
    {
      "cell_type": "markdown",
      "metadata": {
        "colab_type": "text",
        "id": "HVNDq5caWTO9"
      },
      "source": [
        "Apply *K-Means Clustering* with $K = 3$."
      ]
    },
    {
      "cell_type": "code",
      "metadata": {
        "colab_type": "code",
        "id": "YSsmqs6pJv00",
        "colab": {}
      },
      "source": [
        "from sklearn.cluster import KMeans\n",
        "\n",
        "def run_k_means(df, n_clusters):\n",
        "    k_means = KMeans(random_state=25, n_clusters=n_clusters)\n",
        "    k_means.fit(df)\n",
        "    cluster = k_means.predict(df)\n",
        "    return cluster\n",
        "\n",
        "cluster = run_k_means(proj_df, n_clusters=K)"
      ],
      "execution_count": 18,
      "outputs": []
    },
    {
      "cell_type": "markdown",
      "metadata": {
        "colab_type": "text",
        "id": "pPnf2mI1drid"
      },
      "source": [
        "*run_k_means* applies `K-Means Clustering` on *proj_df* with number of clusters = $3$.The clustering of the data points is returned in the variable *'cluster'*."
      ]
    },
    {
      "cell_type": "markdown",
      "metadata": {
        "colab_type": "text",
        "id": "fwOidi1bWjem"
      },
      "source": [
        "Display clusters formed"
      ]
    },
    {
      "cell_type": "code",
      "metadata": {
        "colab_type": "code",
        "id": "jLRKyRkfJ_U5",
        "colab": {
          "base_uri": "https://localhost:8080/",
          "height": 101
        },
        "outputId": "95c75ebd-2c40-427a-ec1e-a77a360f2f10"
      },
      "source": [
        "print(cluster)"
      ],
      "execution_count": 19,
      "outputs": [
        {
          "output_type": "stream",
          "text": [
            "[1 1 1 1 1 1 1 1 1 1 1 1 1 1 1 1 1 1 1 1 1 1 1 1 1 1 1 1 1 1 1 1 1 1 1 1 1\n",
            " 1 1 1 1 1 1 1 1 1 1 1 1 1 2 0 2 2 2 0 0 2 2 0 2 0 2 2 0 2 0 2 2 2 0 2 2 2\n",
            " 2 2 2 2 0 2 2 2 2 0 0 0 2 2 0 2 2 0 2 2 2 0 0 2 0 2 0 0 0 0 0 2 0 2 2 0 0\n",
            " 0 0 0 0 0 0 0 2 2 0 0 2 2 0 2 0 0 0 2 2 0 0 2 2 2 0 0 0 0 0 0 0 0 0 0 2 0\n",
            " 0 0]\n"
          ],
          "name": "stdout"
        }
      ]
    },
    {
      "cell_type": "markdown",
      "metadata": {
        "colab_type": "text",
        "id": "QHQACwpQed8s"
      },
      "source": [
        "As we can see, the data points have been clustered into two subspaces: $0,1 \\, \\textrm{and} \\, 2$ corresponding to the $3$ subspaces that we have considered. "
      ]
    },
    {
      "cell_type": "code",
      "metadata": {
        "colab_type": "code",
        "id": "3smn0NN4Kbk7",
        "colab": {
          "base_uri": "https://localhost:8080/",
          "height": 34
        },
        "outputId": "885cba8c-1cd8-4757-d55b-c0c61f915caa"
      },
      "source": [
        "c0 = 0\n",
        "for l in cluster:\n",
        "  if l == 0:\n",
        "    c0 += 1\n",
        "print(c0)"
      ],
      "execution_count": 20,
      "outputs": [
        {
          "output_type": "stream",
          "text": [
            "53\n"
          ],
          "name": "stdout"
        }
      ]
    },
    {
      "cell_type": "code",
      "metadata": {
        "colab_type": "code",
        "id": "F7f1v-_bofIE",
        "colab": {
          "base_uri": "https://localhost:8080/",
          "height": 34
        },
        "outputId": "048d7bfd-ca60-4623-c6e4-58723309d38e"
      },
      "source": [
        "c1 = 0\n",
        "for l in cluster:\n",
        "  if l == 1:\n",
        "    c1 += 1\n",
        "print(c1)"
      ],
      "execution_count": 21,
      "outputs": [
        {
          "output_type": "stream",
          "text": [
            "50\n"
          ],
          "name": "stdout"
        }
      ]
    },
    {
      "cell_type": "code",
      "metadata": {
        "colab_type": "code",
        "id": "jvdHX2_lok3p",
        "colab": {
          "base_uri": "https://localhost:8080/",
          "height": 34
        },
        "outputId": "04b0f636-56d3-4f5e-f953-6f32c2bb8b9e"
      },
      "source": [
        "c2 = 0\n",
        "for l in cluster:\n",
        "  if l == 2:\n",
        "    c2 += 1\n",
        "print(c2)"
      ],
      "execution_count": 22,
      "outputs": [
        {
          "output_type": "stream",
          "text": [
            "47\n"
          ],
          "name": "stdout"
        }
      ]
    },
    {
      "cell_type": "markdown",
      "metadata": {
        "colab_type": "text",
        "id": "H36SQElze54g"
      },
      "source": [
        "$53$ data points have been labelled to the 1st subspace, $50$ data points have been labelled to the 2nd subspace and $47$ data points have been labelled to the 3rd subspace."
      ]
    },
    {
      "cell_type": "code",
      "metadata": {
        "colab_type": "code",
        "id": "nU6VYuVgwTBx",
        "colab": {}
      },
      "source": [
        "orig = iris_data.target"
      ],
      "execution_count": 23,
      "outputs": []
    },
    {
      "cell_type": "code",
      "metadata": {
        "colab_type": "code",
        "id": "Bx0uk4fAwZek",
        "colab": {}
      },
      "source": [
        "pred = np.asarray(cluster)"
      ],
      "execution_count": 24,
      "outputs": []
    },
    {
      "cell_type": "code",
      "metadata": {
        "colab_type": "code",
        "id": "tRV6m17FxNr4",
        "colab": {
          "base_uri": "https://localhost:8080/",
          "height": 50
        },
        "outputId": "ddc02ce1-f4ef-4c7f-bacd-2f2a4c2ea29e"
      },
      "source": [
        "from sklearn.metrics import adjusted_rand_score\n",
        "from sklearn.metrics import normalized_mutual_info_score\n",
        "print(\"ARI = \" + str(adjusted_rand_score(orig, pred)))\n",
        "print(\"NMI = \" + str(normalized_mutual_info_score(orig, pred)))"
      ],
      "execution_count": 25,
      "outputs": [
        {
          "output_type": "stream",
          "text": [
            "ARI = 0.5666502143559329\n",
            "NMI = 0.6248401785062485\n"
          ],
          "name": "stdout"
        }
      ]
    },
    {
      "cell_type": "markdown",
      "metadata": {
        "id": "EAySwbU4AVGw",
        "colab_type": "text"
      },
      "source": [
        "In the above code block, we calculate the `Adjusted random score` and the `normalized mutual info score` between the `original` and the `predicted` labels for the various data points."
      ]
    },
    {
      "cell_type": "code",
      "metadata": {
        "id": "p2lORg-gAVrP",
        "colab_type": "code",
        "colab": {}
      },
      "source": [
        ""
      ],
      "execution_count": 25,
      "outputs": []
    }
  ]
}