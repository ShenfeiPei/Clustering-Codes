{
  "nbformat": 4,
  "nbformat_minor": 0,
  "metadata": {
    "colab": {
      "name": "SSC_Vidal2013_IRIS.ipynb",
      "provenance": [],
      "collapsed_sections": []
    },
    "kernelspec": {
      "name": "python3",
      "display_name": "Python 3"
    }
  },
  "cells": [
    {
      "cell_type": "markdown",
      "metadata": {
        "id": "DhW6WxwgtBk1",
        "colab_type": "text"
      },
      "source": [
        "#Sparse Subspace Clustering (Vidal IEEE Trans. on PAMI 2013)"
      ]
    },
    {
      "cell_type": "markdown",
      "metadata": {
        "id": "t2L05ocWW0kh",
        "colab_type": "text"
      },
      "source": [
        "**References:**\n",
        "\n",
        "\n",
        "1.   Main Paper (Vidal IEEE Trans. on PAMI 2013): https://arxiv.org/pdf/1203.1005.pdf\n",
        "2.   Supplementary Paper (Vidal CVPR 2009): http://cis.jhu.edu/~ehsan/Downloads/SSC-CVPR09-Ehsan.pdf\n",
        "3.   Spectral Clustering: http://people.csail.mit.edu/dsontag/courses/ml14/notes/Luxburg07_tutorial_spectral_clustering.pdf\n",
        "4.   Spectral Clustering Code: https://juanitorduz.github.io/spectral_clustering/\n",
        "\n",
        "\n",
        "\n",
        "\n",
        "\n",
        "\n",
        "\n",
        "\n",
        "\n"
      ]
    },
    {
      "cell_type": "markdown",
      "metadata": {
        "id": "RbmYLWex6v0o",
        "colab_type": "text"
      },
      "source": [
        "Our objective is given a set of points drawn from a `union of subspaces`, we need to find the number of subspaces, their dimensions, a basis for each subspace, and the segmentation of the data."
      ]
    },
    {
      "cell_type": "markdown",
      "metadata": {
        "id": "Yd_W99xU-35G",
        "colab_type": "text"
      },
      "source": [
        "Let all the points be from $D$ dimensional space, here, for our use, we consider the value of $D$ to be $10$. Let us consider that we have $N=100$ $D$ dimensional data points."
      ]
    },
    {
      "cell_type": "code",
      "metadata": {
        "id": "XZThPNGr_vd5",
        "colab_type": "code",
        "colab": {}
      },
      "source": [
        "import numpy as np\n",
        "import cvxpy as cp\n",
        "from cvxpy.atoms.elementwise.power import power"
      ],
      "execution_count": 127,
      "outputs": []
    },
    {
      "cell_type": "markdown",
      "metadata": {
        "id": "t4XgMb2uI9oE",
        "colab_type": "text"
      },
      "source": [
        "##### Set Parameters of the data space"
      ]
    },
    {
      "cell_type": "code",
      "metadata": {
        "id": "8rdHJFmv_yev",
        "colab_type": "code",
        "colab": {}
      },
      "source": [
        "N = 150 # Total no of points\n",
        "D = 4  # Dimension of space\n",
        "K = 3 # Number of clusters"
      ],
      "execution_count": 128,
      "outputs": []
    },
    {
      "cell_type": "code",
      "metadata": {
        "id": "scnY2bC4sG6Q",
        "colab_type": "code",
        "colab": {}
      },
      "source": [
        "from sklearn.datasets import load_iris\n",
        "iris_data = load_iris()\n",
        "iris_X = np.asarray(iris_data.data)\n",
        "input_data = iris_X.T"
      ],
      "execution_count": 129,
      "outputs": []
    },
    {
      "cell_type": "markdown",
      "metadata": {
        "id": "WPE1xClxI_W7",
        "colab_type": "text"
      },
      "source": [
        "In the $Y_i$ numpy array, we have $N_i$, $D$ dimensional data points i.e. the array $Y$ contains the collection of data points. We need to find out the value of $n$ which is the number of subspaces from which they have been sampled, $d_i$ which is the dimension of each subspace, $A_i$ which will be the basis for each subspace.\n",
        "\n",
        "The matrix $Y$ contains the data points arranged sequentially forming a matrix of shape $(D,N)$. The $Y$ matrix is of the form $[y[0],y[1], \\ldots, y[N-1]], $where each $y_i$ denotes the vector of data point."
      ]
    },
    {
      "cell_type": "code",
      "metadata": {
        "id": "uThqA_EnMbUP",
        "colab_type": "code",
        "colab": {}
      },
      "source": [
        "# def find_sparse_sol(Y,i,N):\n",
        "#   if i is 0:\n",
        "#     Ybari = Y[:,1:N]\n",
        "#   if i is N-1:\n",
        "#     Ybari = Y[:,0:N-1]\n",
        "#   if i!=0 and i!=N-1:\n",
        "#     Ybari = np.concatenate((Y[:,0:i],Y[:,i+1:N]),axis=1)\n",
        "#   yi = Y[:,i].reshape(D,1)\n",
        "#   # this ci will contain the solution of the l1 optimisation problem  min |ci|1   yi = Ybari*ci\n",
        "#   ci = cp.Variable(shape=(N-1,1))\n",
        "#   constraint = [Ybari * ci == yi]\n",
        "#   obj = cp.Minimize(cp.norm(ci,1))\n",
        "#   prob = cp.Problem(obj, constraint)\n",
        "#   prob.solve()\n",
        "#   return ci.value\n",
        "def find_sparse_sol(Y,i,N):\n",
        "  if i is 0:\n",
        "    Ybari = Y[:,1:N]\n",
        "  if i is N-1:\n",
        "    Ybari = Y[:,0:N-1]\n",
        "  if i!=0 and i!=N-1:\n",
        "    Ybari = np.concatenate((Y[:,0:i],Y[:,i+1:N]),axis=1)\n",
        "  yi = Y[:,i].reshape(D,1)\n",
        "  # this ci will contain the solution of the l1 optimisation problem  min |ci|1   yi = Ybari*ci\n",
        "  ci = cp.Variable(shape=(N-1,1))\n",
        "  constraint = [cp.sum(ci)==1] #Ybari * ci == yi, \n",
        "  obj = cp.Minimize(power(cp.norm(yi-Ybari*ci,2),2) + 0.082*cp.norm(ci,1))\n",
        "  prob = cp.Problem(obj, constraint)\n",
        "  prob.solve()\n",
        "  return ci.value"
      ],
      "execution_count": 130,
      "outputs": []
    },
    {
      "cell_type": "code",
      "metadata": {
        "id": "pwuT-LuIS38N",
        "colab_type": "code",
        "colab": {
          "base_uri": "https://localhost:8080/",
          "height": 34
        },
        "outputId": "2b6b46b7-d3af-4286-fb90-82f4c5a66cda"
      },
      "source": [
        "ci = find_sparse_sol(input_data,2,N)\n",
        "count = 0\n",
        "for i in range(N-1):\n",
        "  if ci[i,:]!=0:\n",
        "    count += 1\n",
        "print(count)"
      ],
      "execution_count": 131,
      "outputs": [
        {
          "output_type": "stream",
          "text": [
            "149\n"
          ],
          "name": "stdout"
        }
      ]
    },
    {
      "cell_type": "markdown",
      "metadata": {
        "id": "r-SZ0G0wKG9v",
        "colab_type": "text"
      },
      "source": [
        "The function `find_sparse_sol` finds the coefficients for the equation $y_i == Y_{\\hat{i}} * c_i$. The method will return the $c_i$ coefficient vector for the removal of the $y_i$ vector from the data matrix. This $c_i$ vector will contain non zero coefficients for all the other points which are in the same subspace as $y_i$. So, among the $N-1$ column entries, $N_i - 1$ entries will be non zero. The remaining entries will be $0$."
      ]
    },
    {
      "cell_type": "code",
      "metadata": {
        "id": "ZwXYwvvC_kHS",
        "colab_type": "code",
        "colab": {
          "base_uri": "https://localhost:8080/",
          "height": 34
        },
        "outputId": "5aa688ef-cf87-4b26-a6e4-e6b8a66de258"
      },
      "source": [
        "C = np.concatenate((np.zeros((1,1)),find_sparse_sol(input_data,0,N)),axis=0)\n",
        "\n",
        "for i in range(1,N):\n",
        "  ci = find_sparse_sol(input_data,i,N)\n",
        "  zero_element = np.zeros((1,1))\n",
        "  cif = np.concatenate((ci[0:i,:],zero_element,ci[i:N,:]),axis=0)\n",
        "  C = np.concatenate((C,cif),axis=1)\n",
        "print(C.shape)"
      ],
      "execution_count": 132,
      "outputs": [
        {
          "output_type": "stream",
          "text": [
            "(150, 150)\n"
          ],
          "name": "stdout"
        }
      ]
    },
    {
      "cell_type": "markdown",
      "metadata": {
        "id": "E3cBxKja1e6z",
        "colab_type": "text"
      },
      "source": [
        "We now include a zero vector of size $(1,1)$ at the $i$ th position of $c_i$ to form $\\hat{c_i}$ which we represent as *cif* in the code.\n",
        "Then we concatenate $[\\hat{c_1}$, $\\hat{c_2}$, ..., $\\hat{c_N}]$ to form the matrix $C$.  \n",
        "\n",
        "$C$ is the *Matrix of Coefficients* and is of the form $C = [\\hat{c_1}, \\hat{c_2}, ..., \\hat{c_N}] \\in \\mathbb{R}^{NXN}$."
      ]
    },
    {
      "cell_type": "code",
      "metadata": {
        "id": "NlY4sREA2-d9",
        "colab_type": "code",
        "colab": {
          "base_uri": "https://localhost:8080/",
          "height": 34
        },
        "outputId": "86858267-0daf-4a50-fce4-363e82e43cfd"
      },
      "source": [
        "Cp = np.zeros((C.shape[0], C.shape[1]))\n",
        "for i in range(N):\n",
        "  for j in range(N):\n",
        "    Cp[i,j] = abs(C[i,j]) + abs(C[j,i])\n",
        "\n",
        "print(Cp.shape)"
      ],
      "execution_count": 133,
      "outputs": [
        {
          "output_type": "stream",
          "text": [
            "(150, 150)\n"
          ],
          "name": "stdout"
        }
      ]
    },
    {
      "cell_type": "code",
      "metadata": {
        "id": "PQh2rr72WBrx",
        "colab_type": "code",
        "colab": {
          "base_uri": "https://localhost:8080/",
          "height": 34
        },
        "outputId": "b26c9724-bd2d-4feb-aeec-edaebf145983"
      },
      "source": [
        "cz = 0\n",
        "for i in range(Cp.shape[0]):\n",
        "    for j in range(Cp.shape[1]):\n",
        "        if Cp[i,j] < 1e-5:\n",
        "            cz += 1\n",
        "print(cz)"
      ],
      "execution_count": 134,
      "outputs": [
        {
          "output_type": "stream",
          "text": [
            "1644\n"
          ],
          "name": "stdout"
        }
      ]
    },
    {
      "cell_type": "markdown",
      "metadata": {
        "id": "m1L7S6u044O3",
        "colab_type": "text"
      },
      "source": [
        "In the above code block, we make $C$ a symmetric matrix by the operation $C_{ij} = |C_{ij}| + |C_{ji}|$. It is still a valid representation of the similarity since if $y_i$ can write itself as a linear combination of all the points in the same subspace including $y_j$, then $y_j$ can also be represented as a linear combination of all the other points belonging to the same subspace including $c_i$."
      ]
    },
    {
      "cell_type": "code",
      "metadata": {
        "id": "WJPCzyQB7EZV",
        "colab_type": "code",
        "colab": {
          "base_uri": "https://localhost:8080/",
          "height": 134
        },
        "outputId": "fe80f1ac-2f0b-4c8e-f4b7-0c10ac0d257d"
      },
      "source": [
        "D = np.zeros((N,N))\n",
        "sum_list=[]\n",
        "for i in range(N):\n",
        "  csum = np.sum(Cp[:,i],axis=0)\n",
        "  sum_list.append(csum)\n",
        "\n",
        "D = np.diag(sum_list)\n",
        "print(D)"
      ],
      "execution_count": 135,
      "outputs": [
        {
          "output_type": "stream",
          "text": [
            "[[1.24708066 0.         0.         ... 0.         0.         0.        ]\n",
            " [0.         1.38384376 0.         ... 0.         0.         0.        ]\n",
            " [0.         0.         1.26239179 ... 0.         0.         0.        ]\n",
            " ...\n",
            " [0.         0.         0.         ... 1.21430676 0.         0.        ]\n",
            " [0.         0.         0.         ... 0.         1.98337482 0.        ]\n",
            " [0.         0.         0.         ... 0.         0.         1.27050197]]\n"
          ],
          "name": "stdout"
        }
      ]
    },
    {
      "cell_type": "markdown",
      "metadata": {
        "id": "7W1JwZZF8Ehk",
        "colab_type": "text"
      },
      "source": [
        "$D$ is the `degree matrix`. In this case, $D \\in \\mathbb{R}^{NxN}$ is a diagonal matrix with $D_{ii} = \\sum_{j}C_{ij}$. "
      ]
    },
    {
      "cell_type": "code",
      "metadata": {
        "id": "wbjEg6vPtePP",
        "colab_type": "code",
        "colab": {
          "base_uri": "https://localhost:8080/",
          "height": 34
        },
        "outputId": "12a018ee-a328-46df-fc9a-fd244d815b6e"
      },
      "source": [
        "L = np.subtract(D, Cp)\n",
        "print(L.shape)"
      ],
      "execution_count": 136,
      "outputs": [
        {
          "output_type": "stream",
          "text": [
            "(150, 150)\n"
          ],
          "name": "stdout"
        }
      ]
    },
    {
      "cell_type": "markdown",
      "metadata": {
        "id": "ntR93B89-PVd",
        "colab_type": "text"
      },
      "source": [
        "This $L$ is the Laplacian matrix, which can be defined as $L = D - C$. Next, we calculate the `eigenvalues` and `eigenvectors` of the Laplacian matrix, which we will use for Spectral clustering of the data points. $L$ is a *positive, semi-definite matrix* this means all the eigenvalues of the matrix will be greater than equal to $0$."
      ]
    },
    {
      "cell_type": "markdown",
      "metadata": {
        "id": "V9-CnwWNXvLl",
        "colab_type": "text"
      },
      "source": [
        "### Perform Spectral Clustering with Laplacian Matrix L"
      ]
    },
    {
      "cell_type": "code",
      "metadata": {
        "id": "DRb2jMuntrii",
        "colab_type": "code",
        "colab": {}
      },
      "source": [
        "from scipy import linalg\n",
        "\n",
        "eigenvals, eigenvcts = linalg.eig(L)\n",
        "\n",
        "eigenvals = np.real(eigenvals)\n",
        "eigenvcts = np.real(eigenvcts)\n",
        "\n",
        "eig = eigenvals.reshape((N,1))"
      ],
      "execution_count": 137,
      "outputs": []
    },
    {
      "cell_type": "code",
      "metadata": {
        "id": "0UUcEVK7zHI5",
        "colab_type": "code",
        "colab": {
          "base_uri": "https://localhost:8080/",
          "height": 54
        },
        "outputId": "61642ca8-75e5-4160-efa7-c4e364887c69"
      },
      "source": [
        "eig_list=[]\n",
        "for x in eig:\n",
        "  eig_list.append(x[0])\n",
        "\n",
        "eig_list.sort()\n",
        "print(eig_list)"
      ],
      "execution_count": 138,
      "outputs": [
        {
          "output_type": "stream",
          "text": [
            "[1.3316666854801256e-15, 0.3811581158235885, 0.6604065241820902, 0.6754057727942127, 0.7225771343874836, 0.7607450498017398, 0.8218097216959224, 0.9044513332565574, 0.9192952629796827, 0.9701143232596151, 0.9945014175372842, 1.0169484278178418, 1.0384098835274393, 1.0582806865502363, 1.0859489990011792, 1.087225061248286, 1.1050558187523045, 1.1093262583934311, 1.113140150763878, 1.1350833237621403, 1.143517219423256, 1.1605993180801848, 1.1688699327700127, 1.1721358347826056, 1.1832239897428838, 1.1867991885515856, 1.1906640819879393, 1.192323208304266, 1.1941305112230047, 1.1994003226716334, 1.2004669216065813, 1.203959485707678, 1.2045276967425456, 1.205228768125977, 1.207238657303304, 1.2081349396542995, 1.2086536807049637, 1.2089358048154568, 1.2100016103707059, 1.2107633048021638, 1.2117879029784429, 1.2134001314246388, 1.2149554642350164, 1.215150266692887, 1.2159217522007706, 1.216736093841525, 1.2187231531465819, 1.2202962229781478, 1.221325590698924, 1.2222274712415135, 1.2232827272642066, 1.2241059392314642, 1.2251742500418397, 1.2270001390165328, 1.2278945313464897, 1.2284726101207104, 1.2295744517656162, 1.2299681277132946, 1.2325851104770043, 1.233770774921068, 1.2354400826021266, 1.2381369563632767, 1.2403566408023827, 1.2418465202953857, 1.2419917990684017, 1.2429662301618067, 1.2438903181320706, 1.2444251162666722, 1.2476119590125, 1.2504055070585254, 1.252162305386397, 1.2530728026584899, 1.2533726496822641, 1.2551198307542832, 1.2558303577684353, 1.2571262024976675, 1.2580697835755184, 1.2587523579328224, 1.2594197483919765, 1.2606654139460975, 1.2623395869744158, 1.2656348131777708, 1.2671492132486863, 1.2695854187892426, 1.2701249726440793, 1.2758868478315426, 1.2768227868189994, 1.2797568680247242, 1.2813442208674817, 1.288824505971005, 1.29868752926308, 1.303277748373468, 1.315582834323822, 1.3174804199670496, 1.3186634782624977, 1.334831036724092, 1.342631737613271, 1.348597131696061, 1.3514085626729753, 1.3618123170444707, 1.3912417240585937, 1.3934124944148236, 1.4200860950747216, 1.4739521161754794, 1.541732248854062, 1.5501896366437848, 1.5738994285604964, 1.5906822892447001, 1.6334187042430308, 1.6606470233479902, 1.6958933162049987, 1.7445902502917736, 1.790433022414437, 1.8542049290033986, 1.8967680672516427, 1.9393680130662325, 1.9913129301970638, 2.116469561255666, 2.2003361239697266, 2.239768479073172, 2.5101340643304795, 2.619126392319147, 2.656208099297673, 2.685378276220086, 2.843918881396618, 3.1023797522958363, 3.192639836895985, 3.3221509452247875, 3.653441679296088, 3.765221122116355, 3.9725007085330435, 4.06434366759681, 4.366062003126085, 4.998417528148778, 5.130078682793454, 5.284628545398929, 5.670214164575897, 5.917989394447027, 5.9899771591455515, 6.190328205153642, 6.374797448561317, 6.570975792567815, 6.868525644811881, 7.044551291432458, 7.178478703663873, 7.263675617596596, 8.153314659783092, 8.636689265060854, 9.178241949162604, 9.254822939458776]\n"
          ],
          "name": "stdout"
        }
      ]
    },
    {
      "cell_type": "markdown",
      "metadata": {
        "id": "wu5OuA6B_IM-",
        "colab_type": "text"
      },
      "source": [
        "Here, we sort all the eigenvalues of the $L$ matrix. We find that the number of zero eigenvalues is $2$, which are the first $2$ eigenvalues, which means that the graph has $2$ `connected components`, which is the **same as the number of subspaces** from which the data have been collected. \n",
        "\n",
        "> **Thus, the multiplicity of the zero eigenvalues of the Laplacian Matrix $L$ is equal to the *number of connected components in the graph* which is same as the number of subspaces.**"
      ]
    },
    {
      "cell_type": "markdown",
      "metadata": {
        "id": "q0m-mZwKU3RT",
        "colab_type": "text"
      },
      "source": [
        "Sort Eigen Values"
      ]
    },
    {
      "cell_type": "code",
      "metadata": {
        "id": "cYP8FqrbJBnQ",
        "colab_type": "code",
        "colab": {}
      },
      "source": [
        "eigenvals_sorted_indices = np.argsort(eigenvals)\n",
        "eigenvals_sorted = eigenvals[eigenvals_sorted_indices]"
      ],
      "execution_count": 139,
      "outputs": []
    },
    {
      "cell_type": "code",
      "metadata": {
        "id": "u0QhkBsUun4r",
        "colab_type": "code",
        "colab": {
          "base_uri": "https://localhost:8080/",
          "height": 67
        },
        "outputId": "3fdc2d85-e980-48e0-efe8-986f21b2989e"
      },
      "source": [
        "indices = []\n",
        "for i in range(0,K):\n",
        "    ind = []\n",
        "    print(eigenvals_sorted_indices[i])\n",
        "    ind.append(eigenvals_sorted_indices[i])\n",
        "    indices.append(np.asarray(ind))"
      ],
      "execution_count": 140,
      "outputs": [
        {
          "output_type": "stream",
          "text": [
            "24\n",
            "25\n",
            "36\n"
          ],
          "name": "stdout"
        }
      ]
    },
    {
      "cell_type": "code",
      "metadata": {
        "id": "NO2k7fzRzD7u",
        "colab_type": "code",
        "colab": {}
      },
      "source": [
        "indices = np.asarray(indices)"
      ],
      "execution_count": 141,
      "outputs": []
    },
    {
      "cell_type": "code",
      "metadata": {
        "id": "n4zaFueSviZd",
        "colab_type": "code",
        "colab": {}
      },
      "source": [
        "zero_eigenvals_index = np.array(indices)"
      ],
      "execution_count": 142,
      "outputs": []
    },
    {
      "cell_type": "markdown",
      "metadata": {
        "id": "7Hvtlq10bWu2",
        "colab_type": "text"
      },
      "source": [
        "Here, the indices are arranged according to their sorted order of values and the sorted eigen values are stored in *eigenvals_sorted*."
      ]
    },
    {
      "cell_type": "code",
      "metadata": {
        "id": "r5LywuQNJS-a",
        "colab_type": "code",
        "colab": {
          "base_uri": "https://localhost:8080/",
          "height": 67
        },
        "outputId": "40c5ca80-ef9e-49dc-aac8-a7a54aaeb45c"
      },
      "source": [
        "eigenvals[zero_eigenvals_index]"
      ],
      "execution_count": 143,
      "outputs": [
        {
          "output_type": "execute_result",
          "data": {
            "text/plain": [
              "array([[1.33166669e-15],\n",
              "       [3.81158116e-01],\n",
              "       [6.60406524e-01]])"
            ]
          },
          "metadata": {
            "tags": []
          },
          "execution_count": 143
        }
      ]
    },
    {
      "cell_type": "markdown",
      "metadata": {
        "id": "mtONWJ8ecjnc",
        "colab_type": "text"
      },
      "source": [
        "Here, we collect the indices of *the zero eigen values* (for convenience we consider values smaller than $10^{-5}$ to be equal to zero). \\\\\n",
        "*The zero eigen values* are the displayed."
      ]
    },
    {
      "cell_type": "code",
      "metadata": {
        "id": "FFRDm3KxJZRq",
        "colab_type": "code",
        "colab": {
          "base_uri": "https://localhost:8080/",
          "height": 195
        },
        "outputId": "5f260400-367b-4003-f3de-bdb1a2660168"
      },
      "source": [
        "import pandas as pd\n",
        "\n",
        "proj_df = pd.DataFrame(eigenvcts[:, zero_eigenvals_index.squeeze()])\n",
        "proj_df.columns = ['v_' + str(c) for c in proj_df.columns]\n",
        "proj_df.head()"
      ],
      "execution_count": 144,
      "outputs": [
        {
          "output_type": "execute_result",
          "data": {
            "text/html": [
              "<div>\n",
              "<style scoped>\n",
              "    .dataframe tbody tr th:only-of-type {\n",
              "        vertical-align: middle;\n",
              "    }\n",
              "\n",
              "    .dataframe tbody tr th {\n",
              "        vertical-align: top;\n",
              "    }\n",
              "\n",
              "    .dataframe thead th {\n",
              "        text-align: right;\n",
              "    }\n",
              "</style>\n",
              "<table border=\"1\" class=\"dataframe\">\n",
              "  <thead>\n",
              "    <tr style=\"text-align: right;\">\n",
              "      <th></th>\n",
              "      <th>v_0</th>\n",
              "      <th>v_1</th>\n",
              "      <th>v_2</th>\n",
              "    </tr>\n",
              "  </thead>\n",
              "  <tbody>\n",
              "    <tr>\n",
              "      <th>0</th>\n",
              "      <td>0.08165</td>\n",
              "      <td>-0.124575</td>\n",
              "      <td>0.034847</td>\n",
              "    </tr>\n",
              "    <tr>\n",
              "      <th>1</th>\n",
              "      <td>0.08165</td>\n",
              "      <td>-0.108455</td>\n",
              "      <td>0.082008</td>\n",
              "    </tr>\n",
              "    <tr>\n",
              "      <th>2</th>\n",
              "      <td>0.08165</td>\n",
              "      <td>-0.130572</td>\n",
              "      <td>0.004090</td>\n",
              "    </tr>\n",
              "    <tr>\n",
              "      <th>3</th>\n",
              "      <td>0.08165</td>\n",
              "      <td>-0.132622</td>\n",
              "      <td>0.032966</td>\n",
              "    </tr>\n",
              "    <tr>\n",
              "      <th>4</th>\n",
              "      <td>0.08165</td>\n",
              "      <td>-0.124779</td>\n",
              "      <td>-0.040015</td>\n",
              "    </tr>\n",
              "  </tbody>\n",
              "</table>\n",
              "</div>"
            ],
            "text/plain": [
              "       v_0       v_1       v_2\n",
              "0  0.08165 -0.124575  0.034847\n",
              "1  0.08165 -0.108455  0.082008\n",
              "2  0.08165 -0.130572  0.004090\n",
              "3  0.08165 -0.132622  0.032966\n",
              "4  0.08165 -0.124779 -0.040015"
            ]
          },
          "metadata": {
            "tags": []
          },
          "execution_count": 144
        }
      ]
    },
    {
      "cell_type": "markdown",
      "metadata": {
        "id": "Qri19uQ4dJBN",
        "colab_type": "text"
      },
      "source": [
        "Stack the Eigen Vectors corresponding to the zero Eigen Values in a dataframe *proj_df*. This can be thought of as a $N X Z$ matrix ($Z$ = number of zero eigen values) where the columns denote an eigen vector and the rows denote a data point."
      ]
    },
    {
      "cell_type": "markdown",
      "metadata": {
        "id": "HVNDq5caWTO9",
        "colab_type": "text"
      },
      "source": [
        "Apply *K-Means Clustering* with $K = 3$."
      ]
    },
    {
      "cell_type": "code",
      "metadata": {
        "id": "YSsmqs6pJv00",
        "colab_type": "code",
        "colab": {}
      },
      "source": [
        "from sklearn.cluster import KMeans\n",
        "\n",
        "def run_k_means(df, n_clusters):\n",
        "    k_means = KMeans(random_state=25, n_clusters=n_clusters)\n",
        "    k_means.fit(df)\n",
        "    cluster = k_means.predict(df)\n",
        "    return cluster\n",
        "\n",
        "cluster = run_k_means(proj_df, n_clusters=K)"
      ],
      "execution_count": 145,
      "outputs": []
    },
    {
      "cell_type": "markdown",
      "metadata": {
        "id": "pPnf2mI1drid",
        "colab_type": "text"
      },
      "source": [
        "*run_k_means* applies `K-Means Clustering` on *proj_df* with number of clusters = $2$. \\\\\n",
        "The clustering of the data points is returned in the variable *'cluster'*."
      ]
    },
    {
      "cell_type": "markdown",
      "metadata": {
        "id": "fwOidi1bWjem",
        "colab_type": "text"
      },
      "source": [
        "Display clusters formed"
      ]
    },
    {
      "cell_type": "code",
      "metadata": {
        "id": "jLRKyRkfJ_U5",
        "colab_type": "code",
        "colab": {
          "base_uri": "https://localhost:8080/",
          "height": 101
        },
        "outputId": "b8d10cb8-4afc-418a-e451-da813d87aa3d"
      },
      "source": [
        "print(cluster)"
      ],
      "execution_count": 146,
      "outputs": [
        {
          "output_type": "stream",
          "text": [
            "[1 1 1 1 1 1 1 1 1 1 1 1 1 1 1 1 1 1 1 1 1 1 1 1 1 1 1 1 1 1 1 1 1 1 1 1 1\n",
            " 1 1 1 1 1 1 1 1 1 1 1 1 1 2 0 2 2 2 0 0 2 2 0 2 0 2 2 0 2 0 2 2 2 0 2 2 2\n",
            " 2 2 2 2 0 2 2 2 2 0 0 0 2 2 0 2 2 0 2 2 2 0 0 2 0 2 0 0 0 0 0 2 0 2 2 0 0\n",
            " 0 0 0 0 0 0 0 2 2 0 0 2 2 0 2 0 0 0 2 2 0 0 2 2 2 0 0 0 0 0 0 0 0 0 0 2 0\n",
            " 0 0]\n"
          ],
          "name": "stdout"
        }
      ]
    },
    {
      "cell_type": "markdown",
      "metadata": {
        "id": "QHQACwpQed8s",
        "colab_type": "text"
      },
      "source": [
        "As we can see, the data points have been clustered into two subspaces: $0$ and $1$ corresponding to the $2$ subspaces that we have considered."
      ]
    },
    {
      "cell_type": "code",
      "metadata": {
        "id": "3smn0NN4Kbk7",
        "colab_type": "code",
        "colab": {
          "base_uri": "https://localhost:8080/",
          "height": 34
        },
        "outputId": "a02a374f-8ba5-4e6f-8248-21002449e215"
      },
      "source": [
        "c0 = 0\n",
        "for l in cluster:\n",
        "  if l == 0:\n",
        "    c0 += 1\n",
        "print(c0)"
      ],
      "execution_count": 147,
      "outputs": [
        {
          "output_type": "stream",
          "text": [
            "53\n"
          ],
          "name": "stdout"
        }
      ]
    },
    {
      "cell_type": "code",
      "metadata": {
        "id": "F7f1v-_bofIE",
        "colab_type": "code",
        "colab": {
          "base_uri": "https://localhost:8080/",
          "height": 34
        },
        "outputId": "c377d920-a726-4e83-85d2-0aaef6a3f9d2"
      },
      "source": [
        "c1 = 0\n",
        "for l in cluster:\n",
        "  if l == 1:\n",
        "    c1 += 1\n",
        "print(c1)"
      ],
      "execution_count": 148,
      "outputs": [
        {
          "output_type": "stream",
          "text": [
            "50\n"
          ],
          "name": "stdout"
        }
      ]
    },
    {
      "cell_type": "code",
      "metadata": {
        "id": "jvdHX2_lok3p",
        "colab_type": "code",
        "colab": {
          "base_uri": "https://localhost:8080/",
          "height": 34
        },
        "outputId": "525ab7d9-14eb-4f6d-cc22-3edb74e2fab1"
      },
      "source": [
        "c2 = 0\n",
        "for l in cluster:\n",
        "  if l == 2:\n",
        "    c2 += 1\n",
        "print(c2)"
      ],
      "execution_count": 149,
      "outputs": [
        {
          "output_type": "stream",
          "text": [
            "47\n"
          ],
          "name": "stdout"
        }
      ]
    },
    {
      "cell_type": "markdown",
      "metadata": {
        "id": "H36SQElze54g",
        "colab_type": "text"
      },
      "source": [
        "So we find that as expected $50$ data points have been labelled $0$, signifying that they belong to  the $1$st subspace, while the remaining $50$ points must belong to the $2$nd subspace. "
      ]
    },
    {
      "cell_type": "code",
      "metadata": {
        "id": "nU6VYuVgwTBx",
        "colab_type": "code",
        "colab": {}
      },
      "source": [
        "orig = iris_data.target"
      ],
      "execution_count": 150,
      "outputs": []
    },
    {
      "cell_type": "code",
      "metadata": {
        "id": "Bx0uk4fAwZek",
        "colab_type": "code",
        "colab": {}
      },
      "source": [
        "pred = np.asarray(cluster)"
      ],
      "execution_count": 151,
      "outputs": []
    },
    {
      "cell_type": "code",
      "metadata": {
        "id": "tRV6m17FxNr4",
        "colab_type": "code",
        "colab": {
          "base_uri": "https://localhost:8080/",
          "height": 50
        },
        "outputId": "adbc8a72-7e29-4346-ffc3-df6d8a98938e"
      },
      "source": [
        "from sklearn.metrics import adjusted_rand_score\n",
        "from sklearn.metrics import normalized_mutual_info_score\n",
        "print(\"ARI = \" + str(adjusted_rand_score(orig, pred)))\n",
        "print(\"NMI = \" + str(normalized_mutual_info_score(orig, pred)))"
      ],
      "execution_count": 152,
      "outputs": [
        {
          "output_type": "stream",
          "text": [
            "ARI = 0.5666502143559329\n",
            "NMI = 0.6248401785062485\n"
          ],
          "name": "stdout"
        }
      ]
    },
    {
      "cell_type": "code",
      "metadata": {
        "id": "Tg8Ks4PI8EoA",
        "colab_type": "code",
        "colab": {}
      },
      "source": [
        ""
      ],
      "execution_count": null,
      "outputs": []
    }
  ]
}