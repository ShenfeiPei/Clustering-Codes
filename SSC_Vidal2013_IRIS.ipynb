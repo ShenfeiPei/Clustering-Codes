{
 "cells": [
  {
   "cell_type": "markdown",
   "metadata": {
    "colab_type": "text",
    "id": "DhW6WxwgtBk1"
   },
   "source": [
    "# Sparse Subspace Clustering (Vidal IEEE Trans. on PAMI 2013)"
   ]
  },
  {
   "cell_type": "markdown",
   "metadata": {
    "colab_type": "text",
    "id": "t2L05ocWW0kh"
   },
   "source": [
    "**References:**\n",
    "\n",
    "\n",
    "1.   Main Paper (Vidal IEEE Trans. on PAMI 2013): https://arxiv.org/pdf/1203.1005.pdf\n",
    "2.   Supplementary Paper (Vidal CVPR 2009): http://cis.jhu.edu/~ehsan/Downloads/SSC-CVPR09-Ehsan.pdf\n",
    "3.   Spectral Clustering: http://people.csail.mit.edu/dsontag/courses/ml14/notes/Luxburg07_tutorial_spectral_clustering.pdf\n",
    "4.   Spectral Clustering Code: https://juanitorduz.github.io/spectral_clustering/\n",
    "\n",
    "\n",
    "\n",
    "\n",
    "\n",
    "\n",
    "\n",
    "\n",
    "\n"
   ]
  },
  {
   "cell_type": "markdown",
   "metadata": {
    "colab_type": "text",
    "id": "RbmYLWex6v0o"
   },
   "source": [
    "Our objective is given a set of points drawn from a `union of subspaces`, we need to find the number of subspaces, their dimensions, a basis for each subspace, and the segmentation of the data."
   ]
  },
  {
   "cell_type": "markdown",
   "metadata": {
    "colab_type": "text",
    "id": "Yd_W99xU-35G"
   },
   "source": [
    "Let all the points be from $D$ dimensional space, here, for our use, we consider the value of $D$ to be $10$. Let us consider that we have $N=100$ $D$ dimensional data points."
   ]
  },
  {
   "cell_type": "code",
   "execution_count": 1,
   "metadata": {
    "colab": {},
    "colab_type": "code",
    "id": "XZThPNGr_vd5"
   },
   "outputs": [],
   "source": [
    "import numpy as np\n",
    "import cvxpy as cp\n",
    "from cvxpy.atoms.elementwise.power import power"
   ]
  },
  {
   "cell_type": "markdown",
   "metadata": {
    "colab_type": "text",
    "id": "t4XgMb2uI9oE"
   },
   "source": [
    "##### Set Parameters of the data space"
   ]
  },
  {
   "cell_type": "code",
   "execution_count": 2,
   "metadata": {
    "colab": {},
    "colab_type": "code",
    "id": "8rdHJFmv_yev"
   },
   "outputs": [],
   "source": [
    "N = 150 # Total no of points\n",
    "D = 4  # Dimension of space\n",
    "K = 3 # Number of clusters"
   ]
  },
  {
   "cell_type": "code",
   "execution_count": 3,
   "metadata": {
    "colab": {},
    "colab_type": "code",
    "id": "scnY2bC4sG6Q"
   },
   "outputs": [],
   "source": [
    "from sklearn.datasets import load_iris\n",
    "iris_data = load_iris()\n",
    "iris_X = np.asarray(iris_data.data)\n",
    "input_data = iris_X.T"
   ]
  },
  {
   "cell_type": "markdown",
   "metadata": {
    "colab_type": "text",
    "id": "WPE1xClxI_W7"
   },
   "source": [
    "The input_data is shaped in the form of $(4,150)$ i.e. in the form of $(D,N)$ where each column represents each $D$ dimensional data point, total number of such data points being $N$."
   ]
  },
  {
   "cell_type": "code",
   "execution_count": 7,
   "metadata": {
    "colab": {},
    "colab_type": "code",
    "id": "uThqA_EnMbUP"
   },
   "outputs": [],
   "source": [
    "def find_sparse_sol(Y,i,N):\n",
    "  if i == 0:\n",
    "    Ybari = Y[:,1:N]\n",
    "  if i == N-1:\n",
    "    Ybari = Y[:,0:N-1]\n",
    "  if i!=0 and i!=N-1:\n",
    "    Ybari = np.concatenate((Y[:,0:i],Y[:,i+1:N]),axis=1)\n",
    "  yi = Y[:,i].reshape(D,1)\n",
    "  # this ci will contain the solution of the l1 optimisation problem  min |ci|1   yi = Ybari*ci\n",
    "  ci = cp.Variable(shape=(N-1,1))\n",
    "  constraint = [cp.sum(ci)==1] #Ybari * ci == yi, \n",
    "  obj = cp.Minimize(power(cp.norm(yi-Ybari@ci,2),2) + 0.082*cp.norm(ci,1))\n",
    "  prob = cp.Problem(obj, constraint)\n",
    "  prob.solve()\n",
    "  return ci.value"
   ]
  },
  {
   "cell_type": "markdown",
   "metadata": {},
   "source": [
    "The above function `find_sparse_sol` finds the solution to the following optimisation problem $(\\textrm{min} \\; ||y_i - Y_{\\hat{i}}c_i||_{F}^2 + \\lambda||c_i||_1)$ subject to the constraint $\\sum_{i=i}^{N}c_i=1$. We use this optimisation term to *deal with all the possible noise values in the data.*"
   ]
  },
  {
   "cell_type": "code",
   "execution_count": 9,
   "metadata": {
    "colab": {
     "base_uri": "https://localhost:8080/",
     "height": 34
    },
    "colab_type": "code",
    "id": "ZwXYwvvC_kHS",
    "outputId": "5aa688ef-cf87-4b26-a6e4-e6b8a66de258"
   },
   "outputs": [
    {
     "name": "stderr",
     "output_type": "stream",
     "text": [
      "/home/heisenberg/Desktop/K-means/kmeans/lib/python3.8/site-packages/cvxpy/problems/problem.py:1054: UserWarning: Solution may be inaccurate. Try another solver, adjusting the solver settings, or solve with verbose=True for more information.\n",
      "  warnings.warn(\n"
     ]
    },
    {
     "name": "stdout",
     "output_type": "stream",
     "text": [
      "(150, 150)\n"
     ]
    }
   ],
   "source": [
    "C = np.concatenate((np.zeros((1,1)),find_sparse_sol(input_data,0,N)),axis=0)\n",
    "\n",
    "for i in range(1,N):\n",
    "  ci = find_sparse_sol(input_data,i,N)\n",
    "  zero_element = np.zeros((1,1))\n",
    "  cif = np.concatenate((ci[0:i,:],zero_element,ci[i:N,:]),axis=0)\n",
    "  C = np.concatenate((C,cif),axis=1)\n",
    "print(C.shape)"
   ]
  },
  {
   "cell_type": "markdown",
   "metadata": {
    "colab_type": "text",
    "id": "E3cBxKja1e6z"
   },
   "source": [
    "We now include a zero vector of size $(1,1)$ at the $i$ th position of $c_i$ to form $\\hat{c_i}$ which we represent as *cif* in the code.\n",
    "Then we concatenate $[\\hat{c_1}$, $\\hat{c_2}$, ..., $\\hat{c_N}]$ to form the matrix $C$.  \n",
    "\n",
    "$C$ is the *Matrix of Coefficients* and is of the form $C = [\\hat{c_1}, \\hat{c_2}, ..., \\hat{c_N}] \\in \\mathbb{R}^{NXN}$."
   ]
  },
  {
   "cell_type": "code",
   "execution_count": 10,
   "metadata": {
    "colab": {
     "base_uri": "https://localhost:8080/",
     "height": 34
    },
    "colab_type": "code",
    "id": "NlY4sREA2-d9",
    "outputId": "86858267-0daf-4a50-fce4-363e82e43cfd"
   },
   "outputs": [
    {
     "name": "stdout",
     "output_type": "stream",
     "text": [
      "(150, 150)\n"
     ]
    }
   ],
   "source": [
    "Cp = np.zeros((C.shape[0], C.shape[1]))\n",
    "for i in range(N):\n",
    "  for j in range(N):\n",
    "    Cp[i,j] = abs(C[i,j]) + abs(C[j,i])\n",
    "\n",
    "print(Cp.shape)"
   ]
  },
  {
   "cell_type": "code",
   "execution_count": 11,
   "metadata": {
    "colab": {
     "base_uri": "https://localhost:8080/",
     "height": 34
    },
    "colab_type": "code",
    "id": "PQh2rr72WBrx",
    "outputId": "b26c9724-bd2d-4feb-aeec-edaebf145983"
   },
   "outputs": [
    {
     "name": "stdout",
     "output_type": "stream",
     "text": [
      "1644\n"
     ]
    }
   ],
   "source": [
    "cz = 0\n",
    "for i in range(Cp.shape[0]):\n",
    "    for j in range(Cp.shape[1]):\n",
    "        if Cp[i,j] < 1e-5:\n",
    "            cz += 1\n",
    "print(cz)"
   ]
  },
  {
   "cell_type": "markdown",
   "metadata": {
    "colab_type": "text",
    "id": "m1L7S6u044O3"
   },
   "source": [
    "In the above code block, we make $C$ a symmetric matrix by the operation $C_{ij} = |C_{ij}| + |C_{ji}|$. It is still a valid representation of the similarity since if $y_i$ can write itself as a linear combination of all the points in the same subspace including $y_j$, then $y_j$ can also be represented as a linear combination of all the other points belonging to the same subspace including $c_i$.\n",
    "            In the above code block, we print the number of $0$'s in the matrix $Cp$, we denote any value less then $e^{-5}$ as $0$."
   ]
  },
  {
   "cell_type": "code",
   "execution_count": 12,
   "metadata": {
    "colab": {
     "base_uri": "https://localhost:8080/",
     "height": 134
    },
    "colab_type": "code",
    "id": "WJPCzyQB7EZV",
    "outputId": "fe80f1ac-2f0b-4c8e-f4b7-0c10ac0d257d"
   },
   "outputs": [
    {
     "name": "stdout",
     "output_type": "stream",
     "text": [
      "[[1.24708066 0.         0.         ... 0.         0.         0.        ]\n",
      " [0.         1.38384376 0.         ... 0.         0.         0.        ]\n",
      " [0.         0.         1.26239179 ... 0.         0.         0.        ]\n",
      " ...\n",
      " [0.         0.         0.         ... 1.21430676 0.         0.        ]\n",
      " [0.         0.         0.         ... 0.         1.98337482 0.        ]\n",
      " [0.         0.         0.         ... 0.         0.         1.27050197]]\n"
     ]
    }
   ],
   "source": [
    "D = np.zeros((N,N))\n",
    "sum_list=[]\n",
    "for i in range(N):\n",
    "  csum = np.sum(Cp[:,i],axis=0)\n",
    "  sum_list.append(csum)\n",
    "\n",
    "D = np.diag(sum_list)\n",
    "print(D)"
   ]
  },
  {
   "cell_type": "markdown",
   "metadata": {
    "colab_type": "text",
    "id": "7W1JwZZF8Ehk"
   },
   "source": [
    "$D$ is the `degree matrix`. In this case, $D \\in \\mathbb{R}^{NxN}$ is a diagonal matrix with $D_{ii} = \\sum_{j}C_{ij}$. "
   ]
  },
  {
   "cell_type": "code",
   "execution_count": 13,
   "metadata": {
    "colab": {
     "base_uri": "https://localhost:8080/",
     "height": 34
    },
    "colab_type": "code",
    "id": "wbjEg6vPtePP",
    "outputId": "12a018ee-a328-46df-fc9a-fd244d815b6e"
   },
   "outputs": [
    {
     "name": "stdout",
     "output_type": "stream",
     "text": [
      "(150, 150)\n"
     ]
    }
   ],
   "source": [
    "L = np.subtract(D, Cp)\n",
    "print(L.shape)"
   ]
  },
  {
   "cell_type": "markdown",
   "metadata": {
    "colab_type": "text",
    "id": "ntR93B89-PVd"
   },
   "source": [
    "This $L$ is the Laplacian matrix, which can be defined as $L = D - C$. Next, we calculate the `eigenvalues` and `eigenvectors` of the Laplacian matrix, which we will use for Spectral clustering of the data points. $L$ is a *positive, semi-definite matrix* this means all the eigenvalues of the matrix will be greater than equal to $0$."
   ]
  },
  {
   "cell_type": "markdown",
   "metadata": {
    "colab_type": "text",
    "id": "V9-CnwWNXvLl"
   },
   "source": [
    "### Perform Spectral Clustering with Laplacian Matrix L"
   ]
  },
  {
   "cell_type": "code",
   "execution_count": 14,
   "metadata": {
    "colab": {},
    "colab_type": "code",
    "id": "DRb2jMuntrii"
   },
   "outputs": [],
   "source": [
    "from scipy import linalg\n",
    "\n",
    "eigenvals, eigenvcts = linalg.eig(L)\n",
    "\n",
    "eigenvals = np.real(eigenvals)\n",
    "eigenvcts = np.real(eigenvcts)\n",
    "\n",
    "eig = eigenvals.reshape((N,1))"
   ]
  },
  {
   "cell_type": "markdown",
   "metadata": {
    "colab_type": "text",
    "id": "q0m-mZwKU3RT"
   },
   "source": [
    "Sort Eigen Values"
   ]
  },
  {
   "cell_type": "code",
   "execution_count": 15,
   "metadata": {
    "colab": {},
    "colab_type": "code",
    "id": "cYP8FqrbJBnQ"
   },
   "outputs": [],
   "source": [
    "eigenvals_sorted_indices = np.argsort(eigenvals)\n",
    "eigenvals_sorted = eigenvals[eigenvals_sorted_indices]"
   ]
  },
  {
   "cell_type": "code",
   "execution_count": 16,
   "metadata": {
    "colab": {
     "base_uri": "https://localhost:8080/",
     "height": 67
    },
    "colab_type": "code",
    "id": "u0QhkBsUun4r",
    "outputId": "3fdc2d85-e980-48e0-efe8-986f21b2989e"
   },
   "outputs": [
    {
     "name": "stdout",
     "output_type": "stream",
     "text": [
      "24\n",
      "25\n",
      "36\n"
     ]
    }
   ],
   "source": [
    "indices = []\n",
    "for i in range(0,K):\n",
    "    ind = []\n",
    "    print(eigenvals_sorted_indices[i])\n",
    "    ind.append(eigenvals_sorted_indices[i])\n",
    "    indices.append(np.asarray(ind))"
   ]
  },
  {
   "cell_type": "markdown",
   "metadata": {},
   "source": [
    "In the above code, we find out the indices of the eigenvectors corresponding to the $K$ smallest eigenvectors."
   ]
  },
  {
   "cell_type": "code",
   "execution_count": 17,
   "metadata": {
    "colab": {},
    "colab_type": "code",
    "id": "NO2k7fzRzD7u"
   },
   "outputs": [],
   "source": [
    "indices = np.asarray(indices)"
   ]
  },
  {
   "cell_type": "code",
   "execution_count": 18,
   "metadata": {
    "colab": {},
    "colab_type": "code",
    "id": "n4zaFueSviZd"
   },
   "outputs": [],
   "source": [
    "zero_eigenvals_index = np.array(indices)"
   ]
  },
  {
   "cell_type": "markdown",
   "metadata": {
    "colab_type": "text",
    "id": "7Hvtlq10bWu2"
   },
   "source": [
    "Here, the indices are arranged according to their sorted order of values and the sorted eigen values are stored in *eigenvals_sorted*."
   ]
  },
  {
   "cell_type": "code",
   "execution_count": 19,
   "metadata": {
    "colab": {
     "base_uri": "https://localhost:8080/",
     "height": 67
    },
    "colab_type": "code",
    "id": "r5LywuQNJS-a",
    "outputId": "40c5ca80-ef9e-49dc-aac8-a7a54aaeb45c"
   },
   "outputs": [
    {
     "data": {
      "text/plain": [
       "array([[8.26898479e-16],\n",
       "       [3.81158116e-01],\n",
       "       [6.60406524e-01]])"
      ]
     },
     "execution_count": 19,
     "metadata": {},
     "output_type": "execute_result"
    }
   ],
   "source": [
    "eigenvals[zero_eigenvals_index]"
   ]
  },
  {
   "cell_type": "code",
   "execution_count": 20,
   "metadata": {
    "colab": {
     "base_uri": "https://localhost:8080/",
     "height": 195
    },
    "colab_type": "code",
    "id": "FFRDm3KxJZRq",
    "outputId": "5f260400-367b-4003-f3de-bdb1a2660168"
   },
   "outputs": [
    {
     "data": {
      "text/html": [
       "<div>\n",
       "<style scoped>\n",
       "    .dataframe tbody tr th:only-of-type {\n",
       "        vertical-align: middle;\n",
       "    }\n",
       "\n",
       "    .dataframe tbody tr th {\n",
       "        vertical-align: top;\n",
       "    }\n",
       "\n",
       "    .dataframe thead th {\n",
       "        text-align: right;\n",
       "    }\n",
       "</style>\n",
       "<table border=\"1\" class=\"dataframe\">\n",
       "  <thead>\n",
       "    <tr style=\"text-align: right;\">\n",
       "      <th></th>\n",
       "      <th>v_0</th>\n",
       "      <th>v_1</th>\n",
       "      <th>v_2</th>\n",
       "    </tr>\n",
       "  </thead>\n",
       "  <tbody>\n",
       "    <tr>\n",
       "      <th>0</th>\n",
       "      <td>0.08165</td>\n",
       "      <td>-0.124575</td>\n",
       "      <td>0.034847</td>\n",
       "    </tr>\n",
       "    <tr>\n",
       "      <th>1</th>\n",
       "      <td>0.08165</td>\n",
       "      <td>-0.108455</td>\n",
       "      <td>0.082008</td>\n",
       "    </tr>\n",
       "    <tr>\n",
       "      <th>2</th>\n",
       "      <td>0.08165</td>\n",
       "      <td>-0.130572</td>\n",
       "      <td>0.004090</td>\n",
       "    </tr>\n",
       "    <tr>\n",
       "      <th>3</th>\n",
       "      <td>0.08165</td>\n",
       "      <td>-0.132622</td>\n",
       "      <td>0.032966</td>\n",
       "    </tr>\n",
       "    <tr>\n",
       "      <th>4</th>\n",
       "      <td>0.08165</td>\n",
       "      <td>-0.124779</td>\n",
       "      <td>-0.040015</td>\n",
       "    </tr>\n",
       "  </tbody>\n",
       "</table>\n",
       "</div>"
      ],
      "text/plain": [
       "       v_0       v_1       v_2\n",
       "0  0.08165 -0.124575  0.034847\n",
       "1  0.08165 -0.108455  0.082008\n",
       "2  0.08165 -0.130572  0.004090\n",
       "3  0.08165 -0.132622  0.032966\n",
       "4  0.08165 -0.124779 -0.040015"
      ]
     },
     "execution_count": 20,
     "metadata": {},
     "output_type": "execute_result"
    }
   ],
   "source": [
    "import pandas as pd\n",
    "\n",
    "proj_df = pd.DataFrame(eigenvcts[:, zero_eigenvals_index.squeeze()])\n",
    "proj_df.columns = ['v_' + str(c) for c in proj_df.columns]\n",
    "proj_df.head()"
   ]
  },
  {
   "cell_type": "markdown",
   "metadata": {
    "colab_type": "text",
    "id": "Qri19uQ4dJBN"
   },
   "source": [
    "Stack the Eigen Vectors corresponding to the zero Eigen Values in a dataframe *proj_df*. This can be thought of as a $N X K$ matrix where the columns denote an eigen vector and the rows denote a data point."
   ]
  },
  {
   "cell_type": "markdown",
   "metadata": {
    "colab_type": "text",
    "id": "HVNDq5caWTO9"
   },
   "source": [
    "Apply *K-Means Clustering* with $K = 3$."
   ]
  },
  {
   "cell_type": "code",
   "execution_count": 21,
   "metadata": {
    "colab": {},
    "colab_type": "code",
    "id": "YSsmqs6pJv00"
   },
   "outputs": [],
   "source": [
    "from sklearn.cluster import KMeans\n",
    "\n",
    "def run_k_means(df, n_clusters):\n",
    "    k_means = KMeans(random_state=25, n_clusters=n_clusters)\n",
    "    k_means.fit(df)\n",
    "    cluster = k_means.predict(df)\n",
    "    return cluster\n",
    "\n",
    "cluster = run_k_means(proj_df, n_clusters=K)"
   ]
  },
  {
   "cell_type": "markdown",
   "metadata": {
    "colab_type": "text",
    "id": "pPnf2mI1drid"
   },
   "source": [
    "*run_k_means* applies `K-Means Clustering` on *proj_df* with number of clusters = $3$.The clustering of the data points is returned in the variable *'cluster'*."
   ]
  },
  {
   "cell_type": "markdown",
   "metadata": {
    "colab_type": "text",
    "id": "fwOidi1bWjem"
   },
   "source": [
    "Display clusters formed"
   ]
  },
  {
   "cell_type": "code",
   "execution_count": 22,
   "metadata": {
    "colab": {
     "base_uri": "https://localhost:8080/",
     "height": 101
    },
    "colab_type": "code",
    "id": "jLRKyRkfJ_U5",
    "outputId": "b8d10cb8-4afc-418a-e451-da813d87aa3d"
   },
   "outputs": [
    {
     "name": "stdout",
     "output_type": "stream",
     "text": [
      "[1 1 1 1 1 1 1 1 1 1 1 1 1 1 1 1 1 1 1 1 1 1 1 1 1 1 1 1 1 1 1 1 1 1 1 1 1\n",
      " 1 1 1 1 1 1 1 1 1 1 1 1 1 2 0 2 2 2 0 0 2 2 0 2 0 2 2 0 2 0 2 2 2 0 2 2 2\n",
      " 2 2 2 2 0 2 2 2 2 0 0 0 2 2 0 2 2 0 2 2 2 0 0 2 0 2 0 0 0 0 0 2 0 2 2 0 0\n",
      " 0 0 0 0 0 0 0 2 2 0 0 2 2 0 2 0 0 0 2 2 0 0 2 2 2 0 0 0 0 0 0 0 0 0 0 2 0\n",
      " 0 0]\n"
     ]
    }
   ],
   "source": [
    "print(cluster)"
   ]
  },
  {
   "cell_type": "markdown",
   "metadata": {
    "colab_type": "text",
    "id": "QHQACwpQed8s"
   },
   "source": [
    "As we can see, the data points have been clustered into two subspaces: $0,1 \\, \\textrm{and} \\, 2$ corresponding to the $3$ subspaces that we have considered. "
   ]
  },
  {
   "cell_type": "code",
   "execution_count": 23,
   "metadata": {
    "colab": {
     "base_uri": "https://localhost:8080/",
     "height": 34
    },
    "colab_type": "code",
    "id": "3smn0NN4Kbk7",
    "outputId": "a02a374f-8ba5-4e6f-8248-21002449e215"
   },
   "outputs": [
    {
     "name": "stdout",
     "output_type": "stream",
     "text": [
      "53\n"
     ]
    }
   ],
   "source": [
    "c0 = 0\n",
    "for l in cluster:\n",
    "  if l == 0:\n",
    "    c0 += 1\n",
    "print(c0)"
   ]
  },
  {
   "cell_type": "code",
   "execution_count": 24,
   "metadata": {
    "colab": {
     "base_uri": "https://localhost:8080/",
     "height": 34
    },
    "colab_type": "code",
    "id": "F7f1v-_bofIE",
    "outputId": "c377d920-a726-4e83-85d2-0aaef6a3f9d2"
   },
   "outputs": [
    {
     "name": "stdout",
     "output_type": "stream",
     "text": [
      "50\n"
     ]
    }
   ],
   "source": [
    "c1 = 0\n",
    "for l in cluster:\n",
    "  if l == 1:\n",
    "    c1 += 1\n",
    "print(c1)"
   ]
  },
  {
   "cell_type": "code",
   "execution_count": 25,
   "metadata": {
    "colab": {
     "base_uri": "https://localhost:8080/",
     "height": 34
    },
    "colab_type": "code",
    "id": "jvdHX2_lok3p",
    "outputId": "525ab7d9-14eb-4f6d-cc22-3edb74e2fab1"
   },
   "outputs": [
    {
     "name": "stdout",
     "output_type": "stream",
     "text": [
      "47\n"
     ]
    }
   ],
   "source": [
    "c2 = 0\n",
    "for l in cluster:\n",
    "  if l == 2:\n",
    "    c2 += 1\n",
    "print(c2)"
   ]
  },
  {
   "cell_type": "markdown",
   "metadata": {
    "colab_type": "text",
    "id": "H36SQElze54g"
   },
   "source": [
    "$53$ data points have been labelled to the 1st subspace, $50$ data points have been labelled to the 2nd subspace and $47$ data points have been labelled to the 3rd subspace."
   ]
  },
  {
   "cell_type": "code",
   "execution_count": 26,
   "metadata": {
    "colab": {},
    "colab_type": "code",
    "id": "nU6VYuVgwTBx"
   },
   "outputs": [],
   "source": [
    "orig = iris_data.target"
   ]
  },
  {
   "cell_type": "code",
   "execution_count": 27,
   "metadata": {
    "colab": {},
    "colab_type": "code",
    "id": "Bx0uk4fAwZek"
   },
   "outputs": [],
   "source": [
    "pred = np.asarray(cluster)"
   ]
  },
  {
   "cell_type": "code",
   "execution_count": 28,
   "metadata": {
    "colab": {
     "base_uri": "https://localhost:8080/",
     "height": 50
    },
    "colab_type": "code",
    "id": "tRV6m17FxNr4",
    "outputId": "adbc8a72-7e29-4346-ffc3-df6d8a98938e"
   },
   "outputs": [
    {
     "name": "stdout",
     "output_type": "stream",
     "text": [
      "ARI = 0.5666502143559329\n",
      "NMI = 0.6248401785062485\n"
     ]
    }
   ],
   "source": [
    "from sklearn.metrics import adjusted_rand_score\n",
    "from sklearn.metrics import normalized_mutual_info_score\n",
    "print(\"ARI = \" + str(adjusted_rand_score(orig, pred)))\n",
    "print(\"NMI = \" + str(normalized_mutual_info_score(orig, pred)))"
   ]
  },
  {
   "cell_type": "markdown",
   "metadata": {
    "colab": {},
    "colab_type": "code",
    "id": "Tg8Ks4PI8EoA"
   },
   "source": [
    "In the above code block, we calculate the `Adjusted random score` and the `normalized mutual info score` between the `original` and the `predicted` labels for the various data points."
   ]
  },
  {
   "cell_type": "code",
   "execution_count": null,
   "metadata": {},
   "outputs": [],
   "source": []
  }
 ],
 "metadata": {
  "colab": {
   "collapsed_sections": [],
   "name": "SSC_Vidal2013_IRIS.ipynb",
   "provenance": []
  },
  "kernelspec": {
   "display_name": "Python 3",
   "language": "python",
   "name": "python3"
  },
  "language_info": {
   "codemirror_mode": {
    "name": "ipython",
    "version": 3
   },
   "file_extension": ".py",
   "mimetype": "text/x-python",
   "name": "python",
   "nbconvert_exporter": "python",
   "pygments_lexer": "ipython3",
   "version": "3.7.3"
  }
 },
 "nbformat": 4,
 "nbformat_minor": 1
}
