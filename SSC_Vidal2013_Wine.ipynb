{
  "nbformat": 4,
  "nbformat_minor": 0,
  "metadata": {
    "colab": {
      "name": "SSC_Vidal2013_Wine.ipynb",
      "provenance": [],
      "collapsed_sections": []
    },
    "kernelspec": {
      "name": "python3",
      "display_name": "Python 3"
    }
  },
  "cells": [
    {
      "cell_type": "markdown",
      "metadata": {
        "id": "DhW6WxwgtBk1",
        "colab_type": "text"
      },
      "source": [
        "#Sparse Subspace Clustering (Vidal IEEE Trans. on PAMI 2013)"
      ]
    },
    {
      "cell_type": "markdown",
      "metadata": {
        "id": "t2L05ocWW0kh",
        "colab_type": "text"
      },
      "source": [
        "**References:**\n",
        "\n",
        "\n",
        "1.   Main Paper (Vidal IEEE Trans. on PAMI 2013): https://arxiv.org/pdf/1203.1005.pdf\n",
        "2.   Supplementary Paper (Vidal CVPR 2009): http://cis.jhu.edu/~ehsan/Downloads/SSC-CVPR09-Ehsan.pdf\n",
        "3.   Spectral Clustering: http://people.csail.mit.edu/dsontag/courses/ml14/notes/Luxburg07_tutorial_spectral_clustering.pdf\n",
        "4.   Spectral Clustering Code: https://juanitorduz.github.io/spectral_clustering/\n",
        "\n",
        "\n",
        "\n",
        "\n",
        "\n",
        "\n",
        "\n",
        "\n",
        "\n"
      ]
    },
    {
      "cell_type": "markdown",
      "metadata": {
        "id": "RbmYLWex6v0o",
        "colab_type": "text"
      },
      "source": [
        "Our objective is given a set of points drawn from a `union of subspaces`, we need to find the number of subspaces, their dimensions, a basis for each subspace, and the segmentation of the data."
      ]
    },
    {
      "cell_type": "markdown",
      "metadata": {
        "id": "Yd_W99xU-35G",
        "colab_type": "text"
      },
      "source": [
        "Let all the points be from $D$ dimensional space, here, for our use, we consider the value of $D$ to be $10$. Let us consider that we have $N=100$ $D$ dimensional data points."
      ]
    },
    {
      "cell_type": "code",
      "metadata": {
        "id": "XZThPNGr_vd5",
        "colab_type": "code",
        "colab": {}
      },
      "source": [
        "import numpy as np\n",
        "import cvxpy as cp\n",
        "from cvxpy.atoms.elementwise.power import power"
      ],
      "execution_count": 130,
      "outputs": []
    },
    {
      "cell_type": "markdown",
      "metadata": {
        "id": "t4XgMb2uI9oE",
        "colab_type": "text"
      },
      "source": [
        "##### Set Parameters of the data space"
      ]
    },
    {
      "cell_type": "code",
      "metadata": {
        "id": "8rdHJFmv_yev",
        "colab_type": "code",
        "colab": {}
      },
      "source": [
        "N = 178 # Total no of points\n",
        "D = 13  # Dimension of space\n",
        "K = 3 # Number of clusters"
      ],
      "execution_count": 131,
      "outputs": []
    },
    {
      "cell_type": "code",
      "metadata": {
        "id": "scnY2bC4sG6Q",
        "colab_type": "code",
        "colab": {}
      },
      "source": [
        "from sklearn.datasets import load_wine\n",
        "wine_data = load_wine()\n",
        "wine_X = np.asarray(wine_data.data)\n",
        "input_data = wine_X.T"
      ],
      "execution_count": 132,
      "outputs": []
    },
    {
      "cell_type": "markdown",
      "metadata": {
        "id": "WPE1xClxI_W7",
        "colab_type": "text"
      },
      "source": [
        "In the $Y_i$ numpy array, we have $N_i$, $D$ dimensional data points i.e. the array $Y$ contains the collection of data points. We need to find out the value of $n$ which is the number of subspaces from which they have been sampled, $d_i$ which is the dimension of each subspace, $A_i$ which will be the basis for each subspace.\n",
        "\n",
        "The matrix $Y$ contains the data points arranged sequentially forming a matrix of shape $(D,N)$. The $Y$ matrix is of the form $[y[0],y[1], \\ldots, y[N-1]], $where each $y_i$ denotes the vector of data point."
      ]
    },
    {
      "cell_type": "code",
      "metadata": {
        "id": "uThqA_EnMbUP",
        "colab_type": "code",
        "colab": {}
      },
      "source": [
        "def find_sparse_sol(Y,i,N):\n",
        "  if i is 0:\n",
        "    Ybari = Y[:,1:N]\n",
        "  if i is N-1:\n",
        "    Ybari = Y[:,0:N-1]\n",
        "  if i!=0 and i!=N-1:\n",
        "    Ybari = np.concatenate((Y[:,0:i],Y[:,i+1:N]),axis=1)\n",
        "  yi = Y[:,i].reshape(D,1)\n",
        "  # this ci will contain the solution of the l1 optimisation problem  min |ci|1   yi = Ybari*ci\n",
        "  ci = cp.Variable(shape=(N-1,1))\n",
        "  constraint = [cp.sum(ci)==1] #Ybari * ci == yi, \n",
        "  obj = cp.Minimize(power(cp.norm(yi-Ybari*ci,2),2) + 1.957*cp.norm(ci,1))\n",
        "  prob = cp.Problem(obj, constraint)\n",
        "  prob.solve()\n",
        "  return ci.value"
      ],
      "execution_count": 133,
      "outputs": []
    },
    {
      "cell_type": "code",
      "metadata": {
        "id": "pwuT-LuIS38N",
        "colab_type": "code",
        "colab": {
          "base_uri": "https://localhost:8080/",
          "height": 34
        },
        "outputId": "6bb2fe60-d90c-42fb-df4b-9cf198cb5f7d"
      },
      "source": [
        "ci = find_sparse_sol(input_data,2,N)\n",
        "count = 0\n",
        "for i in range(N-1):\n",
        "  if ci[i,:]!=0:\n",
        "    count += 1\n",
        "print(count)"
      ],
      "execution_count": 134,
      "outputs": [
        {
          "output_type": "stream",
          "text": [
            "177\n"
          ],
          "name": "stdout"
        }
      ]
    },
    {
      "cell_type": "markdown",
      "metadata": {
        "id": "r-SZ0G0wKG9v",
        "colab_type": "text"
      },
      "source": [
        "The function `find_sparse_sol` finds the coefficients for the equation $y_i == Y_{\\hat{i}} * c_i$. The method will return the $c_i$ coefficient vector for the removal of the $y_i$ vector from the data matrix. This $c_i$ vector will contain non zero coefficients for all the other points which are in the same subspace as $y_i$. So, among the $N-1$ column entries, $N_i - 1$ entries will be non zero. The remaining entries will be $0$."
      ]
    },
    {
      "cell_type": "code",
      "metadata": {
        "id": "ZwXYwvvC_kHS",
        "colab_type": "code",
        "colab": {
          "base_uri": "https://localhost:8080/",
          "height": 34
        },
        "outputId": "58dfb522-51ac-4625-9cd4-7f1bd9a96d5c"
      },
      "source": [
        "C = np.concatenate((np.zeros((1,1)),find_sparse_sol(input_data,0,N)),axis=0)\n",
        "\n",
        "for i in range(1,N):\n",
        "  ci = find_sparse_sol(input_data,i,N)\n",
        "  zero_element = np.zeros((1,1))\n",
        "  cif = np.concatenate((ci[0:i,:],zero_element,ci[i:N,:]),axis=0)\n",
        "  C = np.concatenate((C,cif),axis=1)\n",
        "print(C.shape)"
      ],
      "execution_count": 135,
      "outputs": [
        {
          "output_type": "stream",
          "text": [
            "(178, 178)\n"
          ],
          "name": "stdout"
        }
      ]
    },
    {
      "cell_type": "markdown",
      "metadata": {
        "id": "E3cBxKja1e6z",
        "colab_type": "text"
      },
      "source": [
        "We now include a zero vector of size $(1,1)$ at the $i$ th position of $c_i$ to form $\\hat{c_i}$ which we represent as *cif* in the code.\n",
        "Then we concatenate $[\\hat{c_1}$, $\\hat{c_2}$, ..., $\\hat{c_N}]$ to form the matrix $C$.  \n",
        "\n",
        "$C$ is the *Matrix of Coefficients* and is of the form $C = [\\hat{c_1}, \\hat{c_2}, ..., \\hat{c_N}] \\in \\mathbb{R}^{NXN}$."
      ]
    },
    {
      "cell_type": "code",
      "metadata": {
        "id": "NlY4sREA2-d9",
        "colab_type": "code",
        "colab": {
          "base_uri": "https://localhost:8080/",
          "height": 34
        },
        "outputId": "513cfd68-99c9-4869-eb7f-116ef4af7444"
      },
      "source": [
        "Cp = np.zeros((C.shape[0], C.shape[1]))\n",
        "for i in range(N):\n",
        "  for j in range(N):\n",
        "    Cp[i,j] = abs(C[i,j]) + abs(C[j,i])\n",
        "\n",
        "print(Cp.shape)"
      ],
      "execution_count": 136,
      "outputs": [
        {
          "output_type": "stream",
          "text": [
            "(178, 178)\n"
          ],
          "name": "stdout"
        }
      ]
    },
    {
      "cell_type": "code",
      "metadata": {
        "id": "PQh2rr72WBrx",
        "colab_type": "code",
        "colab": {
          "base_uri": "https://localhost:8080/",
          "height": 34
        },
        "outputId": "d7bf151a-109d-4ffa-e203-73be8749a4f6"
      },
      "source": [
        "cz = 0\n",
        "for i in range(Cp.shape[0]):\n",
        "    for j in range(Cp.shape[1]):\n",
        "        if Cp[i,j] < 1e-5:\n",
        "            cz += 1\n",
        "print(cz)"
      ],
      "execution_count": 137,
      "outputs": [
        {
          "output_type": "stream",
          "text": [
            "28954\n"
          ],
          "name": "stdout"
        }
      ]
    },
    {
      "cell_type": "markdown",
      "metadata": {
        "id": "m1L7S6u044O3",
        "colab_type": "text"
      },
      "source": [
        "In the above code block, we make $C$ a symmetric matrix by the operation $C_{ij} = |C_{ij}| + |C_{ji}|$. It is still a valid representation of the similarity since if $y_i$ can write itself as a linear combination of all the points in the same subspace including $y_j$, then $y_j$ can also be represented as a linear combination of all the other points belonging to the same subspace including $c_i$."
      ]
    },
    {
      "cell_type": "code",
      "metadata": {
        "id": "WJPCzyQB7EZV",
        "colab_type": "code",
        "colab": {
          "base_uri": "https://localhost:8080/",
          "height": 134
        },
        "outputId": "81e2e117-ed18-402f-e1d7-bfe704e9ebf2"
      },
      "source": [
        "D = np.zeros((N,N))\n",
        "sum_list=[]\n",
        "for i in range(N):\n",
        "  csum = np.sum(Cp[:,i],axis=0)\n",
        "  sum_list.append(csum)\n",
        "\n",
        "D = np.diag(sum_list)\n",
        "print(D)"
      ],
      "execution_count": 138,
      "outputs": [
        {
          "output_type": "stream",
          "text": [
            "[[1.77566829 0.         0.         ... 0.         0.         0.        ]\n",
            " [0.         3.0934134  0.         ... 0.         0.         0.        ]\n",
            " [0.         0.         1.26613727 ... 0.         0.         0.        ]\n",
            " ...\n",
            " [0.         0.         0.         ... 4.42537469 0.         0.        ]\n",
            " [0.         0.         0.         ... 0.         1.67255326 0.        ]\n",
            " [0.         0.         0.         ... 0.         0.         2.04561665]]\n"
          ],
          "name": "stdout"
        }
      ]
    },
    {
      "cell_type": "markdown",
      "metadata": {
        "id": "7W1JwZZF8Ehk",
        "colab_type": "text"
      },
      "source": [
        "$D$ is the `degree matrix`. In this case, $D \\in \\mathbb{R}^{NxN}$ is a diagonal matrix with $D_{ii} = \\sum_{j}C_{ij}$. "
      ]
    },
    {
      "cell_type": "code",
      "metadata": {
        "id": "wbjEg6vPtePP",
        "colab_type": "code",
        "colab": {
          "base_uri": "https://localhost:8080/",
          "height": 34
        },
        "outputId": "e7e04d4d-354f-4bb8-a44d-e8838df79737"
      },
      "source": [
        "L = np.subtract(D, Cp)\n",
        "print(L.shape)"
      ],
      "execution_count": 139,
      "outputs": [
        {
          "output_type": "stream",
          "text": [
            "(178, 178)\n"
          ],
          "name": "stdout"
        }
      ]
    },
    {
      "cell_type": "markdown",
      "metadata": {
        "id": "ntR93B89-PVd",
        "colab_type": "text"
      },
      "source": [
        "This $L$ is the Laplacian matrix, which can be defined as $L = D - C$. Next, we calculate the `eigenvalues` and `eigenvectors` of the Laplacian matrix, which we will use for Spectral clustering of the data points. $L$ is a *positive, semi-definite matrix* this means all the eigenvalues of the matrix will be greater than equal to $0$."
      ]
    },
    {
      "cell_type": "markdown",
      "metadata": {
        "id": "V9-CnwWNXvLl",
        "colab_type": "text"
      },
      "source": [
        "### Perform Spectral Clustering with Laplacian Matrix L"
      ]
    },
    {
      "cell_type": "code",
      "metadata": {
        "id": "DRb2jMuntrii",
        "colab_type": "code",
        "colab": {}
      },
      "source": [
        "from scipy import linalg\n",
        "\n",
        "eigenvals, eigenvcts = linalg.eig(L)\n",
        "\n",
        "eigenvals = np.real(eigenvals)\n",
        "eigenvcts = np.real(eigenvcts)\n",
        "\n",
        "eig = eigenvals.reshape((N,1))"
      ],
      "execution_count": 140,
      "outputs": []
    },
    {
      "cell_type": "code",
      "metadata": {
        "id": "0UUcEVK7zHI5",
        "colab_type": "code",
        "colab": {
          "base_uri": "https://localhost:8080/",
          "height": 54
        },
        "outputId": "300ccc63-b5e0-4533-bfc3-b10bb9230b27"
      },
      "source": [
        "eig_list=[]\n",
        "for x in eig:\n",
        "  eig_list.append(x[0])\n",
        "\n",
        "eig_list.sort()\n",
        "print(eig_list)"
      ],
      "execution_count": 141,
      "outputs": [
        {
          "output_type": "stream",
          "text": [
            "[4.184282759358809e-15, 0.40708692451637374, 0.4689746635084622, 0.5779516306481536, 0.6222191645656293, 0.6393113351725086, 0.6492978617248959, 0.6843528018994844, 0.690545674101907, 0.709360730413077, 0.7478787787578655, 0.75322502866369, 0.7709757585593179, 0.7838003988320603, 0.7860244068934218, 0.8026982465261218, 0.8068087656108573, 0.8338458324658787, 0.8438760753705311, 0.8557140461623491, 0.8658152130508587, 0.8811502501396328, 0.8918770281065276, 0.9013866714266908, 0.9085650395681989, 0.9110336394949251, 0.9163963554568864, 0.9367961698611749, 0.940351622541126, 0.9448451430546264, 0.9547682541964578, 0.9598666369317627, 0.9719457090044502, 0.9754764391914685, 0.9846998246761173, 0.9923493010222075, 1.0102698299372492, 1.0163194252156498, 1.020447967076858, 1.0430171613351857, 1.0519454994953612, 1.0654818694643904, 1.0723215089860185, 1.0779668301340195, 1.0847314432839819, 1.097317237880487, 1.1235835005195878, 1.129085683154003, 1.1350664230869687, 1.1407700449048173, 1.148570259248703, 1.1544384408913257, 1.1636273729244577, 1.1670972820430938, 1.1876180067228916, 1.1944362464309721, 1.2130471835727714, 1.2298637644143067, 1.247559792777845, 1.2637223341255834, 1.2777817529224713, 1.2941104890904795, 1.299864716767919, 1.3042859875970743, 1.325403175240849, 1.3326815278973005, 1.3804915306364116, 1.4019614893400707, 1.4228882844399073, 1.4332927396390502, 1.453142882063383, 1.4715850911583477, 1.4930955068041034, 1.5073181211887652, 1.5128916662059826, 1.5231354512552293, 1.5332239392172264, 1.5518412824459888, 1.575322258905069, 1.5829225470948773, 1.596866334055786, 1.6148349657374859, 1.6343805971426892, 1.6634651094627055, 1.6693350302302006, 1.7241484273392396, 1.737476704201733, 1.7569741799699712, 1.7843016484915624, 1.814677655998311, 1.8342161020352428, 1.8420361181406466, 1.8612623505223092, 1.8881580486793808, 1.905489304841809, 1.9128697564810644, 1.9319307421313323, 1.954846357968989, 1.9736429118939085, 1.9951760158342027, 2.027661944437832, 2.0408572074513613, 2.058890587964304, 2.0835789314395425, 2.1001830348412827, 2.1253141031249543, 2.1579964734520813, 2.162125509803475, 2.1693728673859995, 2.210970116276635, 2.2389367050042566, 2.254597215127068, 2.263144906025451, 2.287962016059429, 2.3043973094889108, 2.320653620059964, 2.376731742126887, 2.422124884875646, 2.460218389633314, 2.4757147354610445, 2.521614279542365, 2.601607214153791, 2.629295667255678, 2.664823890097014, 2.69657063870186, 2.714895721774637, 2.7349398855269498, 2.835530568063343, 2.8485151603443177, 2.8665138371060594, 2.9057895706451435, 2.923136591226434, 2.9367251955059652, 2.98133787023688, 3.009449691168389, 3.027081576474681, 3.0407465642829594, 3.0997188629115944, 3.1586770596705898, 3.3081281359701316, 3.370585123177849, 3.4290629846731586, 3.4738000193641914, 3.4991185394532107, 3.6393220351113067, 3.719106923581669, 3.72961563789723, 3.8535969101917464, 3.9115378301530774, 3.96020114992467, 4.07129715269408, 4.108414759297868, 4.194438507790088, 4.257698629580991, 4.343533187938457, 4.382719416912945, 4.420877262081107, 4.576760670446064, 4.585553081941945, 4.766188823777141, 4.800306406695862, 4.806965388501082, 4.987269357640979, 5.13802120910394, 5.2018632593022405, 5.2474451870447165, 5.313678247041628, 5.555855642725466, 5.669431280232828, 5.945602652010124, 5.983254465676353, 6.0237344694098605, 6.310134101104185, 6.443733902023001, 6.555516892138115, 7.278536335857516, 7.331736228827456, 7.898383545064967]\n"
          ],
          "name": "stdout"
        }
      ]
    },
    {
      "cell_type": "markdown",
      "metadata": {
        "id": "wu5OuA6B_IM-",
        "colab_type": "text"
      },
      "source": [
        "Here, we sort all the eigenvalues of the $L$ matrix. We find that the number of zero eigenvalues is $2$, which are the first $2$ eigenvalues, which means that the graph has $2$ `connected components`, which is the **same as the number of subspaces** from which the data have been collected. \n",
        "\n",
        "> **Thus, the multiplicity of the zero eigenvalues of the Laplacian Matrix $L$ is equal to the *number of connected components in the graph* which is same as the number of subspaces.**"
      ]
    },
    {
      "cell_type": "markdown",
      "metadata": {
        "id": "q0m-mZwKU3RT",
        "colab_type": "text"
      },
      "source": [
        "Sort Eigen Values"
      ]
    },
    {
      "cell_type": "code",
      "metadata": {
        "id": "cYP8FqrbJBnQ",
        "colab_type": "code",
        "colab": {}
      },
      "source": [
        "eigenvals_sorted_indices = np.argsort(eigenvals)\n",
        "eigenvals_sorted = eigenvals[eigenvals_sorted_indices]"
      ],
      "execution_count": 142,
      "outputs": []
    },
    {
      "cell_type": "code",
      "metadata": {
        "id": "u0QhkBsUun4r",
        "colab_type": "code",
        "colab": {
          "base_uri": "https://localhost:8080/",
          "height": 67
        },
        "outputId": "64b57149-46b1-464d-8d44-b3504df97260"
      },
      "source": [
        "indices = []\n",
        "for i in range(0,K):\n",
        "    ind = []\n",
        "    print(eigenvals_sorted_indices[i])\n",
        "    ind.append(eigenvals_sorted_indices[i])\n",
        "    indices.append(np.asarray(ind))"
      ],
      "execution_count": 143,
      "outputs": [
        {
          "output_type": "stream",
          "text": [
            "3\n",
            "52\n",
            "62\n"
          ],
          "name": "stdout"
        }
      ]
    },
    {
      "cell_type": "code",
      "metadata": {
        "id": "NO2k7fzRzD7u",
        "colab_type": "code",
        "colab": {}
      },
      "source": [
        "indices = np.asarray(indices)"
      ],
      "execution_count": 144,
      "outputs": []
    },
    {
      "cell_type": "code",
      "metadata": {
        "id": "n4zaFueSviZd",
        "colab_type": "code",
        "colab": {}
      },
      "source": [
        "zero_eigenvals_index = np.array(indices)"
      ],
      "execution_count": 145,
      "outputs": []
    },
    {
      "cell_type": "markdown",
      "metadata": {
        "id": "7Hvtlq10bWu2",
        "colab_type": "text"
      },
      "source": [
        "Here, the indices are arranged according to their sorted order of values and the sorted eigen values are stored in *eigenvals_sorted*."
      ]
    },
    {
      "cell_type": "code",
      "metadata": {
        "id": "r5LywuQNJS-a",
        "colab_type": "code",
        "colab": {
          "base_uri": "https://localhost:8080/",
          "height": 67
        },
        "outputId": "7372739d-c7d8-45ca-862a-77b3823c2baf"
      },
      "source": [
        "eigenvals[zero_eigenvals_index]"
      ],
      "execution_count": 146,
      "outputs": [
        {
          "output_type": "execute_result",
          "data": {
            "text/plain": [
              "array([[4.18428276e-15],\n",
              "       [4.07086925e-01],\n",
              "       [4.68974664e-01]])"
            ]
          },
          "metadata": {
            "tags": []
          },
          "execution_count": 146
        }
      ]
    },
    {
      "cell_type": "markdown",
      "metadata": {
        "id": "mtONWJ8ecjnc",
        "colab_type": "text"
      },
      "source": [
        "Here, we collect the indices of *the zero eigen values* (for convenience we consider values smaller than $10^{-5}$ to be equal to zero). \\\\\n",
        "*The zero eigen values* are the displayed."
      ]
    },
    {
      "cell_type": "code",
      "metadata": {
        "id": "FFRDm3KxJZRq",
        "colab_type": "code",
        "colab": {
          "base_uri": "https://localhost:8080/",
          "height": 195
        },
        "outputId": "03ec84c0-4899-4b73-cd60-3ad99821695b"
      },
      "source": [
        "import pandas as pd\n",
        "\n",
        "proj_df = pd.DataFrame(eigenvcts[:, zero_eigenvals_index.squeeze()])\n",
        "proj_df.columns = ['v_' + str(c) for c in proj_df.columns]\n",
        "proj_df.head()"
      ],
      "execution_count": 147,
      "outputs": [
        {
          "output_type": "execute_result",
          "data": {
            "text/html": [
              "<div>\n",
              "<style scoped>\n",
              "    .dataframe tbody tr th:only-of-type {\n",
              "        vertical-align: middle;\n",
              "    }\n",
              "\n",
              "    .dataframe tbody tr th {\n",
              "        vertical-align: top;\n",
              "    }\n",
              "\n",
              "    .dataframe thead th {\n",
              "        text-align: right;\n",
              "    }\n",
              "</style>\n",
              "<table border=\"1\" class=\"dataframe\">\n",
              "  <thead>\n",
              "    <tr style=\"text-align: right;\">\n",
              "      <th></th>\n",
              "      <th>v_0</th>\n",
              "      <th>v_1</th>\n",
              "      <th>v_2</th>\n",
              "    </tr>\n",
              "  </thead>\n",
              "  <tbody>\n",
              "    <tr>\n",
              "      <th>0</th>\n",
              "      <td>0.074953</td>\n",
              "      <td>-0.070832</td>\n",
              "      <td>-0.096227</td>\n",
              "    </tr>\n",
              "    <tr>\n",
              "      <th>1</th>\n",
              "      <td>0.074953</td>\n",
              "      <td>-0.056307</td>\n",
              "      <td>-0.047522</td>\n",
              "    </tr>\n",
              "    <tr>\n",
              "      <th>2</th>\n",
              "      <td>0.074953</td>\n",
              "      <td>-0.058465</td>\n",
              "      <td>-0.019998</td>\n",
              "    </tr>\n",
              "    <tr>\n",
              "      <th>3</th>\n",
              "      <td>0.074953</td>\n",
              "      <td>-0.062030</td>\n",
              "      <td>-0.080295</td>\n",
              "    </tr>\n",
              "    <tr>\n",
              "      <th>4</th>\n",
              "      <td>0.074953</td>\n",
              "      <td>-0.012187</td>\n",
              "      <td>-0.034480</td>\n",
              "    </tr>\n",
              "  </tbody>\n",
              "</table>\n",
              "</div>"
            ],
            "text/plain": [
              "        v_0       v_1       v_2\n",
              "0  0.074953 -0.070832 -0.096227\n",
              "1  0.074953 -0.056307 -0.047522\n",
              "2  0.074953 -0.058465 -0.019998\n",
              "3  0.074953 -0.062030 -0.080295\n",
              "4  0.074953 -0.012187 -0.034480"
            ]
          },
          "metadata": {
            "tags": []
          },
          "execution_count": 147
        }
      ]
    },
    {
      "cell_type": "markdown",
      "metadata": {
        "id": "Qri19uQ4dJBN",
        "colab_type": "text"
      },
      "source": [
        "Stack the Eigen Vectors corresponding to the zero Eigen Values in a dataframe *proj_df*. This can be thought of as a $N X Z$ matrix ($Z$ = number of zero eigen values) where the columns denote an eigen vector and the rows denote a data point."
      ]
    },
    {
      "cell_type": "markdown",
      "metadata": {
        "id": "HVNDq5caWTO9",
        "colab_type": "text"
      },
      "source": [
        "Apply *K-Means Clustering* with $K = 3$."
      ]
    },
    {
      "cell_type": "code",
      "metadata": {
        "id": "YSsmqs6pJv00",
        "colab_type": "code",
        "colab": {}
      },
      "source": [
        "from sklearn.cluster import KMeans\n",
        "\n",
        "def run_k_means(df, n_clusters):\n",
        "    k_means = KMeans(random_state=25, n_clusters=n_clusters)\n",
        "    k_means.fit(df)\n",
        "    cluster = k_means.predict(df)\n",
        "    return cluster\n",
        "\n",
        "cluster = run_k_means(proj_df, n_clusters=K)"
      ],
      "execution_count": 148,
      "outputs": []
    },
    {
      "cell_type": "markdown",
      "metadata": {
        "id": "pPnf2mI1drid",
        "colab_type": "text"
      },
      "source": [
        "*run_k_means* applies `K-Means Clustering` on *proj_df* with number of clusters = $2$. \\\\\n",
        "The clustering of the data points is returned in the variable *'cluster'*."
      ]
    },
    {
      "cell_type": "markdown",
      "metadata": {
        "id": "fwOidi1bWjem",
        "colab_type": "text"
      },
      "source": [
        "Display clusters formed"
      ]
    },
    {
      "cell_type": "code",
      "metadata": {
        "id": "jLRKyRkfJ_U5",
        "colab_type": "code",
        "colab": {
          "base_uri": "https://localhost:8080/",
          "height": 101
        },
        "outputId": "f8d094fd-3961-40ee-a75b-830796adba9a"
      },
      "source": [
        "print(cluster)"
      ],
      "execution_count": 149,
      "outputs": [
        {
          "output_type": "stream",
          "text": [
            "[0 0 0 0 0 0 0 0 0 0 0 0 0 0 0 0 0 0 0 0 0 0 0 0 0 0 0 0 0 0 0 0 0 0 0 0 0\n",
            " 0 0 0 0 0 0 0 0 0 0 0 0 0 0 0 0 0 0 0 0 0 0 2 2 2 0 2 2 2 0 2 0 2 2 2 2 0\n",
            " 0 2 2 2 2 2 2 2 2 1 2 2 2 2 2 2 2 2 2 2 2 0 2 2 0 2 2 2 2 2 2 2 2 2 2 2 2\n",
            " 2 0 2 2 2 2 2 2 2 0 2 2 2 2 2 2 2 2 2 1 1 1 1 1 1 1 1 1 1 1 1 1 1 1 1 1 1\n",
            " 1 1 1 1 1 1 1 1 1 1 1 1 1 1 1 1 1 1 1 1 1 1 1 1 1 1 1 1 1 1]\n"
          ],
          "name": "stdout"
        }
      ]
    },
    {
      "cell_type": "markdown",
      "metadata": {
        "id": "QHQACwpQed8s",
        "colab_type": "text"
      },
      "source": [
        "As we can see, the data points have been clustered into two subspaces: $0$ and $1$ corresponding to the $2$ subspaces that we have considered."
      ]
    },
    {
      "cell_type": "code",
      "metadata": {
        "id": "3smn0NN4Kbk7",
        "colab_type": "code",
        "colab": {
          "base_uri": "https://localhost:8080/",
          "height": 34
        },
        "outputId": "ebddbc70-4af9-4907-b7b6-74e19a7d8fb6"
      },
      "source": [
        "c0 = 0\n",
        "for l in cluster:\n",
        "  if l == 0:\n",
        "    c0 += 1\n",
        "print(c0)"
      ],
      "execution_count": 150,
      "outputs": [
        {
          "output_type": "stream",
          "text": [
            "68\n"
          ],
          "name": "stdout"
        }
      ]
    },
    {
      "cell_type": "code",
      "metadata": {
        "id": "F7f1v-_bofIE",
        "colab_type": "code",
        "colab": {
          "base_uri": "https://localhost:8080/",
          "height": 34
        },
        "outputId": "36cf2347-f38f-4cee-e490-12efaab57bd2"
      },
      "source": [
        "c1 = 0\n",
        "for l in cluster:\n",
        "  if l == 1:\n",
        "    c1 += 1\n",
        "print(c1)"
      ],
      "execution_count": 151,
      "outputs": [
        {
          "output_type": "stream",
          "text": [
            "49\n"
          ],
          "name": "stdout"
        }
      ]
    },
    {
      "cell_type": "code",
      "metadata": {
        "id": "jvdHX2_lok3p",
        "colab_type": "code",
        "colab": {
          "base_uri": "https://localhost:8080/",
          "height": 34
        },
        "outputId": "6584377f-a11a-472a-9a0a-f625b93171fb"
      },
      "source": [
        "c2 = 0\n",
        "for l in cluster:\n",
        "  if l == 2:\n",
        "    c2 += 1\n",
        "print(c2)"
      ],
      "execution_count": 152,
      "outputs": [
        {
          "output_type": "stream",
          "text": [
            "61\n"
          ],
          "name": "stdout"
        }
      ]
    },
    {
      "cell_type": "markdown",
      "metadata": {
        "id": "H36SQElze54g",
        "colab_type": "text"
      },
      "source": [
        "So we find that as expected $50$ data points have been labelled $0$, signifying that they belong to  the $1$st subspace, while the remaining $50$ points must belong to the $2$nd subspace. "
      ]
    },
    {
      "cell_type": "code",
      "metadata": {
        "id": "nU6VYuVgwTBx",
        "colab_type": "code",
        "colab": {}
      },
      "source": [
        "orig = wine_data.target"
      ],
      "execution_count": 153,
      "outputs": []
    },
    {
      "cell_type": "code",
      "metadata": {
        "id": "Bx0uk4fAwZek",
        "colab_type": "code",
        "colab": {}
      },
      "source": [
        "pred = np.asarray(cluster)"
      ],
      "execution_count": 154,
      "outputs": []
    },
    {
      "cell_type": "code",
      "metadata": {
        "id": "tRV6m17FxNr4",
        "colab_type": "code",
        "colab": {
          "base_uri": "https://localhost:8080/",
          "height": 50
        },
        "outputId": "3cf88205-d4f3-4d6d-d8cc-be01338e132c"
      },
      "source": [
        "from sklearn.metrics import adjusted_rand_score\n",
        "from sklearn.metrics import normalized_mutual_info_score\n",
        "print(\"ARI = \" + str(adjusted_rand_score(orig, pred)))\n",
        "print(\"NMI = \" + str(normalized_mutual_info_score(orig, pred)))"
      ],
      "execution_count": 155,
      "outputs": [
        {
          "output_type": "stream",
          "text": [
            "ARI = 0.8297415339237041\n",
            "NMI = 0.8358558565678333\n"
          ],
          "name": "stdout"
        }
      ]
    },
    {
      "cell_type": "code",
      "metadata": {
        "id": "AdYBGCgS1nRp",
        "colab_type": "code",
        "colab": {}
      },
      "source": [
        ""
      ],
      "execution_count": null,
      "outputs": []
    }
  ]
}