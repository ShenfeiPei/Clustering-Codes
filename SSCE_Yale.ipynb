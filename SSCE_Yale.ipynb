{
 "cells": [
  {
   "cell_type": "markdown",
   "metadata": {
    "colab_type": "text",
    "id": "DhW6WxwgtBk1"
   },
   "source": [
    "# Sparse Subspace Clustering with Entropy-Norm (ICML 2020) on Yale Dataset"
   ]
  },
  {
   "cell_type": "markdown",
   "metadata": {
    "colab_type": "text",
    "id": "t2L05ocWW0kh"
   },
   "source": [
    "#### References:\n",
    "\n",
    "\n",
    "1.   Main Paper (SSC Entropy-Norm ICML 2020): https://proceedings.icml.cc/static/paper_files/icml/2020/1982-Paper.pdf\n",
    "2.   Spectral Clustering: http://people.csail.mit.edu/dsontag/courses/ml14/notes/Luxburg07_tutorial_spectral_clustering.pdf\n",
    "3.   Spectral Clustering Code: https://juanitorduz.github.io/spectral_clustering/\n",
    "4.   Yale Dataset: http://vision.ucsd.edu/content/yale-face-database"
   ]
  },
  {
   "cell_type": "markdown",
   "metadata": {
    "colab_type": "text",
    "id": "RbmYLWex6v0o"
   },
   "source": [
    "Our objective is given a set of points drawn from a `union of subspaces`, we need to find the number of subspaces, their dimensions, a basis for each subspace, and the segmentation of the data."
   ]
  },
  {
   "cell_type": "code",
   "execution_count": 39,
   "metadata": {
    "colab": {},
    "colab_type": "code",
    "id": "XZThPNGr_vd5"
   },
   "outputs": [],
   "source": [
    "import numpy as np\n",
    "from scipy.sparse import identity"
   ]
  },
  {
   "cell_type": "markdown",
   "metadata": {
    "colab_type": "text",
    "id": "t4XgMb2uI9oE"
   },
   "source": [
    "##### Set Parameters of the data space"
   ]
  },
  {
   "cell_type": "code",
   "execution_count": 40,
   "metadata": {
    "colab": {},
    "colab_type": "code",
    "id": "8rdHJFmv_yev"
   },
   "outputs": [],
   "source": [
    "N = 165 # Total no of points\n",
    "D = 1024  # Dimension of space\n",
    "K = 15 # Number of clusters"
   ]
  },
  {
   "cell_type": "code",
   "execution_count": 41,
   "metadata": {
    "colab": {},
    "colab_type": "code",
    "id": "scnY2bC4sG6Q"
   },
   "outputs": [],
   "source": [
    "yale_data = np.load('yale_X.npy')\n",
    "input_data = yale_data.astype('float32') / 255.\n",
    "input_data = input_data.T\n",
    "orig_label = np.load('yale_Y.npy')"
   ]
  },
  {
   "cell_type": "markdown",
   "metadata": {
    "colab_type": "text",
    "id": "WPE1xClxI_W7"
   },
   "source": [
    "The matrix *input_data* contains the data points arranged sequentially forming a matrix of shape $(1024, 165), ie. (D,N)$. The *input_data* matrix is of the form $[y[0],y[1], \\ldots, y[N-1]], $where each $y_i$ denotes the vector of a data point of dimension $D$.\n",
    "\n",
    "Also, *input_data* can be assumed to be of the form $[Y_0, Y_1, \\ldots, Y_n]$, where each $Y_i$ denotes the set of $N_i$ data points belonging to subspace $i$. Also assume that the dimension of each subspace $i$ is $d_i$ and $A_i$ is its basis."
   ]
  },
  {
   "cell_type": "code",
   "execution_count": 42,
   "metadata": {},
   "outputs": [],
   "source": [
    "def zij(Y,i,j,lam,N):\n",
    "    if i==j:\n",
    "        return 0.0\n",
    "    else:\n",
    "        numerator = 2 * np.exp(-(np.linalg.norm(Y[:,i]-Y[:,j]))/lam)\n",
    "        #print(numerator)\n",
    "        sum_i=0\n",
    "        sum_j=0\n",
    "        for h in range(N):\n",
    "            if h!=i:\n",
    "                sum_i += np.exp(-(np.linalg.norm(Y[:,i]-Y[:,h]))/lam)\n",
    "        for h in range(N):\n",
    "            if h!=j:\n",
    "                sum_j += np.exp(-(np.linalg.norm(Y[:,j]-Y[:,h]))/lam)\n",
    "        return numerator/(sum_i+sum_j)"
   ]
  },
  {
   "cell_type": "code",
   "execution_count": 43,
   "metadata": {},
   "outputs": [],
   "source": [
    "Z =np.zeros((N,N), dtype='float64')\n",
    "for i in range(N):\n",
    "    for j in range(N):\n",
    "        Z[i,j] = zij(input_data,i,j,995505,N)"
   ]
  },
  {
   "cell_type": "code",
   "execution_count": 44,
   "metadata": {
    "colab": {
     "base_uri": "https://localhost:8080/",
     "height": 134
    },
    "colab_type": "code",
    "id": "WJPCzyQB7EZV",
    "outputId": "1d28739a-7f15-4839-9dd5-c1ea6082feb8"
   },
   "outputs": [
    {
     "name": "stdout",
     "output_type": "stream",
     "text": [
      "[[1.00000061 0.         0.         ... 0.         0.         0.        ]\n",
      " [0.         0.99999952 0.         ... 0.         0.         0.        ]\n",
      " [0.         0.         1.00000066 ... 0.         0.         0.        ]\n",
      " ...\n",
      " [0.         0.         0.         ... 1.00000086 0.         0.        ]\n",
      " [0.         0.         0.         ... 0.         1.00000063 0.        ]\n",
      " [0.         0.         0.         ... 0.         0.         1.00000013]]\n"
     ]
    }
   ],
   "source": [
    "D = np.zeros((N,N))\n",
    "sum_list=[]\n",
    "for i in range(N):\n",
    "    csum = np.sum(Z[:,i],axis=0)\n",
    "    sum_list.append(csum)\n",
    "\n",
    "D = np.diag(sum_list)\n",
    "print(D)"
   ]
  },
  {
   "cell_type": "markdown",
   "metadata": {
    "colab_type": "text",
    "id": "7W1JwZZF8Ehk"
   },
   "source": [
    "$D$ is the `degree matrix`. In this case, $D \\in \\mathbb{R}^{NxN}$ is a diagonal matrix with $D_{ii} = \\sum_{j}W_{ij}$. "
   ]
  },
  {
   "cell_type": "code",
   "execution_count": 45,
   "metadata": {
    "colab": {
     "base_uri": "https://localhost:8080/",
     "height": 34
    },
    "colab_type": "code",
    "id": "wbjEg6vPtePP",
    "outputId": "006a4807-1138-4e7e-9d67-6ede6d12ebec"
   },
   "outputs": [
    {
     "name": "stdout",
     "output_type": "stream",
     "text": [
      "(165, 165)\n"
     ]
    }
   ],
   "source": [
    "L = np.subtract(D, Z)\n",
    "LN =  np.diag(np.divide(1, np.sqrt(np.sum(D, axis=0) + np.finfo(float).eps)))@ L @  np.diag(np.divide(1, np.sqrt(np.sum(D, axis=0) + np.finfo(float).eps)))\n",
    "print(LN.shape)"
   ]
  },
  {
   "cell_type": "markdown",
   "metadata": {
    "colab_type": "text",
    "id": "ntR93B89-PVd"
   },
   "source": [
    "This $L$ is the Laplacian matrix, which can be defined as $L = D - W$. Next, we calculate the `eigenvalues` and `eigenvectors` of the Normalized Laplacian matrix, which we will use for Spectral clustering of the data points. $L$ is a *positive, semi-definite matrix* this means all the eigenvalues of the matrix will be greater than equal to $0$."
   ]
  },
  {
   "cell_type": "markdown",
   "metadata": {
    "colab_type": "text",
    "id": "V9-CnwWNXvLl"
   },
   "source": [
    "### Perform Spectral Clustering with Laplacian Matrix LN"
   ]
  },
  {
   "cell_type": "code",
   "execution_count": 46,
   "metadata": {
    "colab": {},
    "colab_type": "code",
    "id": "DRb2jMuntrii"
   },
   "outputs": [],
   "source": [
    "from scipy import linalg\n",
    "\n",
    "eigenvals, eigenvcts = linalg.eig(LN)\n",
    "\n",
    "eigenvals = np.real(eigenvals)\n",
    "eigenvcts = np.real(eigenvcts)\n",
    "\n",
    "eig = eigenvals.reshape((N,1))"
   ]
  },
  {
   "cell_type": "markdown",
   "metadata": {
    "colab_type": "text",
    "id": "q0m-mZwKU3RT"
   },
   "source": [
    "Sort Eigen Values"
   ]
  },
  {
   "cell_type": "code",
   "execution_count": 47,
   "metadata": {
    "colab": {},
    "colab_type": "code",
    "id": "cYP8FqrbJBnQ"
   },
   "outputs": [],
   "source": [
    "eigenvals_sorted_indices = np.argsort(eigenvals)\n",
    "eigenvals_sorted = eigenvals[eigenvals_sorted_indices]"
   ]
  },
  {
   "cell_type": "code",
   "execution_count": 48,
   "metadata": {
    "colab": {
     "base_uri": "https://localhost:8080/",
     "height": 269
    },
    "colab_type": "code",
    "id": "u0QhkBsUun4r",
    "outputId": "8c7b6803-4a7a-49ec-c804-1a35a43606ef"
   },
   "outputs": [
    {
     "name": "stdout",
     "output_type": "stream",
     "text": [
      "0\n",
      "1\n",
      "2\n",
      "3\n",
      "4\n",
      "5\n",
      "6\n",
      "7\n",
      "8\n",
      "9\n",
      "10\n",
      "11\n",
      "12\n",
      "13\n",
      "14\n"
     ]
    }
   ],
   "source": [
    "indices = []\n",
    "for i in range(0,K):\n",
    "    ind = []\n",
    "    print(eigenvals_sorted_indices[i])\n",
    "    ind.append(eigenvals_sorted_indices[i])\n",
    "    indices.append(np.asarray(ind))"
   ]
  },
  {
   "cell_type": "markdown",
   "metadata": {
    "colab_type": "text",
    "id": "qFONfvwCzVG-"
   },
   "source": [
    "In the above code, we find out the indices of the eigenvectors corresponding to the $K$ smallest eigenvectors."
   ]
  },
  {
   "cell_type": "code",
   "execution_count": 49,
   "metadata": {
    "colab": {},
    "colab_type": "code",
    "id": "NO2k7fzRzD7u"
   },
   "outputs": [],
   "source": [
    "indices = np.asarray(indices)"
   ]
  },
  {
   "cell_type": "code",
   "execution_count": 50,
   "metadata": {
    "colab": {},
    "colab_type": "code",
    "id": "n4zaFueSviZd"
   },
   "outputs": [],
   "source": [
    "zero_eigenvals_index = np.array(indices)"
   ]
  },
  {
   "cell_type": "markdown",
   "metadata": {
    "colab_type": "text",
    "id": "7Hvtlq10bWu2"
   },
   "source": [
    "Here, the indices are arranged according to their sorted order of values and the sorted eigen values are stored in *eigenvals_sorted*."
   ]
  },
  {
   "cell_type": "code",
   "execution_count": 51,
   "metadata": {
    "colab": {
     "base_uri": "https://localhost:8080/",
     "height": 269
    },
    "colab_type": "code",
    "id": "r5LywuQNJS-a",
    "outputId": "20019eae-307b-4f34-9efd-cd2c7c901e51"
   },
   "outputs": [
    {
     "data": {
      "text/plain": [
       "array([[4.37659078e-17],\n",
       "       [1.00609590e+00],\n",
       "       [1.00609657e+00],\n",
       "       [1.00609695e+00],\n",
       "       [1.00609709e+00],\n",
       "       [1.00609720e+00],\n",
       "       [1.00609727e+00],\n",
       "       [1.00609732e+00],\n",
       "       [1.00609736e+00],\n",
       "       [1.00609737e+00],\n",
       "       [1.00609740e+00],\n",
       "       [1.00609743e+00],\n",
       "       [1.00609744e+00],\n",
       "       [1.00609748e+00],\n",
       "       [1.00609749e+00]])"
      ]
     },
     "execution_count": 51,
     "metadata": {},
     "output_type": "execute_result"
    }
   ],
   "source": [
    "eigenvals[zero_eigenvals_index]"
   ]
  },
  {
   "cell_type": "code",
   "execution_count": 52,
   "metadata": {
    "colab": {
     "base_uri": "https://localhost:8080/",
     "height": 195
    },
    "colab_type": "code",
    "id": "FFRDm3KxJZRq",
    "outputId": "40d8805a-248a-42a8-c9da-2cb5a9920e1d"
   },
   "outputs": [
    {
     "data": {
      "text/html": [
       "<div>\n",
       "<style scoped>\n",
       "    .dataframe tbody tr th:only-of-type {\n",
       "        vertical-align: middle;\n",
       "    }\n",
       "\n",
       "    .dataframe tbody tr th {\n",
       "        vertical-align: top;\n",
       "    }\n",
       "\n",
       "    .dataframe thead th {\n",
       "        text-align: right;\n",
       "    }\n",
       "</style>\n",
       "<table border=\"1\" class=\"dataframe\">\n",
       "  <thead>\n",
       "    <tr style=\"text-align: right;\">\n",
       "      <th></th>\n",
       "      <th>v_0</th>\n",
       "      <th>v_1</th>\n",
       "      <th>v_2</th>\n",
       "      <th>v_3</th>\n",
       "      <th>v_4</th>\n",
       "      <th>v_5</th>\n",
       "      <th>v_6</th>\n",
       "      <th>v_7</th>\n",
       "      <th>v_8</th>\n",
       "      <th>v_9</th>\n",
       "      <th>v_10</th>\n",
       "      <th>v_11</th>\n",
       "      <th>v_12</th>\n",
       "      <th>v_13</th>\n",
       "      <th>v_14</th>\n",
       "    </tr>\n",
       "  </thead>\n",
       "  <tbody>\n",
       "    <tr>\n",
       "      <th>0</th>\n",
       "      <td>0.07785</td>\n",
       "      <td>0.077773</td>\n",
       "      <td>-0.021564</td>\n",
       "      <td>-0.027693</td>\n",
       "      <td>-0.007208</td>\n",
       "      <td>-0.006871</td>\n",
       "      <td>0.041433</td>\n",
       "      <td>-0.088549</td>\n",
       "      <td>-0.020449</td>\n",
       "      <td>0.071363</td>\n",
       "      <td>0.048204</td>\n",
       "      <td>0.041359</td>\n",
       "      <td>0.087182</td>\n",
       "      <td>-0.073864</td>\n",
       "      <td>-0.131946</td>\n",
       "    </tr>\n",
       "    <tr>\n",
       "      <th>1</th>\n",
       "      <td>0.07785</td>\n",
       "      <td>-0.128399</td>\n",
       "      <td>-0.012117</td>\n",
       "      <td>-0.046922</td>\n",
       "      <td>0.147033</td>\n",
       "      <td>-0.063362</td>\n",
       "      <td>-0.128516</td>\n",
       "      <td>0.014661</td>\n",
       "      <td>0.087995</td>\n",
       "      <td>0.178037</td>\n",
       "      <td>-0.023953</td>\n",
       "      <td>0.046839</td>\n",
       "      <td>-0.032116</td>\n",
       "      <td>0.015506</td>\n",
       "      <td>-0.016208</td>\n",
       "    </tr>\n",
       "    <tr>\n",
       "      <th>2</th>\n",
       "      <td>0.07785</td>\n",
       "      <td>0.073276</td>\n",
       "      <td>0.005316</td>\n",
       "      <td>-0.034263</td>\n",
       "      <td>-0.091887</td>\n",
       "      <td>-0.042795</td>\n",
       "      <td>-0.065412</td>\n",
       "      <td>0.053112</td>\n",
       "      <td>0.057993</td>\n",
       "      <td>0.048013</td>\n",
       "      <td>0.078217</td>\n",
       "      <td>-0.002621</td>\n",
       "      <td>0.231163</td>\n",
       "      <td>0.051965</td>\n",
       "      <td>0.047338</td>\n",
       "    </tr>\n",
       "    <tr>\n",
       "      <th>3</th>\n",
       "      <td>0.07785</td>\n",
       "      <td>0.038496</td>\n",
       "      <td>0.046542</td>\n",
       "      <td>-0.075860</td>\n",
       "      <td>-0.021090</td>\n",
       "      <td>-0.087964</td>\n",
       "      <td>0.005962</td>\n",
       "      <td>-0.087548</td>\n",
       "      <td>0.066138</td>\n",
       "      <td>-0.071061</td>\n",
       "      <td>-0.227177</td>\n",
       "      <td>-0.061104</td>\n",
       "      <td>0.067953</td>\n",
       "      <td>-0.004817</td>\n",
       "      <td>0.008373</td>\n",
       "    </tr>\n",
       "    <tr>\n",
       "      <th>4</th>\n",
       "      <td>0.07785</td>\n",
       "      <td>0.022744</td>\n",
       "      <td>0.072771</td>\n",
       "      <td>-0.001014</td>\n",
       "      <td>-0.039595</td>\n",
       "      <td>0.049833</td>\n",
       "      <td>-0.014933</td>\n",
       "      <td>-0.000818</td>\n",
       "      <td>0.082914</td>\n",
       "      <td>-0.043903</td>\n",
       "      <td>-0.042328</td>\n",
       "      <td>0.025725</td>\n",
       "      <td>0.027002</td>\n",
       "      <td>0.006483</td>\n",
       "      <td>-0.160293</td>\n",
       "    </tr>\n",
       "  </tbody>\n",
       "</table>\n",
       "</div>"
      ],
      "text/plain": [
       "       v_0       v_1       v_2       v_3       v_4       v_5       v_6  \\\n",
       "0  0.07785  0.077773 -0.021564 -0.027693 -0.007208 -0.006871  0.041433   \n",
       "1  0.07785 -0.128399 -0.012117 -0.046922  0.147033 -0.063362 -0.128516   \n",
       "2  0.07785  0.073276  0.005316 -0.034263 -0.091887 -0.042795 -0.065412   \n",
       "3  0.07785  0.038496  0.046542 -0.075860 -0.021090 -0.087964  0.005962   \n",
       "4  0.07785  0.022744  0.072771 -0.001014 -0.039595  0.049833 -0.014933   \n",
       "\n",
       "        v_7       v_8       v_9      v_10      v_11      v_12      v_13  \\\n",
       "0 -0.088549 -0.020449  0.071363  0.048204  0.041359  0.087182 -0.073864   \n",
       "1  0.014661  0.087995  0.178037 -0.023953  0.046839 -0.032116  0.015506   \n",
       "2  0.053112  0.057993  0.048013  0.078217 -0.002621  0.231163  0.051965   \n",
       "3 -0.087548  0.066138 -0.071061 -0.227177 -0.061104  0.067953 -0.004817   \n",
       "4 -0.000818  0.082914 -0.043903 -0.042328  0.025725  0.027002  0.006483   \n",
       "\n",
       "       v_14  \n",
       "0 -0.131946  \n",
       "1 -0.016208  \n",
       "2  0.047338  \n",
       "3  0.008373  \n",
       "4 -0.160293  "
      ]
     },
     "execution_count": 52,
     "metadata": {},
     "output_type": "execute_result"
    }
   ],
   "source": [
    "import pandas as pd\n",
    "\n",
    "proj_df = pd.DataFrame(eigenvcts[:, zero_eigenvals_index.squeeze()])\n",
    "proj_df.columns = ['v_' + str(c) for c in proj_df.columns]\n",
    "proj_df.head()"
   ]
  },
  {
   "cell_type": "markdown",
   "metadata": {
    "colab_type": "text",
    "id": "Qri19uQ4dJBN"
   },
   "source": [
    "Stack the Eigen Vectors corresponding to the zero Eigen Values in a dataframe *proj_df*. This can be thought of as a $N X K$ matrix where the columns denote an eigen vector and the rows denote a data point."
   ]
  },
  {
   "cell_type": "markdown",
   "metadata": {
    "colab_type": "text",
    "id": "HVNDq5caWTO9"
   },
   "source": [
    "Apply *K-Means Clustering* with $K = 15$."
   ]
  },
  {
   "cell_type": "code",
   "execution_count": 53,
   "metadata": {
    "colab": {},
    "colab_type": "code",
    "id": "YSsmqs6pJv00"
   },
   "outputs": [],
   "source": [
    "from sklearn.cluster import KMeans\n",
    "\n",
    "def run_k_means(df, n_clusters):\n",
    "    k_means = KMeans(random_state=25, n_clusters=n_clusters)\n",
    "    k_means.fit(df)\n",
    "    cluster = k_means.predict(df)\n",
    "    return cluster\n",
    "\n",
    "cluster = run_k_means(proj_df, n_clusters=K) +1"
   ]
  },
  {
   "cell_type": "markdown",
   "metadata": {
    "colab_type": "text",
    "id": "pPnf2mI1drid"
   },
   "source": [
    "*run_k_means* applies `K-Means Clustering` on *proj_df* with number of clusters = $3$.The clustering of the data points is returned in the variable *'cluster'*."
   ]
  },
  {
   "cell_type": "markdown",
   "metadata": {
    "colab_type": "text",
    "id": "fwOidi1bWjem"
   },
   "source": [
    "Display clusters formed"
   ]
  },
  {
   "cell_type": "code",
   "execution_count": 54,
   "metadata": {
    "colab": {
     "base_uri": "https://localhost:8080/",
     "height": 134
    },
    "colab_type": "code",
    "id": "jLRKyRkfJ_U5",
    "outputId": "16ae5739-70c3-46aa-dc15-2fd0e7cb81ca"
   },
   "outputs": [
    {
     "name": "stdout",
     "output_type": "stream",
     "text": [
      "[ 2 13  9 14  2  4  3 10 10  5 12 11 14  2  4  6  3  5 15  1  5  4 10 15\n",
      "  7  6  2  9 15  7 11 13  7 14  9  2 13  3  3  3  3 10  1  3 13  7  7  7\n",
      "  7 13 10  9  1  3 13  8  2  7 12  3  7  1  7 14 15 12  9  3  2 11  2  3\n",
      "  6 10 15  5  2  9  3  2 14  5 10  8  3 10  1  2  2  2  2  6  6  7  2 11\n",
      "  6 13  2  1  1 14  7  1  1 15  2  5  3  7  1 11  4 10  3  2  3  8  2  9\n",
      "  6  1 12 10 13  6  1  2 13  5  3 10  1  3  5 15 12  7 11  7 11  3  6  1\n",
      "  4  8  5  3  4  3  3  4  4  9 15 14 13  9 12 15  2  3 14 12  5]\n"
     ]
    }
   ],
   "source": [
    "print(cluster)"
   ]
  },
  {
   "cell_type": "markdown",
   "metadata": {
    "colab_type": "text",
    "id": "QHQACwpQed8s"
   },
   "source": [
    "As we can see, the data points have been clustered into $fifteen$ subspaces: $1$ to $15$ corresponding to the $fifteen$ subspaces that we have considered."
   ]
  },
  {
   "cell_type": "code",
   "execution_count": 55,
   "metadata": {
    "colab": {},
    "colab_type": "code",
    "id": "Bx0uk4fAwZek"
   },
   "outputs": [],
   "source": [
    "pred = np.asarray(cluster)"
   ]
  },
  {
   "cell_type": "markdown",
   "metadata": {
    "colab_type": "text",
    "id": "bExLkqYQzVHk"
   },
   "source": [
    "### Calculate Performance"
   ]
  },
  {
   "cell_type": "code",
   "execution_count": 56,
   "metadata": {
    "colab": {
     "base_uri": "https://localhost:8080/",
     "height": 50
    },
    "colab_type": "code",
    "id": "tRV6m17FxNr4",
    "outputId": "4485cf95-6da0-4381-ae4c-22c7afd6c4be"
   },
   "outputs": [
    {
     "name": "stdout",
     "output_type": "stream",
     "text": [
      "ARI = 0.4053919688640787\n",
      "NMI = 0.6570342831476702\n"
     ]
    },
    {
     "name": "stderr",
     "output_type": "stream",
     "text": [
      "D:\\Anaconda\\lib\\site-packages\\sklearn\\metrics\\cluster\\supervised.py:859: FutureWarning: The behavior of NMI will change in version 0.22. To match the behavior of 'v_measure_score', NMI will use average_method='arithmetic' by default.\n",
      "  FutureWarning)\n"
     ]
    }
   ],
   "source": [
    "from sklearn.metrics import adjusted_rand_score\n",
    "from sklearn.metrics import normalized_mutual_info_score\n",
    "print(\"ARI = \" + str(adjusted_rand_score(orig_label, pred)))\n",
    "print(\"NMI = \" + str(normalized_mutual_info_score(orig_label, pred)))"
   ]
  },
  {
   "cell_type": "markdown",
   "metadata": {
    "colab_type": "text",
    "id": "rHk42GwL1peN"
   },
   "source": [
    "In the above code block, we calculate the `Adjusted random score` and the `normalized mutual info score` between the `original` and the `predicted` labels for the various data points."
   ]
  },
  {
   "cell_type": "code",
   "execution_count": null,
   "metadata": {
    "colab": {},
    "colab_type": "code",
    "id": "NGTd6klF1qlb"
   },
   "outputs": [],
   "source": []
  }
 ],
 "metadata": {
  "colab": {
   "collapsed_sections": [],
   "name": "SSC_Vidal2013_Yale.ipynb",
   "provenance": []
  },
  "kernelspec": {
   "display_name": "Python 3",
   "language": "python",
   "name": "python3"
  },
  "language_info": {
   "codemirror_mode": {
    "name": "ipython",
    "version": 3
   },
   "file_extension": ".py",
   "mimetype": "text/x-python",
   "name": "python",
   "nbconvert_exporter": "python",
   "pygments_lexer": "ipython3",
   "version": "3.7.3"
  }
 },
 "nbformat": 4,
 "nbformat_minor": 1
}
