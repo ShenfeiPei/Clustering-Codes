{
 "cells": [
  {
   "cell_type": "markdown",
   "metadata": {
    "colab_type": "text",
    "id": "DhW6WxwgtBk1"
   },
   "source": [
    "# Sparse Subspace Clustering with Entropy-Norm (ICML 2020) on Yale Dataset"
   ]
  },
  {
   "cell_type": "markdown",
   "metadata": {
    "colab_type": "text",
    "id": "t2L05ocWW0kh"
   },
   "source": [
    "#### References:\n",
    "\n",
    "\n",
    "1.   Main Paper (SSC Entropy-Norm ICML 2020): https://proceedings.icml.cc/static/paper_files/icml/2020/1982-Paper.pdf\n",
    "2.   Spectral Clustering: http://people.csail.mit.edu/dsontag/courses/ml14/notes/Luxburg07_tutorial_spectral_clustering.pdf\n",
    "3.   Spectral Clustering Code: https://juanitorduz.github.io/spectral_clustering/\n",
    "4.   Yale Dataset: http://vision.ucsd.edu/content/yale-face-database"
   ]
  },
  {
   "cell_type": "markdown",
   "metadata": {
    "colab_type": "text",
    "id": "RbmYLWex6v0o"
   },
   "source": [
    "Our objective is given a set of points drawn from a `union of subspaces`, we need to find the number of subspaces, their dimensions, a basis for each subspace, and the segmentation of the data."
   ]
  },
  {
   "cell_type": "code",
   "execution_count": 40,
   "metadata": {
    "colab": {},
    "colab_type": "code",
    "id": "XZThPNGr_vd5"
   },
   "outputs": [],
   "source": [
    "import numpy as np\n",
    "from scipy.sparse import identity"
   ]
  },
  {
   "cell_type": "markdown",
   "metadata": {
    "colab_type": "text",
    "id": "t4XgMb2uI9oE"
   },
   "source": [
    "##### Set Parameters of the data space"
   ]
  },
  {
   "cell_type": "code",
   "execution_count": 41,
   "metadata": {
    "colab": {},
    "colab_type": "code",
    "id": "8rdHJFmv_yev"
   },
   "outputs": [],
   "source": [
    "N = 165 # Total no of points\n",
    "D = 1024  # Dimension of space\n",
    "K = 15 # Number of clusters"
   ]
  },
  {
   "cell_type": "code",
   "execution_count": 42,
   "metadata": {
    "colab": {},
    "colab_type": "code",
    "id": "scnY2bC4sG6Q"
   },
   "outputs": [],
   "source": [
    "yale_data = np.load('yale_X.npy')\n",
    "input_data = yale_data.astype('float32') / 255.\n",
    "input_data = input_data.T\n",
    "orig_label = np.load('yale_Y.npy')"
   ]
  },
  {
   "cell_type": "markdown",
   "metadata": {
    "colab_type": "text",
    "id": "WPE1xClxI_W7"
   },
   "source": [
    "The matrix *input_data* contains the data points arranged sequentially forming a matrix of shape $(1024, 165), ie. (D,N)$. The *input_data* matrix is of the form $[y[0],y[1], \\ldots, y[N-1]], $where each $y_i$ denotes the vector of a data point of dimension $D$.\n",
    "\n",
    "Also, *input_data* can be assumed to be of the form $[Y_0, Y_1, \\ldots, Y_n]$, where each $Y_i$ denotes the set of $N_i$ data points belonging to subspace $i$. Also assume that the dimension of each subspace $i$ is $d_i$ and $A_i$ is its basis."
   ]
  },
  {
   "cell_type": "code",
   "execution_count": 43,
   "metadata": {},
   "outputs": [],
   "source": [
    "def zij(Y,i,j,lam,N):\n",
    "    if i==j:\n",
    "        return 0.0\n",
    "    else:\n",
    "        numerator = 2 * np.exp(-(np.square(np.linalg.norm(Y[:,i]-Y[:,j],2)))/lam)\n",
    "        #print(numerator)\n",
    "        sum_i=0\n",
    "        sum_j=0\n",
    "        for h in range(N):\n",
    "            if h!=i:\n",
    "                sum_i += np.exp(-(np.square(np.linalg.norm(Y[:,i]-Y[:,h],2)))/lam)\n",
    "        for h in range(N):\n",
    "            if h!=j:\n",
    "                sum_j += np.exp(-(np.square(np.linalg.norm(Y[:,j]-Y[:,h],2)))/lam)\n",
    "        return numerator/(sum_i+sum_j)"
   ]
  },
  {
   "cell_type": "code",
   "execution_count": 44,
   "metadata": {},
   "outputs": [],
   "source": [
    "Z =np.zeros((N,N), dtype='float64')\n",
    "for i in range(N):\n",
    "    for j in range(N):\n",
    "        Z[i,j] = zij(input_data,i,j,995505,N)"
   ]
  },
  {
   "cell_type": "code",
   "execution_count": 45,
   "metadata": {},
   "outputs": [
    {
     "name": "stdout",
     "output_type": "stream",
     "text": [
      "165\n"
     ]
    }
   ],
   "source": [
    "# Check sparsity by counting the number of zeros\n",
    "\n",
    "cz = 0\n",
    "for i in range(Z.shape[0]):\n",
    "    for j in range(Z.shape[1]):\n",
    "        if Z[i,j] < 1e-5 and Z[i,j] > -1e-5:\n",
    "            cz += 1\n",
    "print(cz)"
   ]
  },
  {
   "cell_type": "code",
   "execution_count": 46,
   "metadata": {
    "colab": {
     "base_uri": "https://localhost:8080/",
     "height": 34
    },
    "colab_type": "code",
    "id": "wbjEg6vPtePP",
    "outputId": "006a4807-1138-4e7e-9d67-6ede6d12ebec"
   },
   "outputs": [
    {
     "name": "stdout",
     "output_type": "stream",
     "text": [
      "(165, 165)\n"
     ]
    }
   ],
   "source": [
    "LN = np.subtract(np.eye(N,N), Z)\n",
    "print(LN.shape)"
   ]
  },
  {
   "cell_type": "markdown",
   "metadata": {
    "colab_type": "text",
    "id": "ntR93B89-PVd"
   },
   "source": [
    "This $LN$ is the Normalized Laplacian matrix, which can be defined as $LN = I - Z$, this is because from the paper we know that $Z$ is a lower bound of the normal Gaussian Kernel. Next, we calculate the eigenvalues and eigenvectors of the Normalized Laplacian matrix $LN$, which we will use for Spectral clustering of the data points. $LN$ is a positive, semi-definite matrix this means all the eigenvalues of the matrix will be greater than equal to $0$."
   ]
  },
  {
   "cell_type": "markdown",
   "metadata": {
    "colab_type": "text",
    "id": "V9-CnwWNXvLl"
   },
   "source": [
    "### Perform Spectral Clustering with Laplacian Matrix LN"
   ]
  },
  {
   "cell_type": "code",
   "execution_count": 47,
   "metadata": {
    "colab": {},
    "colab_type": "code",
    "id": "DRb2jMuntrii"
   },
   "outputs": [],
   "source": [
    "from scipy import linalg\n",
    "\n",
    "eigenvals, eigenvcts = linalg.eig(LN)\n",
    "\n",
    "eigenvals = np.real(eigenvals)\n",
    "eigenvcts = np.real(eigenvcts)\n",
    "\n",
    "eig = eigenvals.reshape((N,1))"
   ]
  },
  {
   "cell_type": "markdown",
   "metadata": {
    "colab_type": "text",
    "id": "q0m-mZwKU3RT"
   },
   "source": [
    "Sort Eigen Values"
   ]
  },
  {
   "cell_type": "code",
   "execution_count": 48,
   "metadata": {
    "colab": {},
    "colab_type": "code",
    "id": "cYP8FqrbJBnQ"
   },
   "outputs": [],
   "source": [
    "eigenvals_sorted_indices = np.argsort(eigenvals)\n",
    "eigenvals_sorted = eigenvals[eigenvals_sorted_indices]"
   ]
  },
  {
   "cell_type": "code",
   "execution_count": 49,
   "metadata": {
    "colab": {
     "base_uri": "https://localhost:8080/",
     "height": 269
    },
    "colab_type": "code",
    "id": "u0QhkBsUun4r",
    "outputId": "8c7b6803-4a7a-49ec-c804-1a35a43606ef"
   },
   "outputs": [
    {
     "name": "stdout",
     "output_type": "stream",
     "text": [
      "0\n",
      "1\n",
      "2\n",
      "3\n",
      "4\n",
      "5\n",
      "6\n",
      "7\n",
      "9\n",
      "8\n",
      "10\n",
      "11\n",
      "12\n",
      "13\n",
      "14\n"
     ]
    }
   ],
   "source": [
    "indices = []\n",
    "for i in range(0,K):\n",
    "    ind = []\n",
    "    print(eigenvals_sorted_indices[i])\n",
    "    ind.append(eigenvals_sorted_indices[i])\n",
    "    indices.append(np.asarray(ind))"
   ]
  },
  {
   "cell_type": "markdown",
   "metadata": {
    "colab_type": "text",
    "id": "qFONfvwCzVG-"
   },
   "source": [
    "In the above code, we find out the indices of the eigenvectors corresponding to the $K$ smallest eigenvectors."
   ]
  },
  {
   "cell_type": "code",
   "execution_count": 50,
   "metadata": {
    "colab": {},
    "colab_type": "code",
    "id": "NO2k7fzRzD7u"
   },
   "outputs": [],
   "source": [
    "indices = np.asarray(indices)"
   ]
  },
  {
   "cell_type": "code",
   "execution_count": 51,
   "metadata": {
    "colab": {},
    "colab_type": "code",
    "id": "n4zaFueSviZd"
   },
   "outputs": [],
   "source": [
    "zero_eigenvals_index = np.array(indices)"
   ]
  },
  {
   "cell_type": "markdown",
   "metadata": {
    "colab_type": "text",
    "id": "7Hvtlq10bWu2"
   },
   "source": [
    "Here, the indices are arranged according to their sorted order of values and the sorted eigen values are stored in *eigenvals_sorted*."
   ]
  },
  {
   "cell_type": "code",
   "execution_count": 52,
   "metadata": {
    "colab": {
     "base_uri": "https://localhost:8080/",
     "height": 269
    },
    "colab_type": "code",
    "id": "r5LywuQNJS-a",
    "outputId": "20019eae-307b-4f34-9efd-cd2c7c901e51"
   },
   "outputs": [
    {
     "data": {
      "text/plain": [
       "array([[4.17958335e-10],\n",
       "       [1.00605589e+00],\n",
       "       [1.00607897e+00],\n",
       "       [1.00608606e+00],\n",
       "       [1.00608821e+00],\n",
       "       [1.00609180e+00],\n",
       "       [1.00609266e+00],\n",
       "       [1.00609454e+00],\n",
       "       [1.00609515e+00],\n",
       "       [1.00609527e+00],\n",
       "       [1.00609586e+00],\n",
       "       [1.00609654e+00],\n",
       "       [1.00609668e+00],\n",
       "       [1.00609698e+00],\n",
       "       [1.00609711e+00]])"
      ]
     },
     "execution_count": 52,
     "metadata": {},
     "output_type": "execute_result"
    }
   ],
   "source": [
    "eigenvals[zero_eigenvals_index]"
   ]
  },
  {
   "cell_type": "code",
   "execution_count": 53,
   "metadata": {
    "colab": {
     "base_uri": "https://localhost:8080/",
     "height": 195
    },
    "colab_type": "code",
    "id": "FFRDm3KxJZRq",
    "outputId": "40d8805a-248a-42a8-c9da-2cb5a9920e1d"
   },
   "outputs": [
    {
     "data": {
      "text/html": [
       "<div>\n",
       "<style scoped>\n",
       "    .dataframe tbody tr th:only-of-type {\n",
       "        vertical-align: middle;\n",
       "    }\n",
       "\n",
       "    .dataframe tbody tr th {\n",
       "        vertical-align: top;\n",
       "    }\n",
       "\n",
       "    .dataframe thead th {\n",
       "        text-align: right;\n",
       "    }\n",
       "</style>\n",
       "<table border=\"1\" class=\"dataframe\">\n",
       "  <thead>\n",
       "    <tr style=\"text-align: right;\">\n",
       "      <th></th>\n",
       "      <th>v_0</th>\n",
       "      <th>v_1</th>\n",
       "      <th>v_2</th>\n",
       "      <th>v_3</th>\n",
       "      <th>v_4</th>\n",
       "      <th>v_5</th>\n",
       "      <th>v_6</th>\n",
       "      <th>v_7</th>\n",
       "      <th>v_8</th>\n",
       "      <th>v_9</th>\n",
       "      <th>v_10</th>\n",
       "      <th>v_11</th>\n",
       "      <th>v_12</th>\n",
       "      <th>v_13</th>\n",
       "      <th>v_14</th>\n",
       "    </tr>\n",
       "  </thead>\n",
       "  <tbody>\n",
       "    <tr>\n",
       "      <th>0</th>\n",
       "      <td>0.077851</td>\n",
       "      <td>-0.066929</td>\n",
       "      <td>0.020962</td>\n",
       "      <td>-0.027023</td>\n",
       "      <td>-0.017792</td>\n",
       "      <td>-0.001221</td>\n",
       "      <td>-0.025435</td>\n",
       "      <td>0.113326</td>\n",
       "      <td>0.005595</td>\n",
       "      <td>0.130606</td>\n",
       "      <td>0.008839</td>\n",
       "      <td>0.080330</td>\n",
       "      <td>-0.005199</td>\n",
       "      <td>-0.029553</td>\n",
       "      <td>0.011234</td>\n",
       "    </tr>\n",
       "    <tr>\n",
       "      <th>1</th>\n",
       "      <td>0.077849</td>\n",
       "      <td>0.116941</td>\n",
       "      <td>-0.013711</td>\n",
       "      <td>-0.048794</td>\n",
       "      <td>0.129095</td>\n",
       "      <td>0.028244</td>\n",
       "      <td>0.098699</td>\n",
       "      <td>-0.100370</td>\n",
       "      <td>0.103420</td>\n",
       "      <td>0.147778</td>\n",
       "      <td>-0.038298</td>\n",
       "      <td>-0.029582</td>\n",
       "      <td>-0.027265</td>\n",
       "      <td>-0.030486</td>\n",
       "      <td>0.024688</td>\n",
       "    </tr>\n",
       "    <tr>\n",
       "      <th>2</th>\n",
       "      <td>0.077851</td>\n",
       "      <td>-0.059607</td>\n",
       "      <td>-0.009261</td>\n",
       "      <td>-0.013277</td>\n",
       "      <td>-0.095527</td>\n",
       "      <td>0.031575</td>\n",
       "      <td>0.025993</td>\n",
       "      <td>-0.061884</td>\n",
       "      <td>0.046813</td>\n",
       "      <td>0.074288</td>\n",
       "      <td>0.103209</td>\n",
       "      <td>0.178596</td>\n",
       "      <td>0.104049</td>\n",
       "      <td>0.042352</td>\n",
       "      <td>0.090881</td>\n",
       "    </tr>\n",
       "    <tr>\n",
       "      <th>3</th>\n",
       "      <td>0.077851</td>\n",
       "      <td>-0.027676</td>\n",
       "      <td>-0.050662</td>\n",
       "      <td>-0.065176</td>\n",
       "      <td>-0.032670</td>\n",
       "      <td>0.085483</td>\n",
       "      <td>0.005743</td>\n",
       "      <td>0.059990</td>\n",
       "      <td>0.119113</td>\n",
       "      <td>-0.078515</td>\n",
       "      <td>-0.145990</td>\n",
       "      <td>0.064368</td>\n",
       "      <td>0.106585</td>\n",
       "      <td>0.044473</td>\n",
       "      <td>0.009736</td>\n",
       "    </tr>\n",
       "    <tr>\n",
       "      <th>4</th>\n",
       "      <td>0.077851</td>\n",
       "      <td>-0.019896</td>\n",
       "      <td>-0.065845</td>\n",
       "      <td>0.018125</td>\n",
       "      <td>-0.040284</td>\n",
       "      <td>-0.048256</td>\n",
       "      <td>0.001364</td>\n",
       "      <td>-0.011957</td>\n",
       "      <td>0.086165</td>\n",
       "      <td>-0.084236</td>\n",
       "      <td>-0.002703</td>\n",
       "      <td>0.079187</td>\n",
       "      <td>-0.027383</td>\n",
       "      <td>-0.186439</td>\n",
       "      <td>-0.069664</td>\n",
       "    </tr>\n",
       "  </tbody>\n",
       "</table>\n",
       "</div>"
      ],
      "text/plain": [
       "        v_0       v_1       v_2       v_3       v_4       v_5       v_6  \\\n",
       "0  0.077851 -0.066929  0.020962 -0.027023 -0.017792 -0.001221 -0.025435   \n",
       "1  0.077849  0.116941 -0.013711 -0.048794  0.129095  0.028244  0.098699   \n",
       "2  0.077851 -0.059607 -0.009261 -0.013277 -0.095527  0.031575  0.025993   \n",
       "3  0.077851 -0.027676 -0.050662 -0.065176 -0.032670  0.085483  0.005743   \n",
       "4  0.077851 -0.019896 -0.065845  0.018125 -0.040284 -0.048256  0.001364   \n",
       "\n",
       "        v_7       v_8       v_9      v_10      v_11      v_12      v_13  \\\n",
       "0  0.113326  0.005595  0.130606  0.008839  0.080330 -0.005199 -0.029553   \n",
       "1 -0.100370  0.103420  0.147778 -0.038298 -0.029582 -0.027265 -0.030486   \n",
       "2 -0.061884  0.046813  0.074288  0.103209  0.178596  0.104049  0.042352   \n",
       "3  0.059990  0.119113 -0.078515 -0.145990  0.064368  0.106585  0.044473   \n",
       "4 -0.011957  0.086165 -0.084236 -0.002703  0.079187 -0.027383 -0.186439   \n",
       "\n",
       "       v_14  \n",
       "0  0.011234  \n",
       "1  0.024688  \n",
       "2  0.090881  \n",
       "3  0.009736  \n",
       "4 -0.069664  "
      ]
     },
     "execution_count": 53,
     "metadata": {},
     "output_type": "execute_result"
    }
   ],
   "source": [
    "import pandas as pd\n",
    "\n",
    "proj_df = pd.DataFrame(eigenvcts[:, zero_eigenvals_index.squeeze()])\n",
    "proj_df.columns = ['v_' + str(c) for c in proj_df.columns]\n",
    "proj_df.head()"
   ]
  },
  {
   "cell_type": "markdown",
   "metadata": {
    "colab_type": "text",
    "id": "Qri19uQ4dJBN"
   },
   "source": [
    "Stack the Eigen Vectors corresponding to the zero Eigen Values in a dataframe *proj_df*. This can be thought of as a $N X K$ matrix where the columns denote an eigen vector and the rows denote a data point."
   ]
  },
  {
   "cell_type": "markdown",
   "metadata": {
    "colab_type": "text",
    "id": "HVNDq5caWTO9"
   },
   "source": [
    "Apply *K-Means Clustering* with $K = 15$."
   ]
  },
  {
   "cell_type": "code",
   "execution_count": 54,
   "metadata": {
    "colab": {},
    "colab_type": "code",
    "id": "YSsmqs6pJv00"
   },
   "outputs": [],
   "source": [
    "from sklearn.cluster import KMeans\n",
    "\n",
    "def run_k_means(df, n_clusters):\n",
    "    k_means = KMeans(random_state=25, n_clusters=n_clusters)\n",
    "    k_means.fit(df)\n",
    "    cluster = k_means.predict(df)\n",
    "    return cluster\n",
    "\n",
    "cluster = run_k_means(proj_df, n_clusters=K) +1"
   ]
  },
  {
   "cell_type": "markdown",
   "metadata": {
    "colab_type": "text",
    "id": "pPnf2mI1drid"
   },
   "source": [
    "*run_k_means* applies `K-Means Clustering` on *proj_df* with number of clusters = $3$.The clustering of the data points is returned in the variable *'cluster'*."
   ]
  },
  {
   "cell_type": "markdown",
   "metadata": {
    "colab_type": "text",
    "id": "fwOidi1bWjem"
   },
   "source": [
    "Display clusters formed"
   ]
  },
  {
   "cell_type": "code",
   "execution_count": 55,
   "metadata": {
    "colab": {
     "base_uri": "https://localhost:8080/",
     "height": 134
    },
    "colab_type": "code",
    "id": "jLRKyRkfJ_U5",
    "outputId": "16ae5739-70c3-46aa-dc15-2fd0e7cb81ca"
   },
   "outputs": [
    {
     "name": "stdout",
     "output_type": "stream",
     "text": [
      "[ 9  4  6 11 10  8  1 12 12  5 15 14 11 15  8  7 10  5  9  2  5  8  2  9\n",
      " 13  7  3  6  9 13 14  4 13 11  6 10  4  1  1 10  1 12  2 10  4 13 13 13\n",
      " 13  4 12  6  2 10  4  3  2 13 15  3 13  2 13 11  9 15  6  3 10 14  3  3\n",
      "  7 12  9  5  9  6  3 10 11  5 12  3  1 12  9 10  9 15 10  7  4 13  9 14\n",
      "  7  4  9  2  2 11 13  2  2  9 10  5  1 13  9 14  8 12 10 10 10  3 10  6\n",
      "  7  9 15 12  4  7  2 15  4  5  1 12  2 10  5  9 15 13 14  4 14  1  7  2\n",
      "  8  3  5 10  8 10  1  8  8  6  9 11  4  6 15  9  9 10 11 15  5]\n"
     ]
    }
   ],
   "source": [
    "print(cluster)"
   ]
  },
  {
   "cell_type": "markdown",
   "metadata": {
    "colab_type": "text",
    "id": "QHQACwpQed8s"
   },
   "source": [
    "As we can see, the data points have been clustered into $fifteen$ subspaces: $1$ to $15$ corresponding to the $fifteen$ subspaces that we have considered."
   ]
  },
  {
   "cell_type": "code",
   "execution_count": 56,
   "metadata": {
    "colab": {},
    "colab_type": "code",
    "id": "Bx0uk4fAwZek"
   },
   "outputs": [],
   "source": [
    "pred = np.asarray(cluster)"
   ]
  },
  {
   "cell_type": "markdown",
   "metadata": {
    "colab_type": "text",
    "id": "bExLkqYQzVHk"
   },
   "source": [
    "### Calculate Performance"
   ]
  },
  {
   "cell_type": "code",
   "execution_count": 57,
   "metadata": {
    "colab": {
     "base_uri": "https://localhost:8080/",
     "height": 50
    },
    "colab_type": "code",
    "id": "tRV6m17FxNr4",
    "outputId": "4485cf95-6da0-4381-ae4c-22c7afd6c4be"
   },
   "outputs": [
    {
     "name": "stdout",
     "output_type": "stream",
     "text": [
      "ARI = 0.48996272510890554\n",
      "NMI = 0.6988005129829699\n"
     ]
    },
    {
     "name": "stderr",
     "output_type": "stream",
     "text": [
      "D:\\Anaconda\\lib\\site-packages\\sklearn\\metrics\\cluster\\supervised.py:859: FutureWarning: The behavior of NMI will change in version 0.22. To match the behavior of 'v_measure_score', NMI will use average_method='arithmetic' by default.\n",
      "  FutureWarning)\n"
     ]
    }
   ],
   "source": [
    "from sklearn.metrics import adjusted_rand_score\n",
    "from sklearn.metrics import normalized_mutual_info_score\n",
    "print(\"ARI = \" + str(adjusted_rand_score(orig_label, pred)))\n",
    "print(\"NMI = \" + str(normalized_mutual_info_score(orig_label, pred)))"
   ]
  },
  {
   "cell_type": "markdown",
   "metadata": {
    "colab_type": "text",
    "id": "rHk42GwL1peN"
   },
   "source": [
    "In the above code block, we calculate the `Adjusted random score` and the `normalized mutual info score` between the `original` and the `predicted` labels for the various data points."
   ]
  },
  {
   "cell_type": "code",
   "execution_count": null,
   "metadata": {
    "colab": {},
    "colab_type": "code",
    "id": "NGTd6klF1qlb"
   },
   "outputs": [],
   "source": []
  }
 ],
 "metadata": {
  "colab": {
   "collapsed_sections": [],
   "name": "SSC_Vidal2013_Yale.ipynb",
   "provenance": []
  },
  "kernelspec": {
   "display_name": "Python 3",
   "language": "python",
   "name": "python3"
  },
  "language_info": {
   "codemirror_mode": {
    "name": "ipython",
    "version": 3
   },
   "file_extension": ".py",
   "mimetype": "text/x-python",
   "name": "python",
   "nbconvert_exporter": "python",
   "pygments_lexer": "ipython3",
   "version": "3.7.3"
  }
 },
 "nbformat": 4,
 "nbformat_minor": 1
}
