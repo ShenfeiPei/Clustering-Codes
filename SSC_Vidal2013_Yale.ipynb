{
  "nbformat": 4,
  "nbformat_minor": 0,
  "metadata": {
    "colab": {
      "name": "SSC_Vidal2013_Yale.ipynb",
      "provenance": [],
      "collapsed_sections": []
    },
    "kernelspec": {
      "display_name": "Python 3",
      "language": "python",
      "name": "python3"
    },
    "language_info": {
      "codemirror_mode": {
        "name": "ipython",
        "version": 3
      },
      "file_extension": ".py",
      "mimetype": "text/x-python",
      "name": "python",
      "nbconvert_exporter": "python",
      "pygments_lexer": "ipython3",
      "version": "3.7.3"
    }
  },
  "cells": [
    {
      "cell_type": "markdown",
      "metadata": {
        "colab_type": "text",
        "id": "DhW6WxwgtBk1"
      },
      "source": [
        "# Sparse Subspace Clustering (Vidal IEEE Trans. on PAMI 2013) on Yale Dataset"
      ]
    },
    {
      "cell_type": "markdown",
      "metadata": {
        "colab_type": "text",
        "id": "t2L05ocWW0kh"
      },
      "source": [
        "#### References:\n",
        "\n",
        "\n",
        "1.   Main Paper (Vidal IEEE Trans. on PAMI 2013): https://arxiv.org/pdf/1203.1005.pdf\n",
        "2.   Supplementary Paper (Vidal CVPR 2009): http://cis.jhu.edu/~ehsan/Downloads/SSC-CVPR09-Ehsan.pdf\n",
        "3.   Spectral Clustering: http://people.csail.mit.edu/dsontag/courses/ml14/notes/Luxburg07_tutorial_spectral_clustering.pdf\n",
        "4.   Spectral Clustering Code: https://juanitorduz.github.io/spectral_clustering/\n",
        "5.   Yale Dataset: http://vision.ucsd.edu/content/yale-face-database"
      ]
    },
    {
      "cell_type": "code",
      "metadata": {
        "id": "heYQkAnFZlkW",
        "colab_type": "code",
        "colab": {}
      },
      "source": [
        "from google.colab import drive\n",
        "drive.mount('/content/drive')"
      ],
      "execution_count": null,
      "outputs": []
    },
    {
      "cell_type": "markdown",
      "metadata": {
        "colab_type": "text",
        "id": "RbmYLWex6v0o"
      },
      "source": [
        "Our objective is given a set of points drawn from a `union of subspaces`, we need to find the number of subspaces, their dimensions, a basis for each subspace, and the segmentation of the data."
      ]
    },
    {
      "cell_type": "code",
      "metadata": {
        "colab_type": "code",
        "id": "XZThPNGr_vd5",
        "colab": {}
      },
      "source": [
        "import numpy as np\n",
        "import cvxpy as cp\n",
        "from cvxpy.atoms.elementwise.power import power"
      ],
      "execution_count": 2,
      "outputs": []
    },
    {
      "cell_type": "markdown",
      "metadata": {
        "colab_type": "text",
        "id": "t4XgMb2uI9oE"
      },
      "source": [
        "##### Set Parameters of the data space"
      ]
    },
    {
      "cell_type": "code",
      "metadata": {
        "colab_type": "code",
        "id": "8rdHJFmv_yev",
        "colab": {}
      },
      "source": [
        "N = 165 # Total no of points\n",
        "D = 1024  # Dimension of space\n",
        "K = 15 # Number of clusters"
      ],
      "execution_count": 8,
      "outputs": []
    },
    {
      "cell_type": "code",
      "metadata": {
        "colab_type": "code",
        "id": "scnY2bC4sG6Q",
        "colab": {}
      },
      "source": [
        "yale_data = np.load('/content/drive/My Drive/yale_X.npy')\n",
        "input_data = yale_data.astype('float32') / 255.\n",
        "input_data = input_data.T\n",
        "orig_label = np.load('/content/drive/My Drive/yale_Y.npy')"
      ],
      "execution_count": 9,
      "outputs": []
    },
    {
      "cell_type": "markdown",
      "metadata": {
        "colab_type": "text",
        "id": "WPE1xClxI_W7"
      },
      "source": [
        "The matrix *input_data* contains the data points arranged sequentially forming a matrix of shape $(1024, 165), ie. (D,N)$. The *input_data* matrix is of the form $[y[0],y[1], \\ldots, y[N-1]], $where each $y_i$ denotes the vector of a data point of dimension $D$.\n",
        "\n",
        "Also, *input_data* can be assumed to be of the form $[Y_0, Y_1, \\ldots, Y_n]$, where each $Y_i$ denotes the set of $N_i$ data points belonging to subspace $i$. Also assume that the dimension of each subspace $i$ is $d_i$ and $A_i$ is its basis."
      ]
    },
    {
      "cell_type": "code",
      "metadata": {
        "colab_type": "code",
        "id": "uThqA_EnMbUP",
        "colab": {}
      },
      "source": [
        "def find_sparse_sol(Y,i,N):\n",
        "    if i is 0:\n",
        "        Ybari = Y[:,1:N]\n",
        "    if i is N-1:\n",
        "        Ybari = Y[:,0:N-1]\n",
        "    if i!=0 and i!=N-1:\n",
        "        Ybari = np.concatenate((Y[:,0:i],Y[:,i+1:N]),axis=1)\n",
        "    yi = Y[:,i].reshape(D,1)\n",
        "    \n",
        "    # this ci will contain the solution of the l1 optimisation problem:  \n",
        "    # min (||yi - Ybari*ci||F)^2 + lambda*||ci||1   st. sum(ci) = 1\n",
        "    \n",
        "    ci = cp.Variable(shape=(N-1,1))\n",
        "    constraint = [cp.sum(ci)==1]\n",
        "    obj = cp.Minimize(power(cp.norm(yi-Ybari*ci,2),2) + 199101*cp.norm(ci,1)) #lambda = 199101\n",
        "    prob = cp.Problem(obj, constraint)\n",
        "    prob.solve()\n",
        "    return ci.value"
      ],
      "execution_count": 10,
      "outputs": []
    },
    {
      "cell_type": "markdown",
      "metadata": {
        "colab_type": "text",
        "id": "r-SZ0G0wKG9v"
      },
      "source": [
        "The above function `find_sparse_sol` finds the solution to the following optimisation problem $(\\textrm{min} \\; ||y_i - Y_{\\hat{i}}c_i||_{F}^2 + \\lambda||c_i||_1)$ subject to the constraint $\\sum_{i=i}^{N}c_i=1$. We use this optimisation term to *deal with all the possible noise values in the data.*"
      ]
    },
    {
      "cell_type": "code",
      "metadata": {
        "colab_type": "code",
        "id": "ZwXYwvvC_kHS",
        "colab": {
          "base_uri": "https://localhost:8080/",
          "height": 34
        },
        "outputId": "549ab7ca-e3af-4f4a-cd7b-e84d581c5986"
      },
      "source": [
        "C = np.concatenate((np.zeros((1,1)),find_sparse_sol(input_data,0,N)),axis=0)\n",
        "\n",
        "for i in range(1,N):\n",
        "    ci = find_sparse_sol(input_data,i,N)\n",
        "    zero_element = np.zeros((1,1))\n",
        "    cif = np.concatenate((ci[0:i,:],zero_element,ci[i:N,:]),axis=0)\n",
        "    C = np.concatenate((C,cif),axis=1)\n",
        "print(C.shape)"
      ],
      "execution_count": 11,
      "outputs": [
        {
          "output_type": "stream",
          "text": [
            "(165, 165)\n"
          ],
          "name": "stdout"
        }
      ]
    },
    {
      "cell_type": "markdown",
      "metadata": {
        "colab_type": "text",
        "id": "E3cBxKja1e6z"
      },
      "source": [
        "We now include a zero vector of size $(1,1)$ at the $i$ th position of $c_i$ to form $\\hat{c_i}$ which we represent as *cif* in the code.\n",
        "Then we concatenate $[\\hat{c_1}$, $\\hat{c_2}$, ..., $\\hat{c_N}]$ to form the matrix $C$.  \n",
        "\n",
        "$C$ is the *Matrix of Coefficients* and is of the form $C = [\\hat{c_1}, \\hat{c_2}, ..., \\hat{c_N}] \\in \\mathbb{R}^{NXN}$."
      ]
    },
    {
      "cell_type": "code",
      "metadata": {
        "colab_type": "code",
        "id": "NlY4sREA2-d9",
        "colab": {
          "base_uri": "https://localhost:8080/",
          "height": 34
        },
        "outputId": "983f79f2-e2f6-4b9b-bce0-74a21c22fc67"
      },
      "source": [
        "W = np.add(np.absolute(C), np.absolute(C.T))\n",
        "print(W.shape)"
      ],
      "execution_count": 12,
      "outputs": [
        {
          "output_type": "stream",
          "text": [
            "(165, 165)\n"
          ],
          "name": "stdout"
        }
      ]
    },
    {
      "cell_type": "code",
      "metadata": {
        "colab_type": "code",
        "id": "PQh2rr72WBrx",
        "colab": {
          "base_uri": "https://localhost:8080/",
          "height": 34
        },
        "outputId": "234cff3a-947e-4282-a1c3-106ffdcaa092"
      },
      "source": [
        "# Check sparsity by counting the number of zeros\n",
        "\n",
        "cz = 0\n",
        "for i in range(W.shape[0]):\n",
        "    for j in range(W.shape[1]):\n",
        "        if W[i,j] < 1e-5 and W[i,j] > -1e-5:\n",
        "            cz += 1\n",
        "print(cz)"
      ],
      "execution_count": 13,
      "outputs": [
        {
          "output_type": "stream",
          "text": [
            "25137\n"
          ],
          "name": "stdout"
        }
      ]
    },
    {
      "cell_type": "markdown",
      "metadata": {
        "colab_type": "text",
        "id": "m1L7S6u044O3"
      },
      "source": [
        "In the above code block, we make $C$ a symmetric matrix by the operation $W = |C| + |C^T|$. It is still a valid representation of the similarity since if $y_i$ can write itself as a linear combination of all the points in the same subspace including $y_j$, then $y_j$ can also be represented as a linear combination of all the other points belonging to the same subspace including $c_i$.\n",
        "            In the above code block, we print the number of $0$'s in the matrix $W$, we denote any $|W_{ij}|$ less then $e^{-5}$ as $0$."
      ]
    },
    {
      "cell_type": "code",
      "metadata": {
        "colab_type": "code",
        "id": "WJPCzyQB7EZV",
        "colab": {
          "base_uri": "https://localhost:8080/",
          "height": 134
        },
        "outputId": "1d28739a-7f15-4839-9dd5-c1ea6082feb8"
      },
      "source": [
        "D = np.zeros((N,N))\n",
        "sum_list=[]\n",
        "for i in range(N):\n",
        "    csum = np.sum(W[:,i],axis=0)\n",
        "    sum_list.append(csum)\n",
        "\n",
        "D = np.diag(sum_list)\n",
        "print(D)"
      ],
      "execution_count": 14,
      "outputs": [
        {
          "output_type": "stream",
          "text": [
            "[[2.13075991 0.         0.         ... 0.         0.         0.        ]\n",
            " [0.         2.70513964 0.         ... 0.         0.         0.        ]\n",
            " [0.         0.         2.48878329 ... 0.         0.         0.        ]\n",
            " ...\n",
            " [0.         0.         0.         ... 1.36819346 0.         0.        ]\n",
            " [0.         0.         0.         ... 0.         1.50284329 0.        ]\n",
            " [0.         0.         0.         ... 0.         0.         1.5949385 ]]\n"
          ],
          "name": "stdout"
        }
      ]
    },
    {
      "cell_type": "markdown",
      "metadata": {
        "colab_type": "text",
        "id": "7W1JwZZF8Ehk"
      },
      "source": [
        "$D$ is the `degree matrix`. In this case, $D \\in \\mathbb{R}^{NxN}$ is a diagonal matrix with $D_{ii} = \\sum_{j}W_{ij}$. "
      ]
    },
    {
      "cell_type": "code",
      "metadata": {
        "colab_type": "code",
        "id": "wbjEg6vPtePP",
        "colab": {
          "base_uri": "https://localhost:8080/",
          "height": 34
        },
        "outputId": "006a4807-1138-4e7e-9d67-6ede6d12ebec"
      },
      "source": [
        "L = np.subtract(D, W)\n",
        "print(L.shape)"
      ],
      "execution_count": 15,
      "outputs": [
        {
          "output_type": "stream",
          "text": [
            "(165, 165)\n"
          ],
          "name": "stdout"
        }
      ]
    },
    {
      "cell_type": "markdown",
      "metadata": {
        "colab_type": "text",
        "id": "ntR93B89-PVd"
      },
      "source": [
        "This $L$ is the Laplacian matrix, which can be defined as $L = D - W$. Next, we calculate the `eigenvalues` and `eigenvectors` of the Laplacian matrix, which we will use for Spectral clustering of the data points. $L$ is a *positive, semi-definite matrix* this means all the eigenvalues of the matrix will be greater than equal to $0$."
      ]
    },
    {
      "cell_type": "markdown",
      "metadata": {
        "colab_type": "text",
        "id": "V9-CnwWNXvLl"
      },
      "source": [
        "### Perform Spectral Clustering with Laplacian Matrix L"
      ]
    },
    {
      "cell_type": "code",
      "metadata": {
        "colab_type": "code",
        "id": "DRb2jMuntrii",
        "colab": {}
      },
      "source": [
        "from scipy import linalg\n",
        "\n",
        "eigenvals, eigenvcts = linalg.eig(L)\n",
        "\n",
        "eigenvals = np.real(eigenvals)\n",
        "eigenvcts = np.real(eigenvcts)\n",
        "\n",
        "eig = eigenvals.reshape((N,1))"
      ],
      "execution_count": 16,
      "outputs": []
    },
    {
      "cell_type": "markdown",
      "metadata": {
        "colab_type": "text",
        "id": "q0m-mZwKU3RT"
      },
      "source": [
        "Sort Eigen Values"
      ]
    },
    {
      "cell_type": "code",
      "metadata": {
        "colab_type": "code",
        "id": "cYP8FqrbJBnQ",
        "colab": {}
      },
      "source": [
        "eigenvals_sorted_indices = np.argsort(eigenvals)\n",
        "eigenvals_sorted = eigenvals[eigenvals_sorted_indices]"
      ],
      "execution_count": 17,
      "outputs": []
    },
    {
      "cell_type": "code",
      "metadata": {
        "colab_type": "code",
        "id": "u0QhkBsUun4r",
        "colab": {
          "base_uri": "https://localhost:8080/",
          "height": 269
        },
        "outputId": "8c7b6803-4a7a-49ec-c804-1a35a43606ef"
      },
      "source": [
        "indices = []\n",
        "for i in range(0,K):\n",
        "    ind = []\n",
        "    print(eigenvals_sorted_indices[i])\n",
        "    ind.append(eigenvals_sorted_indices[i])\n",
        "    indices.append(np.asarray(ind))"
      ],
      "execution_count": 18,
      "outputs": [
        {
          "output_type": "stream",
          "text": [
            "0\n",
            "29\n",
            "36\n",
            "37\n",
            "39\n",
            "38\n",
            "45\n",
            "46\n",
            "47\n",
            "48\n",
            "52\n",
            "57\n",
            "53\n",
            "58\n",
            "59\n"
          ],
          "name": "stdout"
        }
      ]
    },
    {
      "cell_type": "markdown",
      "metadata": {
        "id": "qFONfvwCzVG-",
        "colab_type": "text"
      },
      "source": [
        "In the above code, we find out the indices of the eigenvectors corresponding to the $K$ smallest eigenvectors."
      ]
    },
    {
      "cell_type": "code",
      "metadata": {
        "colab_type": "code",
        "id": "NO2k7fzRzD7u",
        "colab": {}
      },
      "source": [
        "indices = np.asarray(indices)"
      ],
      "execution_count": 19,
      "outputs": []
    },
    {
      "cell_type": "code",
      "metadata": {
        "colab_type": "code",
        "id": "n4zaFueSviZd",
        "colab": {}
      },
      "source": [
        "zero_eigenvals_index = np.array(indices)"
      ],
      "execution_count": 20,
      "outputs": []
    },
    {
      "cell_type": "markdown",
      "metadata": {
        "colab_type": "text",
        "id": "7Hvtlq10bWu2"
      },
      "source": [
        "Here, the indices are arranged according to their sorted order of values and the sorted eigen values are stored in *eigenvals_sorted*."
      ]
    },
    {
      "cell_type": "code",
      "metadata": {
        "colab_type": "code",
        "id": "r5LywuQNJS-a",
        "colab": {
          "base_uri": "https://localhost:8080/",
          "height": 269
        },
        "outputId": "20019eae-307b-4f34-9efd-cd2c7c901e51"
      },
      "source": [
        "eigenvals[zero_eigenvals_index]"
      ],
      "execution_count": 21,
      "outputs": [
        {
          "output_type": "execute_result",
          "data": {
            "text/plain": [
              "array([[1.25855366e-15],\n",
              "       [4.33867365e-02],\n",
              "       [9.06083468e-02],\n",
              "       [1.22842027e-01],\n",
              "       [1.39996369e-01],\n",
              "       [1.47716960e-01],\n",
              "       [1.58913155e-01],\n",
              "       [1.71945375e-01],\n",
              "       [1.80186727e-01],\n",
              "       [1.91521359e-01],\n",
              "       [2.14169144e-01],\n",
              "       [2.28417887e-01],\n",
              "       [2.30316095e-01],\n",
              "       [2.45037970e-01],\n",
              "       [2.62180176e-01]])"
            ]
          },
          "metadata": {
            "tags": []
          },
          "execution_count": 21
        }
      ]
    },
    {
      "cell_type": "code",
      "metadata": {
        "colab_type": "code",
        "id": "FFRDm3KxJZRq",
        "colab": {
          "base_uri": "https://localhost:8080/",
          "height": 195
        },
        "outputId": "40d8805a-248a-42a8-c9da-2cb5a9920e1d"
      },
      "source": [
        "import pandas as pd\n",
        "\n",
        "proj_df = pd.DataFrame(eigenvcts[:, zero_eigenvals_index.squeeze()])\n",
        "proj_df.columns = ['v_' + str(c) for c in proj_df.columns]\n",
        "proj_df.head()"
      ],
      "execution_count": 22,
      "outputs": [
        {
          "output_type": "execute_result",
          "data": {
            "text/html": [
              "<div>\n",
              "<style scoped>\n",
              "    .dataframe tbody tr th:only-of-type {\n",
              "        vertical-align: middle;\n",
              "    }\n",
              "\n",
              "    .dataframe tbody tr th {\n",
              "        vertical-align: top;\n",
              "    }\n",
              "\n",
              "    .dataframe thead th {\n",
              "        text-align: right;\n",
              "    }\n",
              "</style>\n",
              "<table border=\"1\" class=\"dataframe\">\n",
              "  <thead>\n",
              "    <tr style=\"text-align: right;\">\n",
              "      <th></th>\n",
              "      <th>v_0</th>\n",
              "      <th>v_1</th>\n",
              "      <th>v_2</th>\n",
              "      <th>v_3</th>\n",
              "      <th>v_4</th>\n",
              "      <th>v_5</th>\n",
              "      <th>v_6</th>\n",
              "      <th>v_7</th>\n",
              "      <th>v_8</th>\n",
              "      <th>v_9</th>\n",
              "      <th>v_10</th>\n",
              "      <th>v_11</th>\n",
              "      <th>v_12</th>\n",
              "      <th>v_13</th>\n",
              "      <th>v_14</th>\n",
              "    </tr>\n",
              "  </thead>\n",
              "  <tbody>\n",
              "    <tr>\n",
              "      <th>0</th>\n",
              "      <td>-0.07785</td>\n",
              "      <td>0.020694</td>\n",
              "      <td>-0.067301</td>\n",
              "      <td>0.018447</td>\n",
              "      <td>-0.005222</td>\n",
              "      <td>0.070510</td>\n",
              "      <td>-0.013832</td>\n",
              "      <td>0.023375</td>\n",
              "      <td>0.056887</td>\n",
              "      <td>0.088584</td>\n",
              "      <td>0.034506</td>\n",
              "      <td>-0.021931</td>\n",
              "      <td>-0.287686</td>\n",
              "      <td>0.086673</td>\n",
              "      <td>0.034768</td>\n",
              "    </tr>\n",
              "    <tr>\n",
              "      <th>1</th>\n",
              "      <td>-0.07785</td>\n",
              "      <td>-0.005273</td>\n",
              "      <td>0.147785</td>\n",
              "      <td>-0.321033</td>\n",
              "      <td>-0.051376</td>\n",
              "      <td>-0.004416</td>\n",
              "      <td>-0.006869</td>\n",
              "      <td>0.092596</td>\n",
              "      <td>-0.016712</td>\n",
              "      <td>0.087481</td>\n",
              "      <td>-0.099494</td>\n",
              "      <td>-0.109038</td>\n",
              "      <td>-0.039262</td>\n",
              "      <td>-0.065011</td>\n",
              "      <td>-0.080727</td>\n",
              "    </tr>\n",
              "    <tr>\n",
              "      <th>2</th>\n",
              "      <td>-0.07785</td>\n",
              "      <td>0.025084</td>\n",
              "      <td>-0.083119</td>\n",
              "      <td>0.007179</td>\n",
              "      <td>-0.031988</td>\n",
              "      <td>-0.126369</td>\n",
              "      <td>-0.122319</td>\n",
              "      <td>0.050328</td>\n",
              "      <td>0.029667</td>\n",
              "      <td>-0.001549</td>\n",
              "      <td>-0.024688</td>\n",
              "      <td>0.000312</td>\n",
              "      <td>0.016617</td>\n",
              "      <td>-0.007789</td>\n",
              "      <td>0.045015</td>\n",
              "    </tr>\n",
              "    <tr>\n",
              "      <th>3</th>\n",
              "      <td>-0.07785</td>\n",
              "      <td>0.025155</td>\n",
              "      <td>-0.061428</td>\n",
              "      <td>0.021548</td>\n",
              "      <td>-0.004252</td>\n",
              "      <td>-0.032361</td>\n",
              "      <td>0.181412</td>\n",
              "      <td>0.156433</td>\n",
              "      <td>-0.069944</td>\n",
              "      <td>-0.024901</td>\n",
              "      <td>-0.000536</td>\n",
              "      <td>-0.001534</td>\n",
              "      <td>0.017898</td>\n",
              "      <td>-0.009375</td>\n",
              "      <td>0.032677</td>\n",
              "    </tr>\n",
              "    <tr>\n",
              "      <th>4</th>\n",
              "      <td>-0.07785</td>\n",
              "      <td>0.024212</td>\n",
              "      <td>0.023502</td>\n",
              "      <td>0.045609</td>\n",
              "      <td>0.053455</td>\n",
              "      <td>-0.018485</td>\n",
              "      <td>-0.039076</td>\n",
              "      <td>-0.002526</td>\n",
              "      <td>-0.066741</td>\n",
              "      <td>0.015605</td>\n",
              "      <td>-0.016009</td>\n",
              "      <td>0.017704</td>\n",
              "      <td>0.018869</td>\n",
              "      <td>-0.005075</td>\n",
              "      <td>0.016558</td>\n",
              "    </tr>\n",
              "  </tbody>\n",
              "</table>\n",
              "</div>"
            ],
            "text/plain": [
              "       v_0       v_1       v_2  ...      v_12      v_13      v_14\n",
              "0 -0.07785  0.020694 -0.067301  ... -0.287686  0.086673  0.034768\n",
              "1 -0.07785 -0.005273  0.147785  ... -0.039262 -0.065011 -0.080727\n",
              "2 -0.07785  0.025084 -0.083119  ...  0.016617 -0.007789  0.045015\n",
              "3 -0.07785  0.025155 -0.061428  ...  0.017898 -0.009375  0.032677\n",
              "4 -0.07785  0.024212  0.023502  ...  0.018869 -0.005075  0.016558\n",
              "\n",
              "[5 rows x 15 columns]"
            ]
          },
          "metadata": {
            "tags": []
          },
          "execution_count": 22
        }
      ]
    },
    {
      "cell_type": "markdown",
      "metadata": {
        "colab_type": "text",
        "id": "Qri19uQ4dJBN"
      },
      "source": [
        "Stack the Eigen Vectors corresponding to the zero Eigen Values in a dataframe *proj_df*. This can be thought of as a $N X K$ matrix where the columns denote an eigen vector and the rows denote a data point."
      ]
    },
    {
      "cell_type": "markdown",
      "metadata": {
        "colab_type": "text",
        "id": "HVNDq5caWTO9"
      },
      "source": [
        "Apply *K-Means Clustering* with $K = 15$."
      ]
    },
    {
      "cell_type": "code",
      "metadata": {
        "colab_type": "code",
        "id": "YSsmqs6pJv00",
        "colab": {}
      },
      "source": [
        "from sklearn.cluster import KMeans\n",
        "\n",
        "def run_k_means(df, n_clusters):\n",
        "    k_means = KMeans(random_state=25, n_clusters=n_clusters)\n",
        "    k_means.fit(df)\n",
        "    cluster = k_means.predict(df)\n",
        "    return cluster\n",
        "\n",
        "cluster = run_k_means(proj_df, n_clusters=K) +1"
      ],
      "execution_count": 30,
      "outputs": []
    },
    {
      "cell_type": "markdown",
      "metadata": {
        "colab_type": "text",
        "id": "pPnf2mI1drid"
      },
      "source": [
        "*run_k_means* applies `K-Means Clustering` on *proj_df* with number of clusters = $3$.The clustering of the data points is returned in the variable *'cluster'*."
      ]
    },
    {
      "cell_type": "markdown",
      "metadata": {
        "colab_type": "text",
        "id": "fwOidi1bWjem"
      },
      "source": [
        "Display clusters formed"
      ]
    },
    {
      "cell_type": "code",
      "metadata": {
        "colab_type": "code",
        "id": "jLRKyRkfJ_U5",
        "colab": {
          "base_uri": "https://localhost:8080/",
          "height": 134
        },
        "outputId": "16ae5739-70c3-46aa-dc15-2fd0e7cb81ca"
      },
      "source": [
        "print(cluster)"
      ],
      "execution_count": 31,
      "outputs": [
        {
          "output_type": "stream",
          "text": [
            "[ 9  1 14 13  7  8 15  7  7  5  3 12 13  7  8 11  7  5 10  2  5  8  2 10\n",
            "  4 11  7 14 10  4 12  1  4 13 14  7  7 15  7  7  6  7  2  7  1  4  4  4\n",
            "  4  1  7 14  2  7  1  3  2  4  3  7  4  2  4 13 10  3 14  7  7 12  3  7\n",
            " 11  7 10  5  9 14  7  7 13  5  7  3 15  7  4  7  9  7  7 11  7  4  7 12\n",
            " 11  1  9  2  2 13  4  2  2 10  7  5 15  4  4 12  8  7  7  7  7  3  7 14\n",
            " 11  2  3  7  1 11  2  7  1  5 15  7  2  7  5 10  3  4 12  4 12  6 11  2\n",
            "  8  3  5  7  8  7 15  8  8 14 10 13  1 14  3 10  9  7 13  3  5]\n"
          ],
          "name": "stdout"
        }
      ]
    },
    {
      "cell_type": "markdown",
      "metadata": {
        "colab_type": "text",
        "id": "QHQACwpQed8s"
      },
      "source": [
        "As we can see, the data points have been clustered into $fifteen$ subspaces: $1$ to $15$ corresponding to the $fifteen$ subspaces that we have considered."
      ]
    },
    {
      "cell_type": "code",
      "metadata": {
        "colab_type": "code",
        "id": "Bx0uk4fAwZek",
        "colab": {}
      },
      "source": [
        "pred = np.asarray(cluster)"
      ],
      "execution_count": 33,
      "outputs": []
    },
    {
      "cell_type": "markdown",
      "metadata": {
        "id": "bExLkqYQzVHk",
        "colab_type": "text"
      },
      "source": [
        "### Calculate Performance"
      ]
    },
    {
      "cell_type": "code",
      "metadata": {
        "colab_type": "code",
        "id": "tRV6m17FxNr4",
        "colab": {
          "base_uri": "https://localhost:8080/",
          "height": 50
        },
        "outputId": "4485cf95-6da0-4381-ae4c-22c7afd6c4be"
      },
      "source": [
        "from sklearn.metrics import adjusted_rand_score\n",
        "from sklearn.metrics import normalized_mutual_info_score\n",
        "print(\"ARI = \" + str(adjusted_rand_score(orig_label, pred)))\n",
        "print(\"NMI = \" + str(normalized_mutual_info_score(orig_label, pred)))"
      ],
      "execution_count": 34,
      "outputs": [
        {
          "output_type": "stream",
          "text": [
            "ARI = 0.3605097661590404\n",
            "NMI = 0.6786820517912824\n"
          ],
          "name": "stdout"
        }
      ]
    },
    {
      "cell_type": "markdown",
      "metadata": {
        "id": "rHk42GwL1peN",
        "colab_type": "text"
      },
      "source": [
        "In the above code block, we calculate the `Adjusted random score` and the `normalized mutual info score` between the `original` and the `predicted` labels for the various data points."
      ]
    },
    {
      "cell_type": "code",
      "metadata": {
        "id": "NGTd6klF1qlb",
        "colab_type": "code",
        "colab": {}
      },
      "source": [
        ""
      ],
      "execution_count": null,
      "outputs": []
    }
  ]
}