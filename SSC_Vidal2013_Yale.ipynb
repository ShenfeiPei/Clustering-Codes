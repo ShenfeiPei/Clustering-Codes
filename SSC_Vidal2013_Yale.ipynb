{
 "cells": [
  {
   "cell_type": "markdown",
   "metadata": {
    "colab_type": "text",
    "id": "DhW6WxwgtBk1"
   },
   "source": [
    "# Sparse Subspace Clustering (Vidal IEEE Trans. on PAMI 2013) on Yale Dataset"
   ]
  },
  {
   "cell_type": "markdown",
   "metadata": {
    "colab_type": "text",
    "id": "t2L05ocWW0kh"
   },
   "source": [
    "#### References:\n",
    "\n",
    "\n",
    "1.   Main Paper (Vidal IEEE Trans. on PAMI 2013): https://arxiv.org/pdf/1203.1005.pdf\n",
    "2.   Supplementary Paper (Vidal CVPR 2009): http://cis.jhu.edu/~ehsan/Downloads/SSC-CVPR09-Ehsan.pdf\n",
    "3.   Spectral Clustering: http://people.csail.mit.edu/dsontag/courses/ml14/notes/Luxburg07_tutorial_spectral_clustering.pdf\n",
    "4.   Spectral Clustering Code: https://juanitorduz.github.io/spectral_clustering/\n",
    "5.   Yale Dataset: http://vision.ucsd.edu/content/yale-face-database"
   ]
  },
  {
   "cell_type": "code",
   "execution_count": null,
   "metadata": {
    "colab": {},
    "colab_type": "code",
    "id": "heYQkAnFZlkW"
   },
   "outputs": [],
   "source": [
    "from google.colab import drive\n",
    "drive.mount('/content/drive')"
   ]
  },
  {
   "cell_type": "markdown",
   "metadata": {
    "colab_type": "text",
    "id": "RbmYLWex6v0o"
   },
   "source": [
    "Our objective is given a set of points drawn from a `union of subspaces`, we need to find the number of subspaces, their dimensions, a basis for each subspace, and the segmentation of the data."
   ]
  },
  {
   "cell_type": "code",
   "execution_count": 21,
   "metadata": {
    "colab": {},
    "colab_type": "code",
    "id": "XZThPNGr_vd5"
   },
   "outputs": [],
   "source": [
    "import numpy as np\n",
    "import cvxpy as cp\n",
    "from scipy.sparse import identity\n",
    "from cvxpy.atoms.elementwise.power import power"
   ]
  },
  {
   "cell_type": "markdown",
   "metadata": {
    "colab_type": "text",
    "id": "t4XgMb2uI9oE"
   },
   "source": [
    "##### Set Parameters of the data space"
   ]
  },
  {
   "cell_type": "code",
   "execution_count": 2,
   "metadata": {
    "colab": {},
    "colab_type": "code",
    "id": "8rdHJFmv_yev"
   },
   "outputs": [],
   "source": [
    "N = 165 # Total no of points\n",
    "D = 1024  # Dimension of space\n",
    "K = 15 # Number of clusters"
   ]
  },
  {
   "cell_type": "code",
   "execution_count": 3,
   "metadata": {
    "colab": {},
    "colab_type": "code",
    "id": "scnY2bC4sG6Q"
   },
   "outputs": [],
   "source": [
    "yale_data = np.load('yale_X.npy')\n",
    "input_data = yale_data.astype('float32') / 255.\n",
    "input_data = input_data.T\n",
    "orig_label = np.load('yale_Y.npy')"
   ]
  },
  {
   "cell_type": "markdown",
   "metadata": {
    "colab_type": "text",
    "id": "WPE1xClxI_W7"
   },
   "source": [
    "The matrix *input_data* contains the data points arranged sequentially forming a matrix of shape $(1024, 165), ie. (D,N)$. The *input_data* matrix is of the form $[y[0],y[1], \\ldots, y[N-1]], $where each $y_i$ denotes the vector of a data point of dimension $D$.\n",
    "\n",
    "Also, *input_data* can be assumed to be of the form $[Y_0, Y_1, \\ldots, Y_n]$, where each $Y_i$ denotes the set of $N_i$ data points belonging to subspace $i$. Also assume that the dimension of each subspace $i$ is $d_i$ and $A_i$ is its basis."
   ]
  },
  {
   "cell_type": "code",
   "execution_count": 4,
   "metadata": {
    "colab": {},
    "colab_type": "code",
    "id": "uThqA_EnMbUP"
   },
   "outputs": [],
   "source": [
    "def find_sparse_sol(Y,i,N):\n",
    "    if i == 0:\n",
    "        Ybari = Y[:,1:N]\n",
    "    if i == N-1:\n",
    "        Ybari = Y[:,0:N-1]\n",
    "    if i!=0 and i!=N-1:\n",
    "        Ybari = np.concatenate((Y[:,0:i],Y[:,i+1:N]),axis=1)\n",
    "    yi = Y[:,i].reshape(D,1)\n",
    "    \n",
    "    # this ci will contain the solution of the l1 optimisation problem:  \n",
    "    # min (||yi - Ybari*ci||F)^2 + lambda*||ci||1   st. sum(ci) = 1\n",
    "    \n",
    "    ci = cp.Variable(shape=(N-1,1))\n",
    "    constraint = [cp.sum(ci)==1]\n",
    "    obj = cp.Minimize(power(cp.norm(yi-Ybari@ci,2),2) + 199101*cp.norm(ci,1)) #lambda = 199101\n",
    "    prob = cp.Problem(obj, constraint)\n",
    "    prob.solve()\n",
    "    return ci.value"
   ]
  },
  {
   "cell_type": "markdown",
   "metadata": {
    "colab_type": "text",
    "id": "r-SZ0G0wKG9v"
   },
   "source": [
    "The above function `find_sparse_sol` finds the solution to the following optimisation problem $(\\textrm{min} \\; ||y_i - Y_{\\hat{i}}c_i||_{F}^2 + \\lambda||c_i||_1)$ subject to the constraint $\\sum_{i=i}^{N}c_i=1$. We use this optimisation term to *deal with all the possible noise values in the data.*"
   ]
  },
  {
   "cell_type": "code",
   "execution_count": 5,
   "metadata": {
    "colab": {
     "base_uri": "https://localhost:8080/",
     "height": 34
    },
    "colab_type": "code",
    "id": "ZwXYwvvC_kHS",
    "outputId": "549ab7ca-e3af-4f4a-cd7b-e84d581c5986"
   },
   "outputs": [
    {
     "name": "stdout",
     "output_type": "stream",
     "text": [
      "(165, 165)\n"
     ]
    }
   ],
   "source": [
    "C = np.concatenate((np.zeros((1,1)),find_sparse_sol(input_data,0,N)),axis=0)\n",
    "\n",
    "for i in range(1,N):\n",
    "    ci = find_sparse_sol(input_data,i,N)\n",
    "    zero_element = np.zeros((1,1))\n",
    "    cif = np.concatenate((ci[0:i,:],zero_element,ci[i:N,:]),axis=0)\n",
    "    C = np.concatenate((C,cif),axis=1)\n",
    "print(C.shape)"
   ]
  },
  {
   "cell_type": "markdown",
   "metadata": {
    "colab_type": "text",
    "id": "E3cBxKja1e6z"
   },
   "source": [
    "We now include a zero vector of size $(1,1)$ at the $i$ th position of $c_i$ to form $\\hat{c_i}$ which we represent as *cif* in the code.\n",
    "Then we concatenate $[\\hat{c_1}$, $\\hat{c_2}$, ..., $\\hat{c_N}]$ to form the matrix $C$.  \n",
    "\n",
    "$C$ is the *Matrix of Coefficients* and is of the form $C = [\\hat{c_1}, \\hat{c_2}, ..., \\hat{c_N}] \\in \\mathbb{R}^{NXN}$."
   ]
  },
  {
   "cell_type": "code",
   "execution_count": 6,
   "metadata": {
    "colab": {
     "base_uri": "https://localhost:8080/",
     "height": 34
    },
    "colab_type": "code",
    "id": "NlY4sREA2-d9",
    "outputId": "983f79f2-e2f6-4b9b-bce0-74a21c22fc67"
   },
   "outputs": [
    {
     "name": "stdout",
     "output_type": "stream",
     "text": [
      "(165, 165)\n"
     ]
    }
   ],
   "source": [
    "W = np.add(np.absolute(C), np.absolute(C.T))\n",
    "print(W.shape)"
   ]
  },
  {
   "cell_type": "code",
   "execution_count": 7,
   "metadata": {
    "colab": {
     "base_uri": "https://localhost:8080/",
     "height": 34
    },
    "colab_type": "code",
    "id": "PQh2rr72WBrx",
    "outputId": "234cff3a-947e-4282-a1c3-106ffdcaa092"
   },
   "outputs": [
    {
     "name": "stdout",
     "output_type": "stream",
     "text": [
      "25137\n"
     ]
    }
   ],
   "source": [
    "# Check sparsity by counting the number of zeros\n",
    "\n",
    "cz = 0\n",
    "for i in range(W.shape[0]):\n",
    "    for j in range(W.shape[1]):\n",
    "        if W[i,j] < 1e-5 and W[i,j] > -1e-5:\n",
    "            cz += 1\n",
    "print(cz)"
   ]
  },
  {
   "cell_type": "markdown",
   "metadata": {
    "colab_type": "text",
    "id": "m1L7S6u044O3"
   },
   "source": [
    "In the above code block, we make $C$ a symmetric matrix by the operation $W = |C| + |C^T|$. It is still a valid representation of the similarity since if $y_i$ can write itself as a linear combination of all the points in the same subspace including $y_j$, then $y_j$ can also be represented as a linear combination of all the other points belonging to the same subspace including $c_i$.\n",
    "            In the above code block, we print the number of $0$'s in the matrix $W$, we denote any $|W_{ij}|$ less then $e^{-5}$ as $0$."
   ]
  },
  {
   "cell_type": "code",
   "execution_count": 8,
   "metadata": {
    "colab": {
     "base_uri": "https://localhost:8080/",
     "height": 134
    },
    "colab_type": "code",
    "id": "WJPCzyQB7EZV",
    "outputId": "1d28739a-7f15-4839-9dd5-c1ea6082feb8"
   },
   "outputs": [
    {
     "name": "stdout",
     "output_type": "stream",
     "text": [
      "[[2.13075991 0.         0.         ... 0.         0.         0.        ]\n",
      " [0.         2.70513964 0.         ... 0.         0.         0.        ]\n",
      " [0.         0.         2.48878329 ... 0.         0.         0.        ]\n",
      " ...\n",
      " [0.         0.         0.         ... 1.36819346 0.         0.        ]\n",
      " [0.         0.         0.         ... 0.         1.50284329 0.        ]\n",
      " [0.         0.         0.         ... 0.         0.         1.5949385 ]]\n"
     ]
    }
   ],
   "source": [
    "D = np.zeros((N,N))\n",
    "sum_list=[]\n",
    "for i in range(N):\n",
    "    csum = np.sum(W[:,i],axis=0)\n",
    "    sum_list.append(csum)\n",
    "\n",
    "D = np.diag(sum_list)\n",
    "print(D)"
   ]
  },
  {
   "cell_type": "markdown",
   "metadata": {
    "colab_type": "text",
    "id": "7W1JwZZF8Ehk"
   },
   "source": [
    "$D$ is the `degree matrix`. In this case, $D \\in \\mathbb{R}^{NxN}$ is a diagonal matrix with $D_{ii} = \\sum_{j}W_{ij}$. "
   ]
  },
  {
   "cell_type": "code",
   "execution_count": 48,
   "metadata": {
    "colab": {
     "base_uri": "https://localhost:8080/",
     "height": 34
    },
    "colab_type": "code",
    "id": "wbjEg6vPtePP",
    "outputId": "006a4807-1138-4e7e-9d67-6ede6d12ebec"
   },
   "outputs": [
    {
     "name": "stdout",
     "output_type": "stream",
     "text": [
      "(165, 165)\n"
     ]
    }
   ],
   "source": [
    "L = np.subtract(D, W)\n",
    "LN =  np.diag(np.divide(1, np.sqrt(np.sum(D, axis=0) + np.finfo(float).eps)))@ L @  np.diag(np.divide(1, np.sqrt(np.sum(D, axis=0) + np.finfo(float).eps)))\n",
    "print(LN.shape)"
   ]
  },
  {
   "cell_type": "markdown",
   "metadata": {
    "colab_type": "text",
    "id": "ntR93B89-PVd"
   },
   "source": [
    "This $L$ is the Laplacian matrix, which can be defined as $L = D - W$. Next, we calculate the `eigenvalues` and `eigenvectors` of the Normalized Laplacian matrix, which we will use for Spectral clustering of the data points. $L$ is a *positive, semi-definite matrix* this means all the eigenvalues of the matrix will be greater than equal to $0$."
   ]
  },
  {
   "cell_type": "markdown",
   "metadata": {
    "colab_type": "text",
    "id": "V9-CnwWNXvLl"
   },
   "source": [
    "### Perform Spectral Clustering with Laplacian Matrix LN"
   ]
  },
  {
   "cell_type": "code",
   "execution_count": 50,
   "metadata": {
    "colab": {},
    "colab_type": "code",
    "id": "DRb2jMuntrii"
   },
   "outputs": [],
   "source": [
    "from scipy import linalg\n",
    "\n",
    "eigenvals, eigenvcts = linalg.eig(LN)\n",
    "\n",
    "eigenvals = np.real(eigenvals)\n",
    "eigenvcts = np.real(eigenvcts)\n",
    "\n",
    "eig = eigenvals.reshape((N,1))"
   ]
  },
  {
   "cell_type": "markdown",
   "metadata": {
    "colab_type": "text",
    "id": "q0m-mZwKU3RT"
   },
   "source": [
    "Sort Eigen Values"
   ]
  },
  {
   "cell_type": "code",
   "execution_count": 51,
   "metadata": {
    "colab": {},
    "colab_type": "code",
    "id": "cYP8FqrbJBnQ"
   },
   "outputs": [],
   "source": [
    "eigenvals_sorted_indices = np.argsort(eigenvals)\n",
    "eigenvals_sorted = eigenvals[eigenvals_sorted_indices]"
   ]
  },
  {
   "cell_type": "code",
   "execution_count": 52,
   "metadata": {
    "colab": {
     "base_uri": "https://localhost:8080/",
     "height": 269
    },
    "colab_type": "code",
    "id": "u0QhkBsUun4r",
    "outputId": "8c7b6803-4a7a-49ec-c804-1a35a43606ef"
   },
   "outputs": [
    {
     "name": "stdout",
     "output_type": "stream",
     "text": [
      "0\n",
      "1\n",
      "2\n",
      "3\n",
      "4\n",
      "5\n",
      "6\n",
      "7\n",
      "8\n",
      "9\n",
      "10\n",
      "11\n",
      "12\n",
      "13\n",
      "14\n"
     ]
    }
   ],
   "source": [
    "indices = []\n",
    "for i in range(0,K):\n",
    "    ind = []\n",
    "    print(eigenvals_sorted_indices[i])\n",
    "    ind.append(eigenvals_sorted_indices[i])\n",
    "    indices.append(np.asarray(ind))"
   ]
  },
  {
   "cell_type": "markdown",
   "metadata": {
    "colab_type": "text",
    "id": "qFONfvwCzVG-"
   },
   "source": [
    "In the above code, we find out the indices of the eigenvectors corresponding to the $K$ smallest eigenvectors."
   ]
  },
  {
   "cell_type": "code",
   "execution_count": 53,
   "metadata": {
    "colab": {},
    "colab_type": "code",
    "id": "NO2k7fzRzD7u"
   },
   "outputs": [],
   "source": [
    "indices = np.asarray(indices)"
   ]
  },
  {
   "cell_type": "code",
   "execution_count": 54,
   "metadata": {
    "colab": {},
    "colab_type": "code",
    "id": "n4zaFueSviZd"
   },
   "outputs": [],
   "source": [
    "zero_eigenvals_index = np.array(indices)"
   ]
  },
  {
   "cell_type": "markdown",
   "metadata": {
    "colab_type": "text",
    "id": "7Hvtlq10bWu2"
   },
   "source": [
    "Here, the indices are arranged according to their sorted order of values and the sorted eigen values are stored in *eigenvals_sorted*."
   ]
  },
  {
   "cell_type": "code",
   "execution_count": 55,
   "metadata": {
    "colab": {
     "base_uri": "https://localhost:8080/",
     "height": 269
    },
    "colab_type": "code",
    "id": "r5LywuQNJS-a",
    "outputId": "20019eae-307b-4f34-9efd-cd2c7c901e51"
   },
   "outputs": [
    {
     "data": {
      "text/plain": [
       "array([[3.81639165e-17],\n",
       "       [2.11135860e-02],\n",
       "       [4.37594863e-02],\n",
       "       [5.82583877e-02],\n",
       "       [6.56693678e-02],\n",
       "       [7.08488808e-02],\n",
       "       [7.43887285e-02],\n",
       "       [8.18797572e-02],\n",
       "       [8.53868541e-02],\n",
       "       [9.01608483e-02],\n",
       "       [1.00053060e-01],\n",
       "       [1.03587080e-01],\n",
       "       [1.10542086e-01],\n",
       "       [1.14718588e-01],\n",
       "       [1.16976620e-01]])"
      ]
     },
     "execution_count": 55,
     "metadata": {},
     "output_type": "execute_result"
    }
   ],
   "source": [
    "eigenvals[zero_eigenvals_index]"
   ]
  },
  {
   "cell_type": "code",
   "execution_count": 56,
   "metadata": {
    "colab": {
     "base_uri": "https://localhost:8080/",
     "height": 195
    },
    "colab_type": "code",
    "id": "FFRDm3KxJZRq",
    "outputId": "40d8805a-248a-42a8-c9da-2cb5a9920e1d"
   },
   "outputs": [
    {
     "data": {
      "text/html": [
       "<div>\n",
       "<style scoped>\n",
       "    .dataframe tbody tr th:only-of-type {\n",
       "        vertical-align: middle;\n",
       "    }\n",
       "\n",
       "    .dataframe tbody tr th {\n",
       "        vertical-align: top;\n",
       "    }\n",
       "\n",
       "    .dataframe thead th {\n",
       "        text-align: right;\n",
       "    }\n",
       "</style>\n",
       "<table border=\"1\" class=\"dataframe\">\n",
       "  <thead>\n",
       "    <tr style=\"text-align: right;\">\n",
       "      <th></th>\n",
       "      <th>v_0</th>\n",
       "      <th>v_1</th>\n",
       "      <th>v_2</th>\n",
       "      <th>v_3</th>\n",
       "      <th>v_4</th>\n",
       "      <th>v_5</th>\n",
       "      <th>v_6</th>\n",
       "      <th>v_7</th>\n",
       "      <th>v_8</th>\n",
       "      <th>v_9</th>\n",
       "      <th>v_10</th>\n",
       "      <th>v_11</th>\n",
       "      <th>v_12</th>\n",
       "      <th>v_13</th>\n",
       "      <th>v_14</th>\n",
       "    </tr>\n",
       "  </thead>\n",
       "  <tbody>\n",
       "    <tr>\n",
       "      <th>0</th>\n",
       "      <td>-0.080355</td>\n",
       "      <td>-0.021171</td>\n",
       "      <td>-0.066623</td>\n",
       "      <td>0.015366</td>\n",
       "      <td>0.006728</td>\n",
       "      <td>0.065854</td>\n",
       "      <td>0.014297</td>\n",
       "      <td>-0.016624</td>\n",
       "      <td>0.050521</td>\n",
       "      <td>0.073861</td>\n",
       "      <td>0.040437</td>\n",
       "      <td>0.023062</td>\n",
       "      <td>0.243547</td>\n",
       "      <td>0.164874</td>\n",
       "      <td>0.078104</td>\n",
       "    </tr>\n",
       "    <tr>\n",
       "      <th>1</th>\n",
       "      <td>-0.090539</td>\n",
       "      <td>0.005729</td>\n",
       "      <td>0.177743</td>\n",
       "      <td>-0.379185</td>\n",
       "      <td>0.074941</td>\n",
       "      <td>-0.012566</td>\n",
       "      <td>-0.012606</td>\n",
       "      <td>-0.092918</td>\n",
       "      <td>-0.018254</td>\n",
       "      <td>0.116905</td>\n",
       "      <td>-0.065979</td>\n",
       "      <td>-0.092517</td>\n",
       "      <td>0.086272</td>\n",
       "      <td>-0.045964</td>\n",
       "      <td>-0.101930</td>\n",
       "    </tr>\n",
       "    <tr>\n",
       "      <th>2</th>\n",
       "      <td>-0.086843</td>\n",
       "      <td>-0.027734</td>\n",
       "      <td>-0.090533</td>\n",
       "      <td>0.005871</td>\n",
       "      <td>0.033236</td>\n",
       "      <td>-0.140689</td>\n",
       "      <td>0.116367</td>\n",
       "      <td>-0.066421</td>\n",
       "      <td>0.029939</td>\n",
       "      <td>0.007743</td>\n",
       "      <td>-0.029717</td>\n",
       "      <td>0.001177</td>\n",
       "      <td>-0.013345</td>\n",
       "      <td>-0.013236</td>\n",
       "      <td>0.029353</td>\n",
       "    </tr>\n",
       "    <tr>\n",
       "      <th>3</th>\n",
       "      <td>-0.075656</td>\n",
       "      <td>-0.024380</td>\n",
       "      <td>-0.060182</td>\n",
       "      <td>0.018189</td>\n",
       "      <td>0.004732</td>\n",
       "      <td>-0.030948</td>\n",
       "      <td>-0.190639</td>\n",
       "      <td>-0.112559</td>\n",
       "      <td>-0.042435</td>\n",
       "      <td>-0.015155</td>\n",
       "      <td>-0.009945</td>\n",
       "      <td>-0.002585</td>\n",
       "      <td>-0.012979</td>\n",
       "      <td>-0.013607</td>\n",
       "      <td>0.018158</td>\n",
       "    </tr>\n",
       "    <tr>\n",
       "      <th>4</th>\n",
       "      <td>-0.061761</td>\n",
       "      <td>-0.018836</td>\n",
       "      <td>0.016480</td>\n",
       "      <td>0.031620</td>\n",
       "      <td>-0.039806</td>\n",
       "      <td>-0.011981</td>\n",
       "      <td>0.025399</td>\n",
       "      <td>-0.006658</td>\n",
       "      <td>-0.051142</td>\n",
       "      <td>0.013397</td>\n",
       "      <td>-0.011228</td>\n",
       "      <td>0.007970</td>\n",
       "      <td>-0.016620</td>\n",
       "      <td>-0.006497</td>\n",
       "      <td>0.002835</td>\n",
       "    </tr>\n",
       "  </tbody>\n",
       "</table>\n",
       "</div>"
      ],
      "text/plain": [
       "        v_0       v_1       v_2       v_3       v_4       v_5       v_6  \\\n",
       "0 -0.080355 -0.021171 -0.066623  0.015366  0.006728  0.065854  0.014297   \n",
       "1 -0.090539  0.005729  0.177743 -0.379185  0.074941 -0.012566 -0.012606   \n",
       "2 -0.086843 -0.027734 -0.090533  0.005871  0.033236 -0.140689  0.116367   \n",
       "3 -0.075656 -0.024380 -0.060182  0.018189  0.004732 -0.030948 -0.190639   \n",
       "4 -0.061761 -0.018836  0.016480  0.031620 -0.039806 -0.011981  0.025399   \n",
       "\n",
       "        v_7       v_8       v_9      v_10      v_11      v_12      v_13  \\\n",
       "0 -0.016624  0.050521  0.073861  0.040437  0.023062  0.243547  0.164874   \n",
       "1 -0.092918 -0.018254  0.116905 -0.065979 -0.092517  0.086272 -0.045964   \n",
       "2 -0.066421  0.029939  0.007743 -0.029717  0.001177 -0.013345 -0.013236   \n",
       "3 -0.112559 -0.042435 -0.015155 -0.009945 -0.002585 -0.012979 -0.013607   \n",
       "4 -0.006658 -0.051142  0.013397 -0.011228  0.007970 -0.016620 -0.006497   \n",
       "\n",
       "       v_14  \n",
       "0  0.078104  \n",
       "1 -0.101930  \n",
       "2  0.029353  \n",
       "3  0.018158  \n",
       "4  0.002835  "
      ]
     },
     "execution_count": 56,
     "metadata": {},
     "output_type": "execute_result"
    }
   ],
   "source": [
    "import pandas as pd\n",
    "\n",
    "proj_df = pd.DataFrame(eigenvcts[:, zero_eigenvals_index.squeeze()])\n",
    "proj_df.columns = ['v_' + str(c) for c in proj_df.columns]\n",
    "proj_df.head()"
   ]
  },
  {
   "cell_type": "markdown",
   "metadata": {
    "colab_type": "text",
    "id": "Qri19uQ4dJBN"
   },
   "source": [
    "Stack the Eigen Vectors corresponding to the zero Eigen Values in a dataframe *proj_df*. This can be thought of as a $N X K$ matrix where the columns denote an eigen vector and the rows denote a data point."
   ]
  },
  {
   "cell_type": "markdown",
   "metadata": {
    "colab_type": "text",
    "id": "HVNDq5caWTO9"
   },
   "source": [
    "Apply *K-Means Clustering* with $K = 15$."
   ]
  },
  {
   "cell_type": "code",
   "execution_count": 57,
   "metadata": {
    "colab": {},
    "colab_type": "code",
    "id": "YSsmqs6pJv00"
   },
   "outputs": [],
   "source": [
    "from sklearn.cluster import KMeans\n",
    "\n",
    "def run_k_means(df, n_clusters):\n",
    "    k_means = KMeans(random_state=25, n_clusters=n_clusters)\n",
    "    k_means.fit(df)\n",
    "    cluster = k_means.predict(df)\n",
    "    return cluster\n",
    "\n",
    "cluster = run_k_means(proj_df, n_clusters=K) +1"
   ]
  },
  {
   "cell_type": "markdown",
   "metadata": {
    "colab_type": "text",
    "id": "pPnf2mI1drid"
   },
   "source": [
    "*run_k_means* applies `K-Means Clustering` on *proj_df* with number of clusters = $3$.The clustering of the data points is returned in the variable *'cluster'*."
   ]
  },
  {
   "cell_type": "markdown",
   "metadata": {
    "colab_type": "text",
    "id": "fwOidi1bWjem"
   },
   "source": [
    "Display clusters formed"
   ]
  },
  {
   "cell_type": "code",
   "execution_count": 58,
   "metadata": {
    "colab": {
     "base_uri": "https://localhost:8080/",
     "height": 134
    },
    "colab_type": "code",
    "id": "jLRKyRkfJ_U5",
    "outputId": "16ae5739-70c3-46aa-dc15-2fd0e7cb81ca"
   },
   "outputs": [
    {
     "name": "stdout",
     "output_type": "stream",
     "text": [
      "[ 9  5  2  3  1 10 13  1  1  6 14 15  3  1 10  4  1  6  7 11  6 10  1  7\n",
      " 12  4  1  2  1 12 15  5 12  3  2  1  1 13  1  1  8  1 11  1  5 12 12 12\n",
      " 12  5  1  2  1  1  5  1  1 12 14  1 12 11 12  3  7 14  1  1  1 15  1  1\n",
      "  4  1  7  6  9  2  1  1  3  6  1 14 13  1 12  1  9  1  1  4  1 12  1 15\n",
      "  4  5  9 11 11  3 12  1  1  7  1  6 13 12 12 15 10  1  1  1  1 14  1  2\n",
      "  4  1 14  1  5  4 11  1  5  6 13  1 11  1  6  7 14 12 15 12 15  8  4  1\n",
      " 10 14  6  1 10  1 13 10 10  2  7  3  5  2 14  7  9  1  3 14  6]\n"
     ]
    }
   ],
   "source": [
    "print(cluster)"
   ]
  },
  {
   "cell_type": "markdown",
   "metadata": {
    "colab_type": "text",
    "id": "QHQACwpQed8s"
   },
   "source": [
    "As we can see, the data points have been clustered into $fifteen$ subspaces: $1$ to $15$ corresponding to the $fifteen$ subspaces that we have considered."
   ]
  },
  {
   "cell_type": "code",
   "execution_count": 59,
   "metadata": {
    "colab": {},
    "colab_type": "code",
    "id": "Bx0uk4fAwZek"
   },
   "outputs": [],
   "source": [
    "pred = np.asarray(cluster)"
   ]
  },
  {
   "cell_type": "markdown",
   "metadata": {
    "colab_type": "text",
    "id": "bExLkqYQzVHk"
   },
   "source": [
    "### Calculate Performance"
   ]
  },
  {
   "cell_type": "code",
   "execution_count": 60,
   "metadata": {
    "colab": {
     "base_uri": "https://localhost:8080/",
     "height": 50
    },
    "colab_type": "code",
    "id": "tRV6m17FxNr4",
    "outputId": "4485cf95-6da0-4381-ae4c-22c7afd6c4be"
   },
   "outputs": [
    {
     "name": "stdout",
     "output_type": "stream",
     "text": [
      "ARI = 0.2693514485027569\n",
      "NMI = 0.6418333201314705\n"
     ]
    }
   ],
   "source": [
    "from sklearn.metrics import adjusted_rand_score\n",
    "from sklearn.metrics import normalized_mutual_info_score\n",
    "print(\"ARI = \" + str(adjusted_rand_score(orig_label, pred)))\n",
    "print(\"NMI = \" + str(normalized_mutual_info_score(orig_label, pred)))"
   ]
  },
  {
   "cell_type": "markdown",
   "metadata": {
    "colab_type": "text",
    "id": "rHk42GwL1peN"
   },
   "source": [
    "In the above code block, we calculate the `Adjusted random score` and the `normalized mutual info score` between the `original` and the `predicted` labels for the various data points."
   ]
  },
  {
   "cell_type": "code",
   "execution_count": null,
   "metadata": {
    "colab": {},
    "colab_type": "code",
    "id": "NGTd6klF1qlb"
   },
   "outputs": [],
   "source": []
  }
 ],
 "metadata": {
  "colab": {
   "collapsed_sections": [],
   "name": "SSC_Vidal2013_Yale.ipynb",
   "provenance": []
  },
  "kernelspec": {
   "display_name": "unsupervised_learning",
   "language": "python",
   "name": "unsupervised_learning"
  },
  "language_info": {
   "codemirror_mode": {
    "name": "ipython",
    "version": 3
   },
   "file_extension": ".py",
   "mimetype": "text/x-python",
   "name": "python",
   "nbconvert_exporter": "python",
   "pygments_lexer": "ipython3",
   "version": "3.8.2"
  }
 },
 "nbformat": 4,
 "nbformat_minor": 1
}
