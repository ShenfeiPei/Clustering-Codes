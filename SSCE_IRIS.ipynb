{
 "cells": [
  {
   "cell_type": "markdown",
   "metadata": {
    "colab_type": "text",
    "id": "DhW6WxwgtBk1"
   },
   "source": [
    "# Sparse Subspace Clustering with Entropy-Norm (ICML 2020) on Iris Dataset"
   ]
  },
  {
   "cell_type": "markdown",
   "metadata": {
    "colab_type": "text",
    "id": "t2L05ocWW0kh"
   },
   "source": [
    "#### References:\n",
    "\n",
    "\n",
    "1.   Main Paper (SSC Entropy-Norm ICML 2020): https://proceedings.icml.cc/static/paper_files/icml/2020/1982-Paper.pdf\n",
    "2.   Spectral Clustering: http://people.csail.mit.edu/dsontag/courses/ml14/notes/Luxburg07_tutorial_spectral_clustering.pdf\n",
    "3.   Spectral Clustering Code: https://juanitorduz.github.io/spectral_clustering/\n",
    "4.   Iris Dataset: https://scikit-learn.org/stable/modules/generated/sklearn.datasets.load_iris.html"
   ]
  },
  {
   "cell_type": "markdown",
   "metadata": {
    "colab_type": "text",
    "id": "RbmYLWex6v0o"
   },
   "source": [
    "Our objective is given a set of points drawn from a `union of subspaces`, we need to find the number of subspaces, their dimensions, a basis for each subspace, and the segmentation of the data."
   ]
  },
  {
   "cell_type": "code",
   "execution_count": 33,
   "metadata": {
    "colab": {},
    "colab_type": "code",
    "id": "XZThPNGr_vd5"
   },
   "outputs": [],
   "source": [
    "import numpy as np\n",
    "from sklearn.preprocessing import MinMaxScaler"
   ]
  },
  {
   "cell_type": "markdown",
   "metadata": {
    "colab_type": "text",
    "id": "t4XgMb2uI9oE"
   },
   "source": [
    "##### Set Parameters of the data space"
   ]
  },
  {
   "cell_type": "code",
   "execution_count": 34,
   "metadata": {
    "colab": {},
    "colab_type": "code",
    "id": "8rdHJFmv_yev"
   },
   "outputs": [],
   "source": [
    "N = 150 # Total no of points\n",
    "D = 4  # Dimension of space\n",
    "K = 3 # Number of clusters"
   ]
  },
  {
   "cell_type": "code",
   "execution_count": 35,
   "metadata": {
    "colab": {},
    "colab_type": "code",
    "id": "scnY2bC4sG6Q"
   },
   "outputs": [],
   "source": [
    "from sklearn.datasets import load_iris\n",
    "iris_data = load_iris()\n",
    "iris_X = np.asarray(iris_data.data)\n",
    "scaler = MinMaxScaler()\n",
    "input_data = scaler.fit_transform(iris_X)\n",
    "input_data = input_data.T"
   ]
  },
  {
   "cell_type": "code",
   "execution_count": 36,
   "metadata": {},
   "outputs": [],
   "source": [
    "def zij(Y,i,j,lam,N):\n",
    "    if i==j:\n",
    "        return 0.0\n",
    "    else:\n",
    "        numerator = 2 * np.exp(-(np.square(np.linalg.norm(Y[:,i]-Y[:,j],2)))/lam)\n",
    "        #print(numerator)\n",
    "        sum_i=0\n",
    "        sum_j=0\n",
    "        for h in range(N):\n",
    "            if h!=i:\n",
    "                sum_i += np.exp(-(np.square(np.linalg.norm(Y[:,i]-Y[:,h],2)))/lam)\n",
    "        for h in range(N):\n",
    "            if h!=j:\n",
    "                sum_j += np.exp(-(np.square(np.linalg.norm(Y[:,j]-Y[:,h],2)))/lam)\n",
    "        return numerator/(sum_i+sum_j)"
   ]
  },
  {
   "cell_type": "code",
   "execution_count": 37,
   "metadata": {},
   "outputs": [],
   "source": [
    "Z =np.zeros((N,N), dtype='float64')\n",
    "for i in range(N):\n",
    "    for j in range(N):\n",
    "        Z[i,j] = zij(input_data,i,j,0.0273,N)"
   ]
  },
  {
   "cell_type": "code",
   "execution_count": 38,
   "metadata": {
    "colab": {
     "base_uri": "https://localhost:8080/",
     "height": 34
    },
    "colab_type": "code",
    "id": "PQh2rr72WBrx",
    "outputId": "8d0a9e2c-4102-466a-d016-03cdb4e0016f"
   },
   "outputs": [
    {
     "name": "stdout",
     "output_type": "stream",
     "text": [
      "12978\n"
     ]
    }
   ],
   "source": [
    "# Check sparsity by counting the number of zeros\n",
    "\n",
    "cz = 0\n",
    "for i in range(Z.shape[0]):\n",
    "    for j in range(Z.shape[1]):\n",
    "        if Z[i,j] < 1e-5 and Z[i,j] > -1e-5:\n",
    "            cz += 1\n",
    "print(cz)"
   ]
  },
  {
   "cell_type": "code",
   "execution_count": 39,
   "metadata": {
    "colab": {
     "base_uri": "https://localhost:8080/",
     "height": 34
    },
    "colab_type": "code",
    "id": "wbjEg6vPtePP",
    "outputId": "4b54a6d0-3beb-4705-e430-b673eabe84df"
   },
   "outputs": [
    {
     "name": "stdout",
     "output_type": "stream",
     "text": [
      "(150, 150)\n"
     ]
    }
   ],
   "source": [
    "LN = np.subtract(np.eye(N,N),Z)\n",
    "print(LN.shape)"
   ]
  },
  {
   "cell_type": "markdown",
   "metadata": {
    "colab_type": "text",
    "id": "ntR93B89-PVd"
   },
   "source": [
    "This $LN$ is the Normalized Laplacian matrix, which can be defined as $LN = I - Z$, this is because from the paper we know that $Z$ is a lower bound of the normal Gaussian Kernel. Next, we calculate the `eigenvalues` and `eigenvectors` of the Normalized Laplacian matrix $LN$, which we will use for Spectral clustering of the data points. $LN$ is a *positive, semi-definite matrix* this means all the eigenvalues of the matrix will be greater than equal to $0$."
   ]
  },
  {
   "cell_type": "markdown",
   "metadata": {
    "colab_type": "text",
    "id": "V9-CnwWNXvLl"
   },
   "source": [
    "### Perform Spectral Clustering with Laplacian Matrix L"
   ]
  },
  {
   "cell_type": "code",
   "execution_count": 40,
   "metadata": {
    "colab": {},
    "colab_type": "code",
    "id": "DRb2jMuntrii"
   },
   "outputs": [],
   "source": [
    "from scipy import linalg\n",
    "\n",
    "eigenvals, eigenvcts = linalg.eig(LN)\n",
    "\n",
    "eigenvals = np.real(eigenvals)\n",
    "eigenvcts = np.real(eigenvcts)\n",
    "\n",
    "eig = eigenvals.reshape((N,1))"
   ]
  },
  {
   "cell_type": "markdown",
   "metadata": {
    "colab_type": "text",
    "id": "q0m-mZwKU3RT"
   },
   "source": [
    "Sort Eigen Values"
   ]
  },
  {
   "cell_type": "code",
   "execution_count": 41,
   "metadata": {
    "colab": {},
    "colab_type": "code",
    "id": "cYP8FqrbJBnQ"
   },
   "outputs": [],
   "source": [
    "eigenvals_sorted_indices = np.argsort(eigenvals)\n",
    "eigenvals_sorted = eigenvals[eigenvals_sorted_indices]"
   ]
  },
  {
   "cell_type": "code",
   "execution_count": 42,
   "metadata": {
    "colab": {
     "base_uri": "https://localhost:8080/",
     "height": 67
    },
    "colab_type": "code",
    "id": "u0QhkBsUun4r",
    "outputId": "3582e818-68d0-4061-863d-b53827b6dadc"
   },
   "outputs": [
    {
     "name": "stdout",
     "output_type": "stream",
     "text": [
      "0\n",
      "1\n",
      "2\n"
     ]
    }
   ],
   "source": [
    "indices = []\n",
    "for i in range(0,K):\n",
    "    ind = []\n",
    "    print(eigenvals_sorted_indices[i])\n",
    "    ind.append(eigenvals_sorted_indices[i])\n",
    "    indices.append(np.asarray(ind))"
   ]
  },
  {
   "cell_type": "markdown",
   "metadata": {
    "colab_type": "text",
    "id": "m5H3WteU96Wl"
   },
   "source": [
    "In the above code, we find out the indices of the eigenvectors corresponding to the $K$ smallest eigenvectors."
   ]
  },
  {
   "cell_type": "code",
   "execution_count": 43,
   "metadata": {
    "colab": {},
    "colab_type": "code",
    "id": "NO2k7fzRzD7u"
   },
   "outputs": [],
   "source": [
    "indices = np.asarray(indices)"
   ]
  },
  {
   "cell_type": "code",
   "execution_count": 44,
   "metadata": {
    "colab": {},
    "colab_type": "code",
    "id": "n4zaFueSviZd"
   },
   "outputs": [],
   "source": [
    "zero_eigenvals_index = np.array(indices)"
   ]
  },
  {
   "cell_type": "markdown",
   "metadata": {
    "colab_type": "text",
    "id": "7Hvtlq10bWu2"
   },
   "source": [
    "Here, the indices are arranged according to their sorted order of values and the sorted eigen values are stored in *eigenvals_sorted*."
   ]
  },
  {
   "cell_type": "code",
   "execution_count": 45,
   "metadata": {
    "colab": {
     "base_uri": "https://localhost:8080/",
     "height": 67
    },
    "colab_type": "code",
    "id": "r5LywuQNJS-a",
    "outputId": "03ba284a-2660-4f4c-e1a6-2adaf743e4b3"
   },
   "outputs": [
    {
     "data": {
      "text/plain": [
       "array([[0.01646392],\n",
       "       [0.02191162],\n",
       "       [0.13631833]])"
      ]
     },
     "execution_count": 45,
     "metadata": {},
     "output_type": "execute_result"
    }
   ],
   "source": [
    "eigenvals[zero_eigenvals_index]"
   ]
  },
  {
   "cell_type": "code",
   "execution_count": 46,
   "metadata": {
    "colab": {
     "base_uri": "https://localhost:8080/",
     "height": 195
    },
    "colab_type": "code",
    "id": "FFRDm3KxJZRq",
    "outputId": "e091e6c9-a701-4195-babe-d701be609f8d"
   },
   "outputs": [
    {
     "data": {
      "text/html": [
       "<div>\n",
       "<style scoped>\n",
       "    .dataframe tbody tr th:only-of-type {\n",
       "        vertical-align: middle;\n",
       "    }\n",
       "\n",
       "    .dataframe tbody tr th {\n",
       "        vertical-align: top;\n",
       "    }\n",
       "\n",
       "    .dataframe thead th {\n",
       "        text-align: right;\n",
       "    }\n",
       "</style>\n",
       "<table border=\"1\" class=\"dataframe\">\n",
       "  <thead>\n",
       "    <tr style=\"text-align: right;\">\n",
       "      <th></th>\n",
       "      <th>v_0</th>\n",
       "      <th>v_1</th>\n",
       "      <th>v_2</th>\n",
       "    </tr>\n",
       "  </thead>\n",
       "  <tbody>\n",
       "    <tr>\n",
       "      <th>0</th>\n",
       "      <td>-0.171509</td>\n",
       "      <td>0.000079</td>\n",
       "      <td>-0.000007</td>\n",
       "    </tr>\n",
       "    <tr>\n",
       "      <th>1</th>\n",
       "      <td>-0.147316</td>\n",
       "      <td>0.000066</td>\n",
       "      <td>-0.000002</td>\n",
       "    </tr>\n",
       "    <tr>\n",
       "      <th>2</th>\n",
       "      <td>-0.164805</td>\n",
       "      <td>0.000075</td>\n",
       "      <td>-0.000005</td>\n",
       "    </tr>\n",
       "    <tr>\n",
       "      <th>3</th>\n",
       "      <td>-0.153220</td>\n",
       "      <td>0.000069</td>\n",
       "      <td>-0.000003</td>\n",
       "    </tr>\n",
       "    <tr>\n",
       "      <th>4</th>\n",
       "      <td>-0.163594</td>\n",
       "      <td>0.000075</td>\n",
       "      <td>-0.000007</td>\n",
       "    </tr>\n",
       "  </tbody>\n",
       "</table>\n",
       "</div>"
      ],
      "text/plain": [
       "        v_0       v_1       v_2\n",
       "0 -0.171509  0.000079 -0.000007\n",
       "1 -0.147316  0.000066 -0.000002\n",
       "2 -0.164805  0.000075 -0.000005\n",
       "3 -0.153220  0.000069 -0.000003\n",
       "4 -0.163594  0.000075 -0.000007"
      ]
     },
     "execution_count": 46,
     "metadata": {},
     "output_type": "execute_result"
    }
   ],
   "source": [
    "import pandas as pd\n",
    "\n",
    "proj_df = pd.DataFrame(eigenvcts[:, zero_eigenvals_index.squeeze()])\n",
    "proj_df.columns = ['v_' + str(c) for c in proj_df.columns]\n",
    "proj_df.head()"
   ]
  },
  {
   "cell_type": "markdown",
   "metadata": {
    "colab_type": "text",
    "id": "Qri19uQ4dJBN"
   },
   "source": [
    "Stack the Eigen Vectors corresponding to the zero Eigen Values in a dataframe *proj_df*. This can be thought of as a $N X K$ matrix where the columns denote an eigen vector and the rows denote a data point."
   ]
  },
  {
   "cell_type": "markdown",
   "metadata": {
    "colab_type": "text",
    "id": "HVNDq5caWTO9"
   },
   "source": [
    "Apply *K-Means Clustering* with $K = 3$."
   ]
  },
  {
   "cell_type": "code",
   "execution_count": 47,
   "metadata": {
    "colab": {},
    "colab_type": "code",
    "id": "YSsmqs6pJv00"
   },
   "outputs": [],
   "source": [
    "from sklearn.cluster import KMeans\n",
    "\n",
    "def run_k_means(df, n_clusters):\n",
    "    k_means = KMeans(random_state=25, n_clusters=n_clusters)\n",
    "    k_means.fit(df)\n",
    "    cluster = k_means.predict(df)\n",
    "    return cluster\n",
    "\n",
    "cluster = run_k_means(proj_df, n_clusters=K)"
   ]
  },
  {
   "cell_type": "markdown",
   "metadata": {
    "colab_type": "text",
    "id": "pPnf2mI1drid"
   },
   "source": [
    "*run_k_means* applies `K-Means Clustering` on *proj_df* with number of clusters = $3$.The clustering of the data points is returned in the variable *'cluster'*."
   ]
  },
  {
   "cell_type": "markdown",
   "metadata": {
    "colab_type": "text",
    "id": "fwOidi1bWjem"
   },
   "source": [
    "Display clusters formed"
   ]
  },
  {
   "cell_type": "code",
   "execution_count": 48,
   "metadata": {
    "colab": {
     "base_uri": "https://localhost:8080/",
     "height": 101
    },
    "colab_type": "code",
    "id": "jLRKyRkfJ_U5",
    "outputId": "95c75ebd-2c40-427a-ec1e-a77a360f2f10"
   },
   "outputs": [
    {
     "name": "stdout",
     "output_type": "stream",
     "text": [
      "[1 1 1 1 1 1 1 1 1 1 1 1 1 1 1 1 1 1 1 1 1 1 1 1 1 1 1 1 1 1 1 1 1 1 1 1 1\n",
      " 1 1 1 1 2 1 1 1 1 1 1 1 1 2 2 2 2 2 2 2 2 2 2 2 2 2 2 2 2 2 2 2 2 2 2 2 2\n",
      " 2 2 2 0 2 2 2 2 2 2 2 2 2 2 2 2 2 2 2 2 2 2 2 2 2 2 0 2 0 0 0 0 2 0 0 0 0\n",
      " 0 0 2 0 0 0 0 0 2 0 2 0 2 0 0 2 2 0 0 0 0 0 2 2 0 0 0 2 0 0 0 2 0 0 0 2 0\n",
      " 0 2]\n"
     ]
    }
   ],
   "source": [
    "print(cluster)"
   ]
  },
  {
   "cell_type": "markdown",
   "metadata": {
    "colab_type": "text",
    "id": "QHQACwpQed8s"
   },
   "source": [
    "As we can see, the data points have been clustered into two subspaces: $0,1 \\, \\textrm{and} \\, 2$ corresponding to the $3$ subspaces that we have considered. "
   ]
  },
  {
   "cell_type": "code",
   "execution_count": 49,
   "metadata": {
    "colab": {
     "base_uri": "https://localhost:8080/",
     "height": 34
    },
    "colab_type": "code",
    "id": "3smn0NN4Kbk7",
    "outputId": "885cba8c-1cd8-4757-d55b-c0c61f915caa"
   },
   "outputs": [
    {
     "name": "stdout",
     "output_type": "stream",
     "text": [
      "37\n"
     ]
    }
   ],
   "source": [
    "c0 = 0\n",
    "for l in cluster:\n",
    "    if l == 0:\n",
    "        c0 += 1\n",
    "print(c0)"
   ]
  },
  {
   "cell_type": "code",
   "execution_count": 50,
   "metadata": {
    "colab": {
     "base_uri": "https://localhost:8080/",
     "height": 34
    },
    "colab_type": "code",
    "id": "F7f1v-_bofIE",
    "outputId": "048d7bfd-ca60-4623-c6e4-58723309d38e"
   },
   "outputs": [
    {
     "name": "stdout",
     "output_type": "stream",
     "text": [
      "49\n"
     ]
    }
   ],
   "source": [
    "c1 = 0\n",
    "for l in cluster:\n",
    "    if l == 1:\n",
    "        c1 += 1\n",
    "print(c1)"
   ]
  },
  {
   "cell_type": "code",
   "execution_count": 51,
   "metadata": {
    "colab": {
     "base_uri": "https://localhost:8080/",
     "height": 34
    },
    "colab_type": "code",
    "id": "jvdHX2_lok3p",
    "outputId": "04b0f636-56d3-4f5e-f953-6f32c2bb8b9e"
   },
   "outputs": [
    {
     "name": "stdout",
     "output_type": "stream",
     "text": [
      "64\n"
     ]
    }
   ],
   "source": [
    "c2 = 0\n",
    "for l in cluster:\n",
    "    if l == 2:\n",
    "        c2 += 1\n",
    "print(c2)"
   ]
  },
  {
   "cell_type": "markdown",
   "metadata": {
    "colab_type": "text",
    "id": "H36SQElze54g"
   },
   "source": [
    "$53$ data points have been labelled to the 1st subspace, $50$ data points have been labelled to the 2nd subspace and $47$ data points have been labelled to the 3rd subspace."
   ]
  },
  {
   "cell_type": "code",
   "execution_count": 52,
   "metadata": {
    "colab": {},
    "colab_type": "code",
    "id": "nU6VYuVgwTBx"
   },
   "outputs": [],
   "source": [
    "orig = iris_data.target"
   ]
  },
  {
   "cell_type": "code",
   "execution_count": 53,
   "metadata": {
    "colab": {},
    "colab_type": "code",
    "id": "Bx0uk4fAwZek"
   },
   "outputs": [],
   "source": [
    "pred = np.asarray(cluster)"
   ]
  },
  {
   "cell_type": "code",
   "execution_count": 54,
   "metadata": {
    "colab": {
     "base_uri": "https://localhost:8080/",
     "height": 50
    },
    "colab_type": "code",
    "id": "tRV6m17FxNr4",
    "outputId": "ddc02ce1-f4ef-4c7f-bacd-2f2a4c2ea29e"
   },
   "outputs": [
    {
     "name": "stdout",
     "output_type": "stream",
     "text": [
      "ARI = 0.7223514206678999\n",
      "NMI = 0.7466951615091428\n"
     ]
    },
    {
     "name": "stderr",
     "output_type": "stream",
     "text": [
      "D:\\Anaconda\\lib\\site-packages\\sklearn\\metrics\\cluster\\supervised.py:859: FutureWarning: The behavior of NMI will change in version 0.22. To match the behavior of 'v_measure_score', NMI will use average_method='arithmetic' by default.\n",
      "  FutureWarning)\n"
     ]
    }
   ],
   "source": [
    "from sklearn.metrics import adjusted_rand_score\n",
    "from sklearn.metrics import normalized_mutual_info_score\n",
    "print(\"ARI = \" + str(adjusted_rand_score(orig, pred)))\n",
    "print(\"NMI = \" + str(normalized_mutual_info_score(orig, pred)))"
   ]
  },
  {
   "cell_type": "markdown",
   "metadata": {
    "colab_type": "text",
    "id": "EAySwbU4AVGw"
   },
   "source": [
    "In the above code block, we calculate the `Adjusted random score` and the `normalized mutual info score` between the `original` and the `predicted` labels for the various data points."
   ]
  },
  {
   "cell_type": "code",
   "execution_count": 25,
   "metadata": {
    "colab": {},
    "colab_type": "code",
    "id": "p2lORg-gAVrP"
   },
   "outputs": [],
   "source": []
  }
 ],
 "metadata": {
  "colab": {
   "collapsed_sections": [],
   "name": "SSC_Vidal2013_IRIS.ipynb",
   "provenance": []
  },
  "kernelspec": {
   "display_name": "Python 3",
   "language": "python",
   "name": "python3"
  },
  "language_info": {
   "codemirror_mode": {
    "name": "ipython",
    "version": 3
   },
   "file_extension": ".py",
   "mimetype": "text/x-python",
   "name": "python",
   "nbconvert_exporter": "python",
   "pygments_lexer": "ipython3",
   "version": "3.7.3"
  }
 },
 "nbformat": 4,
 "nbformat_minor": 1
}
